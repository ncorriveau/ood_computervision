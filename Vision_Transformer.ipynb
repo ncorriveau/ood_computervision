{
  "nbformat": 4,
  "nbformat_minor": 0,
  "metadata": {
    "colab": {
      "provenance": [],
      "toc_visible": true,
      "include_colab_link": true
    },
    "kernelspec": {
      "name": "python3",
      "display_name": "Python 3"
    },
    "language_info": {
      "name": "python"
    },
    "accelerator": "GPU",
    "gpuClass": "standard",
    "widgets": {
      "application/vnd.jupyter.widget-state+json": {
        "6cf7f8864ae2422680bdb5fdcce53004": {
          "model_module": "@jupyter-widgets/controls",
          "model_name": "HBoxModel",
          "model_module_version": "1.5.0",
          "state": {
            "_dom_classes": [],
            "_model_module": "@jupyter-widgets/controls",
            "_model_module_version": "1.5.0",
            "_model_name": "HBoxModel",
            "_view_count": null,
            "_view_module": "@jupyter-widgets/controls",
            "_view_module_version": "1.5.0",
            "_view_name": "HBoxView",
            "box_style": "",
            "children": [
              "IPY_MODEL_107dc50aa1fd4e11b6141a03b0435d0c",
              "IPY_MODEL_5cdb59994c464f8ca15071d46a2ca3f1",
              "IPY_MODEL_ab3c16f838a944608f3e95d16da17e08"
            ],
            "layout": "IPY_MODEL_dfaa1399fa79457c8ab225b6341ff3a3"
          }
        },
        "107dc50aa1fd4e11b6141a03b0435d0c": {
          "model_module": "@jupyter-widgets/controls",
          "model_name": "HTMLModel",
          "model_module_version": "1.5.0",
          "state": {
            "_dom_classes": [],
            "_model_module": "@jupyter-widgets/controls",
            "_model_module_version": "1.5.0",
            "_model_name": "HTMLModel",
            "_view_count": null,
            "_view_module": "@jupyter-widgets/controls",
            "_view_module_version": "1.5.0",
            "_view_name": "HTMLView",
            "description": "",
            "description_tooltip": null,
            "layout": "IPY_MODEL_48aa0e94a8484be187566a9a4f6f20cc",
            "placeholder": "​",
            "style": "IPY_MODEL_3503e5f8dcd444c4bbad7399e91b5993",
            "value": "100%"
          }
        },
        "5cdb59994c464f8ca15071d46a2ca3f1": {
          "model_module": "@jupyter-widgets/controls",
          "model_name": "FloatProgressModel",
          "model_module_version": "1.5.0",
          "state": {
            "_dom_classes": [],
            "_model_module": "@jupyter-widgets/controls",
            "_model_module_version": "1.5.0",
            "_model_name": "FloatProgressModel",
            "_view_count": null,
            "_view_module": "@jupyter-widgets/controls",
            "_view_module_version": "1.5.0",
            "_view_name": "ProgressView",
            "bar_style": "success",
            "description": "",
            "description_tooltip": null,
            "layout": "IPY_MODEL_165f6097adb748c28075de0222ca2473",
            "max": 102540417,
            "min": 0,
            "orientation": "horizontal",
            "style": "IPY_MODEL_c3fb6b601ec049c183f1738c6c79e395",
            "value": 102540417
          }
        },
        "ab3c16f838a944608f3e95d16da17e08": {
          "model_module": "@jupyter-widgets/controls",
          "model_name": "HTMLModel",
          "model_module_version": "1.5.0",
          "state": {
            "_dom_classes": [],
            "_model_module": "@jupyter-widgets/controls",
            "_model_module_version": "1.5.0",
            "_model_name": "HTMLModel",
            "_view_count": null,
            "_view_module": "@jupyter-widgets/controls",
            "_view_module_version": "1.5.0",
            "_view_name": "HTMLView",
            "description": "",
            "description_tooltip": null,
            "layout": "IPY_MODEL_7362ffb5dc5a45fbb5cdfc5a7807e9b3",
            "placeholder": "​",
            "style": "IPY_MODEL_b04d0ace7cfb453fb090d7dca51763cd",
            "value": " 97.8M/97.8M [00:01&lt;00:00, 77.1MB/s]"
          }
        },
        "dfaa1399fa79457c8ab225b6341ff3a3": {
          "model_module": "@jupyter-widgets/base",
          "model_name": "LayoutModel",
          "model_module_version": "1.2.0",
          "state": {
            "_model_module": "@jupyter-widgets/base",
            "_model_module_version": "1.2.0",
            "_model_name": "LayoutModel",
            "_view_count": null,
            "_view_module": "@jupyter-widgets/base",
            "_view_module_version": "1.2.0",
            "_view_name": "LayoutView",
            "align_content": null,
            "align_items": null,
            "align_self": null,
            "border": null,
            "bottom": null,
            "display": null,
            "flex": null,
            "flex_flow": null,
            "grid_area": null,
            "grid_auto_columns": null,
            "grid_auto_flow": null,
            "grid_auto_rows": null,
            "grid_column": null,
            "grid_gap": null,
            "grid_row": null,
            "grid_template_areas": null,
            "grid_template_columns": null,
            "grid_template_rows": null,
            "height": null,
            "justify_content": null,
            "justify_items": null,
            "left": null,
            "margin": null,
            "max_height": null,
            "max_width": null,
            "min_height": null,
            "min_width": null,
            "object_fit": null,
            "object_position": null,
            "order": null,
            "overflow": null,
            "overflow_x": null,
            "overflow_y": null,
            "padding": null,
            "right": null,
            "top": null,
            "visibility": null,
            "width": null
          }
        },
        "48aa0e94a8484be187566a9a4f6f20cc": {
          "model_module": "@jupyter-widgets/base",
          "model_name": "LayoutModel",
          "model_module_version": "1.2.0",
          "state": {
            "_model_module": "@jupyter-widgets/base",
            "_model_module_version": "1.2.0",
            "_model_name": "LayoutModel",
            "_view_count": null,
            "_view_module": "@jupyter-widgets/base",
            "_view_module_version": "1.2.0",
            "_view_name": "LayoutView",
            "align_content": null,
            "align_items": null,
            "align_self": null,
            "border": null,
            "bottom": null,
            "display": null,
            "flex": null,
            "flex_flow": null,
            "grid_area": null,
            "grid_auto_columns": null,
            "grid_auto_flow": null,
            "grid_auto_rows": null,
            "grid_column": null,
            "grid_gap": null,
            "grid_row": null,
            "grid_template_areas": null,
            "grid_template_columns": null,
            "grid_template_rows": null,
            "height": null,
            "justify_content": null,
            "justify_items": null,
            "left": null,
            "margin": null,
            "max_height": null,
            "max_width": null,
            "min_height": null,
            "min_width": null,
            "object_fit": null,
            "object_position": null,
            "order": null,
            "overflow": null,
            "overflow_x": null,
            "overflow_y": null,
            "padding": null,
            "right": null,
            "top": null,
            "visibility": null,
            "width": null
          }
        },
        "3503e5f8dcd444c4bbad7399e91b5993": {
          "model_module": "@jupyter-widgets/controls",
          "model_name": "DescriptionStyleModel",
          "model_module_version": "1.5.0",
          "state": {
            "_model_module": "@jupyter-widgets/controls",
            "_model_module_version": "1.5.0",
            "_model_name": "DescriptionStyleModel",
            "_view_count": null,
            "_view_module": "@jupyter-widgets/base",
            "_view_module_version": "1.2.0",
            "_view_name": "StyleView",
            "description_width": ""
          }
        },
        "165f6097adb748c28075de0222ca2473": {
          "model_module": "@jupyter-widgets/base",
          "model_name": "LayoutModel",
          "model_module_version": "1.2.0",
          "state": {
            "_model_module": "@jupyter-widgets/base",
            "_model_module_version": "1.2.0",
            "_model_name": "LayoutModel",
            "_view_count": null,
            "_view_module": "@jupyter-widgets/base",
            "_view_module_version": "1.2.0",
            "_view_name": "LayoutView",
            "align_content": null,
            "align_items": null,
            "align_self": null,
            "border": null,
            "bottom": null,
            "display": null,
            "flex": null,
            "flex_flow": null,
            "grid_area": null,
            "grid_auto_columns": null,
            "grid_auto_flow": null,
            "grid_auto_rows": null,
            "grid_column": null,
            "grid_gap": null,
            "grid_row": null,
            "grid_template_areas": null,
            "grid_template_columns": null,
            "grid_template_rows": null,
            "height": null,
            "justify_content": null,
            "justify_items": null,
            "left": null,
            "margin": null,
            "max_height": null,
            "max_width": null,
            "min_height": null,
            "min_width": null,
            "object_fit": null,
            "object_position": null,
            "order": null,
            "overflow": null,
            "overflow_x": null,
            "overflow_y": null,
            "padding": null,
            "right": null,
            "top": null,
            "visibility": null,
            "width": null
          }
        },
        "c3fb6b601ec049c183f1738c6c79e395": {
          "model_module": "@jupyter-widgets/controls",
          "model_name": "ProgressStyleModel",
          "model_module_version": "1.5.0",
          "state": {
            "_model_module": "@jupyter-widgets/controls",
            "_model_module_version": "1.5.0",
            "_model_name": "ProgressStyleModel",
            "_view_count": null,
            "_view_module": "@jupyter-widgets/base",
            "_view_module_version": "1.2.0",
            "_view_name": "StyleView",
            "bar_color": null,
            "description_width": ""
          }
        },
        "7362ffb5dc5a45fbb5cdfc5a7807e9b3": {
          "model_module": "@jupyter-widgets/base",
          "model_name": "LayoutModel",
          "model_module_version": "1.2.0",
          "state": {
            "_model_module": "@jupyter-widgets/base",
            "_model_module_version": "1.2.0",
            "_model_name": "LayoutModel",
            "_view_count": null,
            "_view_module": "@jupyter-widgets/base",
            "_view_module_version": "1.2.0",
            "_view_name": "LayoutView",
            "align_content": null,
            "align_items": null,
            "align_self": null,
            "border": null,
            "bottom": null,
            "display": null,
            "flex": null,
            "flex_flow": null,
            "grid_area": null,
            "grid_auto_columns": null,
            "grid_auto_flow": null,
            "grid_auto_rows": null,
            "grid_column": null,
            "grid_gap": null,
            "grid_row": null,
            "grid_template_areas": null,
            "grid_template_columns": null,
            "grid_template_rows": null,
            "height": null,
            "justify_content": null,
            "justify_items": null,
            "left": null,
            "margin": null,
            "max_height": null,
            "max_width": null,
            "min_height": null,
            "min_width": null,
            "object_fit": null,
            "object_position": null,
            "order": null,
            "overflow": null,
            "overflow_x": null,
            "overflow_y": null,
            "padding": null,
            "right": null,
            "top": null,
            "visibility": null,
            "width": null
          }
        },
        "b04d0ace7cfb453fb090d7dca51763cd": {
          "model_module": "@jupyter-widgets/controls",
          "model_name": "DescriptionStyleModel",
          "model_module_version": "1.5.0",
          "state": {
            "_model_module": "@jupyter-widgets/controls",
            "_model_module_version": "1.5.0",
            "_model_name": "DescriptionStyleModel",
            "_view_count": null,
            "_view_module": "@jupyter-widgets/base",
            "_view_module_version": "1.2.0",
            "_view_name": "StyleView",
            "description_width": ""
          }
        },
        "63f04b40cfed460e8a818b4e2c49d261": {
          "model_module": "@jupyter-widgets/controls",
          "model_name": "HBoxModel",
          "model_module_version": "1.5.0",
          "state": {
            "_dom_classes": [],
            "_model_module": "@jupyter-widgets/controls",
            "_model_module_version": "1.5.0",
            "_model_name": "HBoxModel",
            "_view_count": null,
            "_view_module": "@jupyter-widgets/controls",
            "_view_module_version": "1.5.0",
            "_view_name": "HBoxView",
            "box_style": "",
            "children": [
              "IPY_MODEL_f76d139e9a6f49b18561378af4b1760f",
              "IPY_MODEL_33ebfbc273a546049508d784be01168d",
              "IPY_MODEL_ee6b06a96e164292b8fe93274abe25b6"
            ],
            "layout": "IPY_MODEL_7154997df0dc48b2a9429172bec46942"
          }
        },
        "f76d139e9a6f49b18561378af4b1760f": {
          "model_module": "@jupyter-widgets/controls",
          "model_name": "HTMLModel",
          "model_module_version": "1.5.0",
          "state": {
            "_dom_classes": [],
            "_model_module": "@jupyter-widgets/controls",
            "_model_module_version": "1.5.0",
            "_model_name": "HTMLModel",
            "_view_count": null,
            "_view_module": "@jupyter-widgets/controls",
            "_view_module_version": "1.5.0",
            "_view_name": "HTMLView",
            "description": "",
            "description_tooltip": null,
            "layout": "IPY_MODEL_01728a8244e443dd9971d06932ce1078",
            "placeholder": "​",
            "style": "IPY_MODEL_7100350dc7f24c1a99968b2826194953",
            "value": " 40%"
          }
        },
        "33ebfbc273a546049508d784be01168d": {
          "model_module": "@jupyter-widgets/controls",
          "model_name": "FloatProgressModel",
          "model_module_version": "1.5.0",
          "state": {
            "_dom_classes": [],
            "_model_module": "@jupyter-widgets/controls",
            "_model_module_version": "1.5.0",
            "_model_name": "FloatProgressModel",
            "_view_count": null,
            "_view_module": "@jupyter-widgets/controls",
            "_view_module_version": "1.5.0",
            "_view_name": "ProgressView",
            "bar_style": "",
            "description": "",
            "description_tooltip": null,
            "layout": "IPY_MODEL_30410cfd426b4a64a1ae79bce6562f8d",
            "max": 10,
            "min": 0,
            "orientation": "horizontal",
            "style": "IPY_MODEL_6e56801815f745ee968c57f0955a3690",
            "value": 4
          }
        },
        "ee6b06a96e164292b8fe93274abe25b6": {
          "model_module": "@jupyter-widgets/controls",
          "model_name": "HTMLModel",
          "model_module_version": "1.5.0",
          "state": {
            "_dom_classes": [],
            "_model_module": "@jupyter-widgets/controls",
            "_model_module_version": "1.5.0",
            "_model_name": "HTMLModel",
            "_view_count": null,
            "_view_module": "@jupyter-widgets/controls",
            "_view_module_version": "1.5.0",
            "_view_name": "HTMLView",
            "description": "",
            "description_tooltip": null,
            "layout": "IPY_MODEL_c26a64515c9e49e0b74cacfd18117e36",
            "placeholder": "​",
            "style": "IPY_MODEL_80392eb0d9674e2b8698e62a7581a4b8",
            "value": " 4/10 [59:22&lt;1:23:28, 834.70s/it]"
          }
        },
        "7154997df0dc48b2a9429172bec46942": {
          "model_module": "@jupyter-widgets/base",
          "model_name": "LayoutModel",
          "model_module_version": "1.2.0",
          "state": {
            "_model_module": "@jupyter-widgets/base",
            "_model_module_version": "1.2.0",
            "_model_name": "LayoutModel",
            "_view_count": null,
            "_view_module": "@jupyter-widgets/base",
            "_view_module_version": "1.2.0",
            "_view_name": "LayoutView",
            "align_content": null,
            "align_items": null,
            "align_self": null,
            "border": null,
            "bottom": null,
            "display": null,
            "flex": null,
            "flex_flow": null,
            "grid_area": null,
            "grid_auto_columns": null,
            "grid_auto_flow": null,
            "grid_auto_rows": null,
            "grid_column": null,
            "grid_gap": null,
            "grid_row": null,
            "grid_template_areas": null,
            "grid_template_columns": null,
            "grid_template_rows": null,
            "height": null,
            "justify_content": null,
            "justify_items": null,
            "left": null,
            "margin": null,
            "max_height": null,
            "max_width": null,
            "min_height": null,
            "min_width": null,
            "object_fit": null,
            "object_position": null,
            "order": null,
            "overflow": null,
            "overflow_x": null,
            "overflow_y": null,
            "padding": null,
            "right": null,
            "top": null,
            "visibility": null,
            "width": null
          }
        },
        "01728a8244e443dd9971d06932ce1078": {
          "model_module": "@jupyter-widgets/base",
          "model_name": "LayoutModel",
          "model_module_version": "1.2.0",
          "state": {
            "_model_module": "@jupyter-widgets/base",
            "_model_module_version": "1.2.0",
            "_model_name": "LayoutModel",
            "_view_count": null,
            "_view_module": "@jupyter-widgets/base",
            "_view_module_version": "1.2.0",
            "_view_name": "LayoutView",
            "align_content": null,
            "align_items": null,
            "align_self": null,
            "border": null,
            "bottom": null,
            "display": null,
            "flex": null,
            "flex_flow": null,
            "grid_area": null,
            "grid_auto_columns": null,
            "grid_auto_flow": null,
            "grid_auto_rows": null,
            "grid_column": null,
            "grid_gap": null,
            "grid_row": null,
            "grid_template_areas": null,
            "grid_template_columns": null,
            "grid_template_rows": null,
            "height": null,
            "justify_content": null,
            "justify_items": null,
            "left": null,
            "margin": null,
            "max_height": null,
            "max_width": null,
            "min_height": null,
            "min_width": null,
            "object_fit": null,
            "object_position": null,
            "order": null,
            "overflow": null,
            "overflow_x": null,
            "overflow_y": null,
            "padding": null,
            "right": null,
            "top": null,
            "visibility": null,
            "width": null
          }
        },
        "7100350dc7f24c1a99968b2826194953": {
          "model_module": "@jupyter-widgets/controls",
          "model_name": "DescriptionStyleModel",
          "model_module_version": "1.5.0",
          "state": {
            "_model_module": "@jupyter-widgets/controls",
            "_model_module_version": "1.5.0",
            "_model_name": "DescriptionStyleModel",
            "_view_count": null,
            "_view_module": "@jupyter-widgets/base",
            "_view_module_version": "1.2.0",
            "_view_name": "StyleView",
            "description_width": ""
          }
        },
        "30410cfd426b4a64a1ae79bce6562f8d": {
          "model_module": "@jupyter-widgets/base",
          "model_name": "LayoutModel",
          "model_module_version": "1.2.0",
          "state": {
            "_model_module": "@jupyter-widgets/base",
            "_model_module_version": "1.2.0",
            "_model_name": "LayoutModel",
            "_view_count": null,
            "_view_module": "@jupyter-widgets/base",
            "_view_module_version": "1.2.0",
            "_view_name": "LayoutView",
            "align_content": null,
            "align_items": null,
            "align_self": null,
            "border": null,
            "bottom": null,
            "display": null,
            "flex": null,
            "flex_flow": null,
            "grid_area": null,
            "grid_auto_columns": null,
            "grid_auto_flow": null,
            "grid_auto_rows": null,
            "grid_column": null,
            "grid_gap": null,
            "grid_row": null,
            "grid_template_areas": null,
            "grid_template_columns": null,
            "grid_template_rows": null,
            "height": null,
            "justify_content": null,
            "justify_items": null,
            "left": null,
            "margin": null,
            "max_height": null,
            "max_width": null,
            "min_height": null,
            "min_width": null,
            "object_fit": null,
            "object_position": null,
            "order": null,
            "overflow": null,
            "overflow_x": null,
            "overflow_y": null,
            "padding": null,
            "right": null,
            "top": null,
            "visibility": null,
            "width": null
          }
        },
        "6e56801815f745ee968c57f0955a3690": {
          "model_module": "@jupyter-widgets/controls",
          "model_name": "ProgressStyleModel",
          "model_module_version": "1.5.0",
          "state": {
            "_model_module": "@jupyter-widgets/controls",
            "_model_module_version": "1.5.0",
            "_model_name": "ProgressStyleModel",
            "_view_count": null,
            "_view_module": "@jupyter-widgets/base",
            "_view_module_version": "1.2.0",
            "_view_name": "StyleView",
            "bar_color": null,
            "description_width": ""
          }
        },
        "c26a64515c9e49e0b74cacfd18117e36": {
          "model_module": "@jupyter-widgets/base",
          "model_name": "LayoutModel",
          "model_module_version": "1.2.0",
          "state": {
            "_model_module": "@jupyter-widgets/base",
            "_model_module_version": "1.2.0",
            "_model_name": "LayoutModel",
            "_view_count": null,
            "_view_module": "@jupyter-widgets/base",
            "_view_module_version": "1.2.0",
            "_view_name": "LayoutView",
            "align_content": null,
            "align_items": null,
            "align_self": null,
            "border": null,
            "bottom": null,
            "display": null,
            "flex": null,
            "flex_flow": null,
            "grid_area": null,
            "grid_auto_columns": null,
            "grid_auto_flow": null,
            "grid_auto_rows": null,
            "grid_column": null,
            "grid_gap": null,
            "grid_row": null,
            "grid_template_areas": null,
            "grid_template_columns": null,
            "grid_template_rows": null,
            "height": null,
            "justify_content": null,
            "justify_items": null,
            "left": null,
            "margin": null,
            "max_height": null,
            "max_width": null,
            "min_height": null,
            "min_width": null,
            "object_fit": null,
            "object_position": null,
            "order": null,
            "overflow": null,
            "overflow_x": null,
            "overflow_y": null,
            "padding": null,
            "right": null,
            "top": null,
            "visibility": null,
            "width": null
          }
        },
        "80392eb0d9674e2b8698e62a7581a4b8": {
          "model_module": "@jupyter-widgets/controls",
          "model_name": "DescriptionStyleModel",
          "model_module_version": "1.5.0",
          "state": {
            "_model_module": "@jupyter-widgets/controls",
            "_model_module_version": "1.5.0",
            "_model_name": "DescriptionStyleModel",
            "_view_count": null,
            "_view_module": "@jupyter-widgets/base",
            "_view_module_version": "1.2.0",
            "_view_name": "StyleView",
            "description_width": ""
          }
        }
      }
    }
  },
  "cells": [
    {
      "cell_type": "markdown",
      "metadata": {
        "id": "view-in-github",
        "colab_type": "text"
      },
      "source": [
        "<a href=\"https://colab.research.google.com/github/ncorriveau/ood_computervision/blob/main/Vision_Transformer.ipynb\" target=\"_parent\"><img src=\"https://colab.research.google.com/assets/colab-badge.svg\" alt=\"Open In Colab\"/></a>"
      ]
    },
    {
      "cell_type": "markdown",
      "source": [
        "#Packages"
      ],
      "metadata": {
        "id": "5-jFzO93GLBK"
      }
    },
    {
      "cell_type": "code",
      "execution_count": 17,
      "metadata": {
        "id": "JQ4d2D7-oXN-"
      },
      "outputs": [],
      "source": [
        "import torch\n",
        "from torch import nn\n",
        "import torch\n",
        "from torch.utils.data import DataLoader\n",
        "import torchvision\n",
        "from torchvision import datasets, transforms\n",
        "\n",
        "\n",
        "import numpy as np \n",
        "import pandas as pd\n",
        "import os\n",
        "from pathlib import Path\n",
        "import random\n",
        "from PIL import Image\n",
        "from matplotlib import pyplot as plt\n",
        "import requests\n",
        "import zipfile\n",
        "import shutil\n"
      ]
    },
    {
      "cell_type": "code",
      "source": [
        "try:\n",
        "  import timm\n",
        "except:\n",
        "  !pip install timm\n",
        "  import timm"
      ],
      "metadata": {
        "colab": {
          "base_uri": "https://localhost:8080/"
        },
        "id": "NJetvD6pLKe5",
        "outputId": "30499c2a-89ac-4b5d-b7ea-0141c06e4323"
      },
      "execution_count": 14,
      "outputs": [
        {
          "output_type": "stream",
          "name": "stdout",
          "text": [
            "Looking in indexes: https://pypi.org/simple, https://us-python.pkg.dev/colab-wheels/public/simple/\n",
            "Collecting timm\n",
            "  Downloading timm-0.6.12-py3-none-any.whl (549 kB)\n",
            "\u001b[K     |████████████████████████████████| 549 kB 5.2 MB/s \n",
            "\u001b[?25hCollecting huggingface-hub\n",
            "  Downloading huggingface_hub-0.11.1-py3-none-any.whl (182 kB)\n",
            "\u001b[K     |████████████████████████████████| 182 kB 65.1 MB/s \n",
            "\u001b[?25hRequirement already satisfied: torchvision in /usr/local/lib/python3.7/dist-packages (from timm) (0.13.1+cu113)\n",
            "Requirement already satisfied: pyyaml in /usr/local/lib/python3.7/dist-packages (from timm) (6.0)\n",
            "Requirement already satisfied: torch>=1.7 in /usr/local/lib/python3.7/dist-packages (from timm) (1.12.1+cu113)\n",
            "Requirement already satisfied: typing-extensions in /usr/local/lib/python3.7/dist-packages (from torch>=1.7->timm) (4.1.1)\n",
            "Requirement already satisfied: packaging>=20.9 in /usr/local/lib/python3.7/dist-packages (from huggingface-hub->timm) (21.3)\n",
            "Requirement already satisfied: requests in /usr/local/lib/python3.7/dist-packages (from huggingface-hub->timm) (2.23.0)\n",
            "Requirement already satisfied: filelock in /usr/local/lib/python3.7/dist-packages (from huggingface-hub->timm) (3.8.0)\n",
            "Requirement already satisfied: tqdm in /usr/local/lib/python3.7/dist-packages (from huggingface-hub->timm) (4.64.1)\n",
            "Requirement already satisfied: importlib-metadata in /usr/local/lib/python3.7/dist-packages (from huggingface-hub->timm) (4.13.0)\n",
            "Requirement already satisfied: pyparsing!=3.0.5,>=2.0.2 in /usr/local/lib/python3.7/dist-packages (from packaging>=20.9->huggingface-hub->timm) (3.0.9)\n",
            "Requirement already satisfied: zipp>=0.5 in /usr/local/lib/python3.7/dist-packages (from importlib-metadata->huggingface-hub->timm) (3.10.0)\n",
            "Requirement already satisfied: urllib3!=1.25.0,!=1.25.1,<1.26,>=1.21.1 in /usr/local/lib/python3.7/dist-packages (from requests->huggingface-hub->timm) (1.24.3)\n",
            "Requirement already satisfied: idna<3,>=2.5 in /usr/local/lib/python3.7/dist-packages (from requests->huggingface-hub->timm) (2.10)\n",
            "Requirement already satisfied: certifi>=2017.4.17 in /usr/local/lib/python3.7/dist-packages (from requests->huggingface-hub->timm) (2022.9.24)\n",
            "Requirement already satisfied: chardet<4,>=3.0.2 in /usr/local/lib/python3.7/dist-packages (from requests->huggingface-hub->timm) (3.0.4)\n",
            "Requirement already satisfied: pillow!=8.3.*,>=5.3.0 in /usr/local/lib/python3.7/dist-packages (from torchvision->timm) (7.1.2)\n",
            "Requirement already satisfied: numpy in /usr/local/lib/python3.7/dist-packages (from torchvision->timm) (1.21.6)\n",
            "Installing collected packages: huggingface-hub, timm\n",
            "Successfully installed huggingface-hub-0.11.1 timm-0.6.12\n"
          ]
        }
      ]
    },
    {
      "cell_type": "code",
      "source": [
        "# Continue with regular imports\n",
        "# Try to get torchinfo, install it if it doesn't work\n",
        "try:\n",
        "    from torchinfo import summary\n",
        "except:\n",
        "    print(\"[INFO] Couldn't find torchinfo... installing it.\")\n",
        "    !pip install -q torchinfo\n",
        "    from torchinfo import summary\n",
        "\n",
        "# Try to import the going_modular directory, download it from GitHub if it doesn't work\n",
        "try:\n",
        "    from going_modular.going_modular import data_setup, engine\n",
        "except:\n",
        "    # Get the going_modular scripts\n",
        "    print(\"[INFO] Couldn't find going_modular scripts... downloading them from GitHub.\")\n",
        "    !git clone https://github.com/mrdbourke/pytorch-deep-learning\n",
        "    !mv pytorch-deep-learning/going_modular .\n",
        "    !rm -rf pytorch-deep-learning\n",
        "    from going_modular.going_modular import data_setup, engine\n"
      ],
      "metadata": {
        "colab": {
          "base_uri": "https://localhost:8080/"
        },
        "id": "44tYIACTInMz",
        "outputId": "9d724a2f-b22e-4564-84b9-24822ffd3ff9"
      },
      "execution_count": 8,
      "outputs": [
        {
          "output_type": "stream",
          "name": "stdout",
          "text": [
            "[INFO] Couldn't find torchinfo... installing it.\n",
            "[INFO] Couldn't find going_modular scripts... downloading them from GitHub.\n",
            "Cloning into 'pytorch-deep-learning'...\n",
            "remote: Enumerating objects: 3283, done.\u001b[K\n",
            "remote: Counting objects: 100% (263/263), done.\u001b[K\n",
            "remote: Compressing objects: 100% (146/146), done.\u001b[K\n",
            "remote: Total 3283 (delta 131), reused 224 (delta 110), pack-reused 3020\u001b[K\n",
            "Receiving objects: 100% (3283/3283), 645.40 MiB | 44.44 MiB/s, done.\n",
            "Resolving deltas: 100% (1861/1861), done.\n",
            "Checking out files: 100% (221/221), done.\n"
          ]
        }
      ]
    },
    {
      "cell_type": "markdown",
      "source": [
        "#Mount drive and set paths"
      ],
      "metadata": {
        "id": "jmGl_2ilF_ZZ"
      }
    },
    {
      "cell_type": "code",
      "source": [
        "from google.colab import drive\n",
        "drive.mount('/content/drive')"
      ],
      "metadata": {
        "colab": {
          "base_uri": "https://localhost:8080/"
        },
        "id": "q9Cs7ZfdodW4",
        "outputId": "92bc2583-3825-4f6c-9d35-9d5b4de5f504"
      },
      "execution_count": 2,
      "outputs": [
        {
          "output_type": "stream",
          "name": "stdout",
          "text": [
            "Mounted at /content/drive\n"
          ]
        }
      ]
    },
    {
      "cell_type": "code",
      "source": [
        "train_path = '/content/drive/MyDrive/NN and DL/projects/Released_Data/train'\n",
        "test_path = '/content/drive/MyDrive/NN and DL/projects/Released_Data/test'"
      ],
      "metadata": {
        "id": "NI55IMwsoz09"
      },
      "execution_count": 3,
      "outputs": []
    },
    {
      "cell_type": "code",
      "source": [
        "#put on gpu if available \n",
        "device = \"cuda\" if torch.cuda.is_available() else \"cpu\"\n",
        "device"
      ],
      "metadata": {
        "colab": {
          "base_uri": "https://localhost:8080/",
          "height": 36
        },
        "id": "28X8ebO5I0Eu",
        "outputId": "f63473eb-0a56-44fb-fceb-893467bad827"
      },
      "execution_count": 4,
      "outputs": [
        {
          "output_type": "execute_result",
          "data": {
            "text/plain": [
              "'cuda'"
            ],
            "application/vnd.google.colaboratory.intrinsic+json": {
              "type": "string"
            }
          },
          "metadata": {},
          "execution_count": 4
        }
      ]
    },
    {
      "cell_type": "markdown",
      "source": [
        "#Data Augmentation and Preparation \n",
        "\n",
        "This part assumes that you have already run the data preprocess notebook and have the train and test folders in a format of:\n",
        "train/superclass/subclass and test/supeclass/subclass"
      ],
      "metadata": {
        "id": "IdHaNdANpQHh"
      }
    },
    {
      "cell_type": "code",
      "source": [
        "'''uncomment this section if we move forward with more customized training.'''\n",
        "# train_transforms = train_transforms = transforms.Compose([\n",
        "#     transforms.Resize((224, 224)),\n",
        "#     transforms.RandomGrayscale(0.5),\n",
        "#     transforms.RandomAdjustSharpness(2, 0.5), # adjust sharpness by a factor of 2 with prob 0.5 of it being adjusted\n",
        "#     transforms.RandomInvert(p=0.5),\n",
        "#     transforms.RandomHorizontalFlip(p=0.5),\n",
        "#     transforms.TrivialAugmentWide(num_magnitude_bins=31), # change intensity of image with max being 31 \n",
        "#     transforms.ToTensor() # use ToTensor() last to get everything between 0 & 1\n",
        "#     transforms.Normalize((0.485, 0.456, 0.406), (0.229, 0.224, 0.225)),\n",
        "#     ])\n",
        "\n",
        "# test_transforms = transforms.Compose([\n",
        "#     transforms.Resize((224, 224)),\n",
        "#     transforms.ToTensor(),\n",
        "#     transforms.Normalize((0.485, 0.456, 0.406), (0.229, 0.224, 0.225)),\n",
        "# ])\n"
      ],
      "metadata": {
        "id": "ykR78Q0No3oF",
        "colab": {
          "base_uri": "https://localhost:8080/",
          "height": 36
        },
        "outputId": "754a2b21-6e3c-410d-9395-fc20a127913c"
      },
      "execution_count": 5,
      "outputs": [
        {
          "output_type": "execute_result",
          "data": {
            "text/plain": [
              "'uncomment this section if we move forward with more customized training.'"
            ],
            "application/vnd.google.colaboratory.intrinsic+json": {
              "type": "string"
            }
          },
          "metadata": {},
          "execution_count": 5
        }
      ]
    },
    {
      "cell_type": "code",
      "source": [
        "'''process below follows:\n",
        "https://www.learnpytorch.io/06_pytorch_transfer_learning/'''\n",
        "\n",
        "manual_transforms = transforms.Compose([\n",
        "    transforms.Resize((224, 224)), # 1. Reshape all images to 224x224 (though some models may require different sizes)\n",
        "    transforms.ToTensor(), # 2. Turn image values to between 0 & 1 \n",
        "    transforms.Normalize(mean=[0.485, 0.456, 0.406], # 3. A mean of [0.485, 0.456, 0.406] (across each colour channel)\n",
        "                         std=[0.229, 0.224, 0.225]) # 4. A standard deviation of [0.229, 0.224, 0.225] (across each colour channel),\n",
        "])"
      ],
      "metadata": {
        "id": "O5udRT3yJEsP"
      },
      "execution_count": 6,
      "outputs": []
    },
    {
      "cell_type": "code",
      "source": [
        "train_dataloader, test_dataloader, class_names = data_setup.create_dataloaders(train_dir=train_path,\n",
        "                                                                               test_dir=test_path,\n",
        "                                                                               transform=manual_transforms, # resize, convert images to between 0 & 1 and normalize them\n",
        "                                                                               batch_size=32) # set mini-batch size to 32\n",
        "\n",
        "train_dataloader, test_dataloader, class_names"
      ],
      "metadata": {
        "colab": {
          "base_uri": "https://localhost:8080/"
        },
        "id": "NVnUEaYHIBWF",
        "outputId": "90e91a61-c6f0-41fb-a4cd-2fca15041ccf"
      },
      "execution_count": 9,
      "outputs": [
        {
          "output_type": "execute_result",
          "data": {
            "text/plain": [
              "(<torch.utils.data.dataloader.DataLoader at 0x7f75efcfe1d0>,\n",
              " <torch.utils.data.dataloader.DataLoader at 0x7f75effaa290>,\n",
              " ['bird', 'dog', 'reptile'])"
            ]
          },
          "metadata": {},
          "execution_count": 9
        }
      ]
    },
    {
      "cell_type": "code",
      "source": [
        "def plot_transformed_images(image_paths, transform, n=3, seed=42):\n",
        "    \"\"\"Plots a series of random images from image_paths.\n",
        "\n",
        "    Will open n image paths from image_paths, transform them\n",
        "    with transform and plot them side by side.\n",
        "\n",
        "    Args:\n",
        "        image_paths (list): List of target image paths. \n",
        "        transform (PyTorch Transforms): Transforms to apply to images.\n",
        "        n (int, optional): Number of images to plot. Defaults to 3.\n",
        "        seed (int, optional): Random seed for the random generator. Defaults to 42.\n",
        "    \"\"\"\n",
        "\n",
        "    random.seed(seed)\n",
        "    random_image_paths = random.sample(image_paths, k=n)\n",
        "    for image_path in random_image_paths:\n",
        "        with Image.open(image_path) as f:\n",
        "            fig, ax = plt.subplots(1, 2)\n",
        "            ax[0].imshow(f) \n",
        "            ax[0].set_title(f\"Original \\nSize: {f.size}\")\n",
        "            ax[0].axis(\"off\")\n",
        "\n",
        "            # Transform and plot image\n",
        "            # Note: permute() will change shape of image to suit matplotlib \n",
        "            # (PyTorch default is [C, H, W] but Matplotlib is [H, W, C])\n",
        "            transformed_image = transform(f).permute(1, 2, 0) \n",
        "            ax[1].imshow(transformed_image) \n",
        "            ax[1].set_title(f\"Transformed \\nSize: {transformed_image.shape}\")\n",
        "            ax[1].axis(\"off\")\n",
        "\n",
        "            fig.suptitle(f\"Class: {image_path.parent.stem}\", fontsize=16)"
      ],
      "metadata": {
        "id": "eOPOdh5co-qu"
      },
      "execution_count": 10,
      "outputs": []
    },
    {
      "cell_type": "code",
      "source": [
        "#this returns a posix path to every image in our training directory \n",
        "image_paths = list(Path(train_path).glob(\"*/*/*.jpg\"))\n",
        "\n",
        "plot_transformed_images(image_paths, \n",
        "                        transform=manual_transforms,\n",
        "                        n=3)"
      ],
      "metadata": {
        "colab": {
          "base_uri": "https://localhost:8080/",
          "height": 753
        },
        "id": "v0TgZoZHpFq_",
        "outputId": "a6909cfc-fc93-401f-e0bd-e2bfb84b445c"
      },
      "execution_count": 12,
      "outputs": [
        {
          "output_type": "stream",
          "name": "stderr",
          "text": [
            "WARNING:matplotlib.image:Clipping input data to the valid range for imshow with RGB data ([0..1] for floats or [0..255] for integers).\n",
            "WARNING:matplotlib.image:Clipping input data to the valid range for imshow with RGB data ([0..1] for floats or [0..255] for integers).\n",
            "WARNING:matplotlib.image:Clipping input data to the valid range for imshow with RGB data ([0..1] for floats or [0..255] for integers).\n"
          ]
        },
        {
          "output_type": "display_data",
          "data": {
            "text/plain": [
              "<Figure size 432x288 with 2 Axes>"
            ],
            "image/png": "[encoded data removed]"
          },
          "metadata": {
            "needs_background": "light"
          }
        },
        {
          "output_type": "display_data",
          "data": {
            "text/plain": [
              "<Figure size 432x288 with 2 Axes>"
            ],
            "image/png": "[encoded data removed]"
          },
          "metadata": {
            "needs_background": "light"
          }
        },
        {
          "output_type": "display_data",
          "data": {
            "text/plain": [
              "<Figure size 432x288 with 2 Axes>"
            ],
            "image/png": "[encoded data removed]"
          },
          "metadata": {
            "needs_background": "light"
          }
        }
      ]
    },
    {
      "cell_type": "markdown",
      "source": [
        "#Apply Vision Transformer"
      ],
      "metadata": {
        "id": "MuId5xh0Kuut"
      }
    },
    {
      "cell_type": "code",
      "source": [
        "print(\"Available Vision Transformer Models: \")\n",
        "timm.list_models(\"vit*\")"
      ],
      "metadata": {
        "id": "GA5pFcNHK-pG"
      },
      "execution_count": null,
      "outputs": []
    },
    {
      "cell_type": "code",
      "source": [
        "weights = torchvision.models.ViT_L_16_Weights.IMAGENET1K_SWAG_E2E_V1.DEFAULT # .DEFAULT = best available weights from pretraining on ImageNet\n",
        "weights"
      ],
      "metadata": {
        "colab": {
          "base_uri": "https://localhost:8080/"
        },
        "id": "yxZmmxFfK8IT",
        "outputId": "82af5971-9152-44a8-af48-3fcef36dbe5b"
      },
      "execution_count": 20,
      "outputs": [
        {
          "output_type": "execute_result",
          "data": {
            "text/plain": [
              "ViT_L_16_Weights.IMAGENET1K_V1"
            ]
          },
          "metadata": {},
          "execution_count": 20
        }
      ]
    },
    {
      "cell_type": "code",
      "source": [
        "auto_transforms = weights.transforms()\n",
        "auto_transforms"
      ],
      "metadata": {
        "colab": {
          "base_uri": "https://localhost:8080/"
        },
        "id": "cXXzXGnoNBqd",
        "outputId": "29fa8eeb-435b-49ed-9cc4-91782c2cb872"
      },
      "execution_count": 21,
      "outputs": [
        {
          "output_type": "execute_result",
          "data": {
            "text/plain": [
              "ImageClassification(\n",
              "    crop_size=[224]\n",
              "    resize_size=[242]\n",
              "    mean=[0.485, 0.456, 0.406]\n",
              "    std=[0.229, 0.224, 0.225]\n",
              "    interpolation=InterpolationMode.BILINEAR\n",
              ")"
            ]
          },
          "metadata": {},
          "execution_count": 21
        }
      ]
    },
    {
      "cell_type": "code",
      "source": [
        "#create data loaders using the auto transforms from the trained model \n",
        "# Create training and testing DataLoaders as well as get a list of class names\n",
        "train_dataloader, test_dataloader, class_names = data_setup.create_dataloaders(train_dir=train_path,\n",
        "                                                                               test_dir=test_path,\n",
        "                                                                               transform=auto_transforms, # perform same data transforms on our own data as the pretrained model\n",
        "                                                                               batch_size=32) # set mini-batch size to 32\n",
        "\n",
        "train_dataloader, test_dataloader, class_names"
      ],
      "metadata": {
        "colab": {
          "base_uri": "https://localhost:8080/"
        },
        "id": "YJB43zQvOXsH",
        "outputId": "161fe602-f63e-44f5-ddb2-dfe51b8d8ca7"
      },
      "execution_count": 23,
      "outputs": [
        {
          "output_type": "execute_result",
          "data": {
            "text/plain": [
              "(<torch.utils.data.dataloader.DataLoader at 0x7f75e6cbb150>,\n",
              " <torch.utils.data.dataloader.DataLoader at 0x7f75e6b0da90>,\n",
              " ['bird', 'dog', 'reptile'])"
            ]
          },
          "metadata": {},
          "execution_count": 23
        }
      ]
    },
    {
      "cell_type": "code",
      "source": [
        "model = torchvision.models.vit_l_16(weights=weights).to(device)"
      ],
      "metadata": {
        "id": "Cslnd3Z7PvR8"
      },
      "execution_count": 36,
      "outputs": []
    },
    {
      "cell_type": "code",
      "source": [
        "model"
      ],
      "metadata": {
        "id": "sCxpnhaCQiog"
      },
      "execution_count": null,
      "outputs": []
    },
    {
      "cell_type": "code",
      "source": [
        "summary(model=model, \n",
        "        input_size=(32, 3, 224, 224), # make sure this is \"input_size\", not \"input_shape\"\n",
        "        col_names=[\"input_size\", \"output_size\", \"num_params\", \"trainable\"],\n",
        "        col_width=20,\n",
        "        row_settings=[\"var_names\"]\n",
        ")"
      ],
      "metadata": {
        "colab": {
          "base_uri": "https://localhost:8080/"
        },
        "id": "OoW2hfxyQnJK",
        "outputId": "ca14d86c-63a6-480d-b73a-cba2d23cb20c"
      },
      "execution_count": 26,
      "outputs": [
        {
          "output_type": "execute_result",
          "data": {
            "text/plain": [
              "============================================================================================================================================\n",
              "Layer (type (var_name))                                      Input Shape          Output Shape         Param #              Trainable\n",
              "============================================================================================================================================\n",
              "VisionTransformer (VisionTransformer)                        [32, 3, 224, 224]    [32, 1000]           1,024                True\n",
              "├─Conv2d (conv_proj)                                         [32, 3, 224, 224]    [32, 1024, 14, 14]   787,456              True\n",
              "├─Encoder (encoder)                                          [32, 197, 1024]      [32, 197, 1024]      201,728              True\n",
              "│    └─Dropout (dropout)                                     [32, 197, 1024]      [32, 197, 1024]      --                   --\n",
              "│    └─Sequential (layers)                                   [32, 197, 1024]      [32, 197, 1024]      --                   True\n",
              "│    │    └─EncoderBlock (encoder_layer_0)                   [32, 197, 1024]      [32, 197, 1024]      12,596,224           True\n",
              "│    │    └─EncoderBlock (encoder_layer_1)                   [32, 197, 1024]      [32, 197, 1024]      12,596,224           True\n",
              "│    │    └─EncoderBlock (encoder_layer_2)                   [32, 197, 1024]      [32, 197, 1024]      12,596,224           True\n",
              "│    │    └─EncoderBlock (encoder_layer_3)                   [32, 197, 1024]      [32, 197, 1024]      12,596,224           True\n",
              "│    │    └─EncoderBlock (encoder_layer_4)                   [32, 197, 1024]      [32, 197, 1024]      12,596,224           True\n",
              "│    │    └─EncoderBlock (encoder_layer_5)                   [32, 197, 1024]      [32, 197, 1024]      12,596,224           True\n",
              "│    │    └─EncoderBlock (encoder_layer_6)                   [32, 197, 1024]      [32, 197, 1024]      12,596,224           True\n",
              "│    │    └─EncoderBlock (encoder_layer_7)                   [32, 197, 1024]      [32, 197, 1024]      12,596,224           True\n",
              "│    │    └─EncoderBlock (encoder_layer_8)                   [32, 197, 1024]      [32, 197, 1024]      12,596,224           True\n",
              "│    │    └─EncoderBlock (encoder_layer_9)                   [32, 197, 1024]      [32, 197, 1024]      12,596,224           True\n",
              "│    │    └─EncoderBlock (encoder_layer_10)                  [32, 197, 1024]      [32, 197, 1024]      12,596,224           True\n",
              "│    │    └─EncoderBlock (encoder_layer_11)                  [32, 197, 1024]      [32, 197, 1024]      12,596,224           True\n",
              "│    │    └─EncoderBlock (encoder_layer_12)                  [32, 197, 1024]      [32, 197, 1024]      12,596,224           True\n",
              "│    │    └─EncoderBlock (encoder_layer_13)                  [32, 197, 1024]      [32, 197, 1024]      12,596,224           True\n",
              "│    │    └─EncoderBlock (encoder_layer_14)                  [32, 197, 1024]      [32, 197, 1024]      12,596,224           True\n",
              "│    │    └─EncoderBlock (encoder_layer_15)                  [32, 197, 1024]      [32, 197, 1024]      12,596,224           True\n",
              "│    │    └─EncoderBlock (encoder_layer_16)                  [32, 197, 1024]      [32, 197, 1024]      12,596,224           True\n",
              "│    │    └─EncoderBlock (encoder_layer_17)                  [32, 197, 1024]      [32, 197, 1024]      12,596,224           True\n",
              "│    │    └─EncoderBlock (encoder_layer_18)                  [32, 197, 1024]      [32, 197, 1024]      12,596,224           True\n",
              "│    │    └─EncoderBlock (encoder_layer_19)                  [32, 197, 1024]      [32, 197, 1024]      12,596,224           True\n",
              "│    │    └─EncoderBlock (encoder_layer_20)                  [32, 197, 1024]      [32, 197, 1024]      12,596,224           True\n",
              "│    │    └─EncoderBlock (encoder_layer_21)                  [32, 197, 1024]      [32, 197, 1024]      12,596,224           True\n",
              "│    │    └─EncoderBlock (encoder_layer_22)                  [32, 197, 1024]      [32, 197, 1024]      12,596,224           True\n",
              "│    │    └─EncoderBlock (encoder_layer_23)                  [32, 197, 1024]      [32, 197, 1024]      12,596,224           True\n",
              "│    └─LayerNorm (ln)                                        [32, 197, 1024]      [32, 197, 1024]      2,048                True\n",
              "├─Sequential (heads)                                         [32, 1024]           [32, 1000]           --                   True\n",
              "│    └─Linear (head)                                         [32, 1024]           [32, 1000]           1,025,000            True\n",
              "============================================================================================================================================\n",
              "Total params: 304,326,632\n",
              "Trainable params: 304,326,632\n",
              "Non-trainable params: 0\n",
              "Total mult-adds (G): 11.42\n",
              "============================================================================================================================================\n",
              "Input size (MB): 19.27\n",
              "Forward/backward pass size (MB): 8779.20\n",
              "Params size (MB): 813.45\n",
              "Estimated Total Size (MB): 9611.91\n",
              "============================================================================================================================================"
            ]
          },
          "metadata": {},
          "execution_count": 26
        }
      ]
    },
    {
      "cell_type": "code",
      "source": [
        "# Freeze all base layers in the \"features\" section of the model\n",
        "layers = [model.conv_proj.parameters(), model.encoder.parameters()]\n",
        "for layer in layers:\n",
        "  for param in layer:\n",
        "    param.requires_grad = False"
      ],
      "metadata": {
        "id": "RPFSv5QiRVLH"
      },
      "execution_count": 37,
      "outputs": []
    },
    {
      "cell_type": "code",
      "source": [
        "# Set the manual seeds\n",
        "torch.manual_seed(42)\n",
        "torch.cuda.manual_seed(42)\n",
        "\n",
        "# Get the length of class_names (one output unit for each class)\n",
        "output_shape = len(class_names)\n",
        "\n",
        "# Recreate the classifier layer and seed it to the target device\n",
        "model.heads = torch.nn.Sequential(\n",
        "    #torch.nn.Dropout(p=0.2, inplace=True), \n",
        "    torch.nn.Linear(in_features=1024, \n",
        "                    out_features=output_shape, # same number of output units as our number of classes\n",
        "                    bias=True)).to(device)"
      ],
      "metadata": {
        "id": "V3hMQRamRdog"
      },
      "execution_count": 40,
      "outputs": []
    },
    {
      "cell_type": "code",
      "source": [
        "#look at summary again after adjusting our sequential layer \n",
        "summary(model=model, \n",
        "        input_size=(32, 3, 224, 224), # make sure this is \"input_size\", not \"input_shape\"\n",
        "        col_names=[\"input_size\", \"output_size\", \"num_params\", \"trainable\"],\n",
        "        col_width=20,\n",
        "        row_settings=[\"var_names\"]\n",
        ")"
      ],
      "metadata": {
        "colab": {
          "base_uri": "https://localhost:8080/"
        },
        "id": "ykth9Z1DSx24",
        "outputId": "f95c81e1-df5e-4d30-bbe8-c6f205e82832"
      },
      "execution_count": 41,
      "outputs": [
        {
          "output_type": "execute_result",
          "data": {
            "text/plain": [
              "============================================================================================================================================\n",
              "Layer (type (var_name))                                      Input Shape          Output Shape         Param #              Trainable\n",
              "============================================================================================================================================\n",
              "VisionTransformer (VisionTransformer)                        [32, 3, 224, 224]    [32, 3]              1,024                Partial\n",
              "├─Conv2d (conv_proj)                                         [32, 3, 224, 224]    [32, 1024, 14, 14]   (787,456)            False\n",
              "├─Encoder (encoder)                                          [32, 197, 1024]      [32, 197, 1024]      201,728              False\n",
              "│    └─Dropout (dropout)                                     [32, 197, 1024]      [32, 197, 1024]      --                   --\n",
              "│    └─Sequential (layers)                                   [32, 197, 1024]      [32, 197, 1024]      --                   False\n",
              "│    │    └─EncoderBlock (encoder_layer_0)                   [32, 197, 1024]      [32, 197, 1024]      (12,596,224)         False\n",
              "│    │    └─EncoderBlock (encoder_layer_1)                   [32, 197, 1024]      [32, 197, 1024]      (12,596,224)         False\n",
              "│    │    └─EncoderBlock (encoder_layer_2)                   [32, 197, 1024]      [32, 197, 1024]      (12,596,224)         False\n",
              "│    │    └─EncoderBlock (encoder_layer_3)                   [32, 197, 1024]      [32, 197, 1024]      (12,596,224)         False\n",
              "│    │    └─EncoderBlock (encoder_layer_4)                   [32, 197, 1024]      [32, 197, 1024]      (12,596,224)         False\n",
              "│    │    └─EncoderBlock (encoder_layer_5)                   [32, 197, 1024]      [32, 197, 1024]      (12,596,224)         False\n",
              "│    │    └─EncoderBlock (encoder_layer_6)                   [32, 197, 1024]      [32, 197, 1024]      (12,596,224)         False\n",
              "│    │    └─EncoderBlock (encoder_layer_7)                   [32, 197, 1024]      [32, 197, 1024]      (12,596,224)         False\n",
              "│    │    └─EncoderBlock (encoder_layer_8)                   [32, 197, 1024]      [32, 197, 1024]      (12,596,224)         False\n",
              "│    │    └─EncoderBlock (encoder_layer_9)                   [32, 197, 1024]      [32, 197, 1024]      (12,596,224)         False\n",
              "│    │    └─EncoderBlock (encoder_layer_10)                  [32, 197, 1024]      [32, 197, 1024]      (12,596,224)         False\n",
              "│    │    └─EncoderBlock (encoder_layer_11)                  [32, 197, 1024]      [32, 197, 1024]      (12,596,224)         False\n",
              "│    │    └─EncoderBlock (encoder_layer_12)                  [32, 197, 1024]      [32, 197, 1024]      (12,596,224)         False\n",
              "│    │    └─EncoderBlock (encoder_layer_13)                  [32, 197, 1024]      [32, 197, 1024]      (12,596,224)         False\n",
              "│    │    └─EncoderBlock (encoder_layer_14)                  [32, 197, 1024]      [32, 197, 1024]      (12,596,224)         False\n",
              "│    │    └─EncoderBlock (encoder_layer_15)                  [32, 197, 1024]      [32, 197, 1024]      (12,596,224)         False\n",
              "│    │    └─EncoderBlock (encoder_layer_16)                  [32, 197, 1024]      [32, 197, 1024]      (12,596,224)         False\n",
              "│    │    └─EncoderBlock (encoder_layer_17)                  [32, 197, 1024]      [32, 197, 1024]      (12,596,224)         False\n",
              "│    │    └─EncoderBlock (encoder_layer_18)                  [32, 197, 1024]      [32, 197, 1024]      (12,596,224)         False\n",
              "│    │    └─EncoderBlock (encoder_layer_19)                  [32, 197, 1024]      [32, 197, 1024]      (12,596,224)         False\n",
              "│    │    └─EncoderBlock (encoder_layer_20)                  [32, 197, 1024]      [32, 197, 1024]      (12,596,224)         False\n",
              "│    │    └─EncoderBlock (encoder_layer_21)                  [32, 197, 1024]      [32, 197, 1024]      (12,596,224)         False\n",
              "│    │    └─EncoderBlock (encoder_layer_22)                  [32, 197, 1024]      [32, 197, 1024]      (12,596,224)         False\n",
              "│    │    └─EncoderBlock (encoder_layer_23)                  [32, 197, 1024]      [32, 197, 1024]      (12,596,224)         False\n",
              "│    └─LayerNorm (ln)                                        [32, 197, 1024]      [32, 197, 1024]      (2,048)              False\n",
              "├─Sequential (heads)                                         [32, 1024]           [32, 3]              --                   True\n",
              "│    └─Linear (0)                                            [32, 1024]           [32, 3]              3,075                True\n",
              "============================================================================================================================================\n",
              "Total params: 303,304,707\n",
              "Trainable params: 4,099\n",
              "Non-trainable params: 303,300,608\n",
              "Total mult-adds (G): 11.39\n",
              "============================================================================================================================================\n",
              "Input size (MB): 19.27\n",
              "Forward/backward pass size (MB): 8778.94\n",
              "Params size (MB): 809.36\n",
              "Estimated Total Size (MB): 9607.57\n",
              "============================================================================================================================================"
            ]
          },
          "metadata": {},
          "execution_count": 41
        }
      ]
    },
    {
      "cell_type": "code",
      "source": [
        "#set hyperparameters \n",
        "loss_fn = nn.CrossEntropyLoss()\n",
        "optimizer = torch.optim.Adam(model.parameters(), lr=0.001)"
      ],
      "metadata": {
        "id": "3KUmw6lHTRiz"
      },
      "execution_count": 42,
      "outputs": []
    },
    {
      "cell_type": "code",
      "source": [
        "torch.manual_seed(42)\n",
        "torch.cuda.manual_seed(42)\n",
        "\n",
        "# Start the timer\n",
        "from timeit import default_timer as timer \n",
        "start_time = timer()\n",
        "\n",
        "# Setup training and save the results\n",
        "results = engine.train(model=model,\n",
        "                       train_dataloader=train_dataloader,\n",
        "                       test_dataloader=test_dataloader,\n",
        "                       optimizer=optimizer,\n",
        "                       loss_fn=loss_fn,\n",
        "                       epochs=10,\n",
        "                       device=device)\n",
        "\n",
        "# End the timer and print out how long it took\n",
        "end_time = timer()\n",
        "print(f\"[INFO] Total training time: {end_time-start_time:.3f} seconds\")"
      ],
      "metadata": {
        "colab": {
          "base_uri": "https://localhost:8080/",
          "height": 118,
          "referenced_widgets": [
            "63f04b40cfed460e8a818b4e2c49d261",
            "f76d139e9a6f49b18561378af4b1760f",
            "33ebfbc273a546049508d784be01168d",
            "ee6b06a96e164292b8fe93274abe25b6",
            "7154997df0dc48b2a9429172bec46942",
            "01728a8244e443dd9971d06932ce1078",
            "7100350dc7f24c1a99968b2826194953",
            "30410cfd426b4a64a1ae79bce6562f8d",
            "6e56801815f745ee968c57f0955a3690",
            "c26a64515c9e49e0b74cacfd18117e36",
            "80392eb0d9674e2b8698e62a7581a4b8"
          ]
        },
        "id": "Y4Pkn9SGTaUc",
        "outputId": "3b6457be-4d40-425c-cae4-f6f584decede"
      },
      "execution_count": null,
      "outputs": [
        {
          "output_type": "display_data",
          "data": {
            "text/plain": [
              "  0%|          | 0/10 [00:00<?, ?it/s]"
            ],
            "application/vnd.jupyter.widget-view+json": {
              "version_major": 2,
              "version_minor": 0,
              "model_id": "63f04b40cfed460e8a818b4e2c49d261"
            }
          },
          "metadata": {}
        },
        {
          "output_type": "stream",
          "name": "stdout",
          "text": [
            "Epoch: 1 | train_loss: 1.1302 | train_acc: 0.3562 | test_loss: 1.0908 | test_acc: 0.3818\n",
            "Epoch: 2 | train_loss: 1.1050 | train_acc: 0.3773 | test_loss: 1.0800 | test_acc: 0.4056\n",
            "Epoch: 3 | train_loss: 1.0960 | train_acc: 0.3885 | test_loss: 1.0742 | test_acc: 0.4149\n",
            "Epoch: 4 | train_loss: 1.0895 | train_acc: 0.4033 | test_loss: 1.0550 | test_acc: 0.4417\n"
          ]
        }
      ]
    },
    {
      "cell_type": "code",
      "source": [
        "def save_model(model: torch.nn.Module,\n",
        "               target_dir: str,\n",
        "               model_name: str):\n",
        "  \"\"\"Saves a PyTorch model to a target directory.\n",
        "\n",
        "  Args:\n",
        "    model: A target PyTorch model to save.\n",
        "    target_dir: A directory for saving the model to.\n",
        "    model_name: A filename for the saved model. Should include\n",
        "      either \".pth\" or \".pt\" as the file extension.\n",
        "\n",
        "  Example usage:\n",
        "    save_model(model=model_0,\n",
        "               target_dir=\"models\",\n",
        "               model_name=\"05_going_modular_tingvgg_model.pth\")\n",
        "  \"\"\"\n",
        "  # Create target directory\n",
        "  target_dir_path = Path(target_dir)\n",
        "  target_dir_path.mkdir(parents=True,\n",
        "                        exist_ok=True)\n",
        "\n",
        "  # Create model save path\n",
        "  assert model_name.endswith(\".pth\") or model_name.endswith(\".pt\"), \"model_name should end with '.pt' or '.pth'\"\n",
        "  model_save_path = target_dir_path / model_name\n",
        "\n",
        "  # Save the model state_dict()\n",
        "  print(f\"[INFO] Saving model to: {model_save_path}\")\n",
        "  torch.save(obj=model.state_dict(),\n",
        "             f=model_save_path)"
      ],
      "metadata": {
        "id": "w_p6VL_TgE_R"
      },
      "execution_count": null,
      "outputs": []
    },
    {
      "cell_type": "code",
      "source": [
        "save_model(model = model,\n",
        "           target_dir ='/content/drive/MyDrive/NN and DL/projects/Released_Data/',\n",
        "           model_name = 'vit_l_16_base.pth')"
      ],
      "metadata": {
        "id": "_oYLL-_KgHl5"
      },
      "execution_count": null,
      "outputs": []
    },
    {
      "cell_type": "markdown",
      "source": [
        "#RETIRED - FINE TUNED TRAINING WITH RESNET"
      ],
      "metadata": {
        "id": "Ve9GCzlUK1aN"
      }
    },
    {
      "cell_type": "code",
      "source": [
        "from torchvision import datasets\n",
        "train_data_super_class = datasets.ImageFolder(root=train_path, transform=train_transforms)\n",
        "train_data_sub_class_dog = datasets.ImageFolder(root=train_path+'/dog', transform=train_transforms)\n",
        "train_data_sub_class_reptile = datasets.ImageFolder(root=train_path+'/reptile', transform=train_transforms)\n",
        "train_data_sub_class_bird = datasets.ImageFolder(root=train_path+'/bird', transform=train_transforms)\n",
        "\n",
        "# 2. Turn data into DataLoaders\n",
        "import os\n",
        "from torch.utils.data import DataLoader\n",
        "\n",
        "# Setup batch size and number of workers \n",
        "BATCH_SIZE = 32\n",
        "NUM_WORKERS = os.cpu_count()\n",
        "\n",
        "train_ds_super = DataLoader(train_data_super_class, \n",
        "                            batch_size=BATCH_SIZE, \n",
        "                            shuffle=True, \n",
        "                            num_workers=NUM_WORKERS)\n",
        "\n",
        "train_ds_sublcass_dog = DataLoader(train_data_sub_class_dog, \n",
        "                                  batch_size=BATCH_SIZE, \n",
        "                                  shuffle=True, \n",
        "                                  num_workers=NUM_WORKERS)\n",
        "\n",
        "\n",
        "train_ds_sublcass_bird = DataLoader(train_data_sub_class_bird, \n",
        "                                  batch_size=BATCH_SIZE, \n",
        "                                  shuffle=True, \n",
        "                                  num_workers=NUM_WORKERS)\n",
        "\n",
        "train_ds_sublcass_reptile = DataLoader(train_data_sub_class_reptile, \n",
        "                                  batch_size=BATCH_SIZE, \n",
        "                                  shuffle=True, \n",
        "                                  num_workers=NUM_WORKERS)"
      ],
      "metadata": {
        "id": "IZwJTeKRpJ6H"
      },
      "execution_count": null,
      "outputs": []
    },
    {
      "cell_type": "code",
      "source": [
        "test_data_super_class = datasets.ImageFolder(root=test_path, transform=test_transforms)\n",
        "test_data_sub_class_dog = datasets.ImageFolder(root=test_path+'/dog', transform=test_transforms)\n",
        "test_data_sub_class_reptile = datasets.ImageFolder(root=test_path+'/reptile', transform=test_transforms)\n",
        "test_data_sub_class_bird = datasets.ImageFolder(root=test_path+'/bird', transform=test_transforms)\n",
        "\n",
        "# 2. Turn data into DataLoaders\n",
        "import os\n",
        "from torch.utils.data import DataLoader\n",
        "\n",
        "# Setup batch size and number of workers \n",
        "BATCH_SIZE = 32\n",
        "NUM_WORKERS = os.cpu_count()\n",
        "\n",
        "test_ds_super = DataLoader(test_data_super_class, \n",
        "                            batch_size=BATCH_SIZE, \n",
        "                            shuffle=True, \n",
        "                            num_workers=NUM_WORKERS)\n",
        "\n",
        "test_ds_sublcass_dog =DataLoader(test_data_sub_class_dog, \n",
        "                                  batch_size=BATCH_SIZE, \n",
        "                                  shuffle=True, \n",
        "                                  num_workers=NUM_WORKERS)\n",
        "\n",
        "\n",
        "test_ds_sublcass_bird =DataLoader(test_data_sub_class_bird, \n",
        "                                  batch_size=BATCH_SIZE, \n",
        "                                  shuffle=True, \n",
        "                                  num_workers=NUM_WORKERS)\n",
        "\n",
        "test_ds_sublcass_reptile =DataLoader(test_data_sub_class_reptile, \n",
        "                                  batch_size=BATCH_SIZE, \n",
        "                                  shuffle=True, \n",
        "                                  num_workers=NUM_WORKERS)"
      ],
      "metadata": {
        "id": "IuflwiBv0WFL"
      },
      "execution_count": null,
      "outputs": []
    },
    {
      "cell_type": "code",
      "source": [
        "import torch\n",
        "import torchvision\n",
        "try:\n",
        "    from torchinfo import summary\n",
        "except:\n",
        "    print(\"[INFO] Couldn't find torchinfo... installing it.\")\n",
        "    !pip install -q torchinfo\n",
        "    from torchinfo import summary\n",
        "\n",
        "# Try to import the going_modular directory, download it from GitHub if it doesn't work\n",
        "try:\n",
        "    from going_modular.going_modular import data_setup, engine\n",
        "except:\n",
        "    # Get the going_modular scripts\n",
        "    print(\"[INFO] Couldn't find going_modular scripts... downloading them from GitHub.\")\n",
        "    !git clone https://github.com/mrdbourke/pytorch-deep-learning\n",
        "    !mv pytorch-deep-learning/going_modular .\n",
        "    !rm -rf pytorch-deep-learning\n",
        "    from going_modular.going_modular import data_setup, engine"
      ],
      "metadata": {
        "colab": {
          "base_uri": "https://localhost:8080/"
        },
        "id": "XVCJhLW4rAab",
        "outputId": "f584c06f-610a-4a3b-9f5c-2ea38c400a8c"
      },
      "execution_count": null,
      "outputs": [
        {
          "output_type": "stream",
          "name": "stdout",
          "text": [
            "[INFO] Couldn't find torchinfo... installing it.\n",
            "[INFO] Couldn't find going_modular scripts... downloading them from GitHub.\n",
            "Cloning into 'pytorch-deep-learning'...\n",
            "remote: Enumerating objects: 3273, done.\u001b[K\n",
            "remote: Counting objects: 100% (253/253), done.\u001b[K\n",
            "remote: Compressing objects: 100% (144/144), done.\u001b[K\n",
            "remote: Total 3273 (delta 124), reused 213 (delta 102), pack-reused 3020\u001b[K\n",
            "Receiving objects: 100% (3273/3273), 645.38 MiB | 17.28 MiB/s, done.\n",
            "Resolving deltas: 100% (1854/1854), done.\n",
            "Checking out files: 100% (221/221), done.\n"
          ]
        }
      ]
    },
    {
      "cell_type": "code",
      "source": [
        "#get the model from pytorch repository\n",
        "model = torchvision.models.resnet50(weights='DEFAULT').to(device)"
      ],
      "metadata": {
        "id": "cfQrKYIIp3Tt",
        "colab": {
          "base_uri": "https://localhost:8080/",
          "height": 67,
          "referenced_widgets": [
            "6cf7f8864ae2422680bdb5fdcce53004",
            "107dc50aa1fd4e11b6141a03b0435d0c",
            "5cdb59994c464f8ca15071d46a2ca3f1",
            "ab3c16f838a944608f3e95d16da17e08",
            "dfaa1399fa79457c8ab225b6341ff3a3",
            "48aa0e94a8484be187566a9a4f6f20cc",
            "3503e5f8dcd444c4bbad7399e91b5993",
            "165f6097adb748c28075de0222ca2473",
            "c3fb6b601ec049c183f1738c6c79e395",
            "7362ffb5dc5a45fbb5cdfc5a7807e9b3",
            "b04d0ace7cfb453fb090d7dca51763cd"
          ]
        },
        "outputId": "850a8fb1-cc4f-4a76-a2a3-b9d5055e091b"
      },
      "execution_count": null,
      "outputs": [
        {
          "output_type": "stream",
          "name": "stderr",
          "text": [
            "Downloading: \"https://download.pytorch.org/models/resnet50-11ad3fa6.pth\" to /root/.cache/torch/hub/checkpoints/resnet50-11ad3fa6.pth\n"
          ]
        },
        {
          "output_type": "display_data",
          "data": {
            "text/plain": [
              "  0%|          | 0.00/97.8M [00:00<?, ?B/s]"
            ],
            "application/vnd.jupyter.widget-view+json": {
              "version_major": 2,
              "version_minor": 0,
              "model_id": "6cf7f8864ae2422680bdb5fdcce53004"
            }
          },
          "metadata": {}
        }
      ]
    },
    {
      "cell_type": "code",
      "source": [
        "summary(model=model, \n",
        "        input_size=(32, 3, 8, 8), # make sure this is \"input_size\", not \"input_shape\"\n",
        "        col_names=[\"input_size\"],\n",
        "        col_width=20,\n",
        "        row_settings=[\"var_names\"]\n",
        "        )"
      ],
      "metadata": {
        "colab": {
          "base_uri": "https://localhost:8080/"
        },
        "id": "k0fe6hOjrLVv",
        "outputId": "61d74c98-6c82-45f4-8ef8-e9d608f735d9"
      },
      "execution_count": null,
      "outputs": [
        {
          "output_type": "execute_result",
          "data": {
            "text/plain": [
              "============================================================\n",
              "Layer (type (var_name))                  Input Shape\n",
              "============================================================\n",
              "ResNet (ResNet)                          [32, 3, 8, 8]\n",
              "├─Conv2d (conv1)                         [32, 3, 8, 8]\n",
              "├─BatchNorm2d (bn1)                      [32, 64, 4, 4]\n",
              "├─ReLU (relu)                            [32, 64, 4, 4]\n",
              "├─MaxPool2d (maxpool)                    [32, 64, 4, 4]\n",
              "├─Sequential (layer1)                    [32, 64, 2, 2]\n",
              "│    └─Bottleneck (0)                    [32, 64, 2, 2]\n",
              "│    │    └─Conv2d (conv1)               [32, 64, 2, 2]\n",
              "│    │    └─BatchNorm2d (bn1)            [32, 64, 2, 2]\n",
              "│    │    └─ReLU (relu)                  [32, 64, 2, 2]\n",
              "│    │    └─Conv2d (conv2)               [32, 64, 2, 2]\n",
              "│    │    └─BatchNorm2d (bn2)            [32, 64, 2, 2]\n",
              "│    │    └─ReLU (relu)                  [32, 64, 2, 2]\n",
              "│    │    └─Conv2d (conv3)               [32, 64, 2, 2]\n",
              "│    │    └─BatchNorm2d (bn3)            [32, 256, 2, 2]\n",
              "│    │    └─Sequential (downsample)      [32, 64, 2, 2]\n",
              "│    │    └─ReLU (relu)                  [32, 256, 2, 2]\n",
              "│    └─Bottleneck (1)                    [32, 256, 2, 2]\n",
              "│    │    └─Conv2d (conv1)               [32, 256, 2, 2]\n",
              "│    │    └─BatchNorm2d (bn1)            [32, 64, 2, 2]\n",
              "│    │    └─ReLU (relu)                  [32, 64, 2, 2]\n",
              "│    │    └─Conv2d (conv2)               [32, 64, 2, 2]\n",
              "│    │    └─BatchNorm2d (bn2)            [32, 64, 2, 2]\n",
              "│    │    └─ReLU (relu)                  [32, 64, 2, 2]\n",
              "│    │    └─Conv2d (conv3)               [32, 64, 2, 2]\n",
              "│    │    └─BatchNorm2d (bn3)            [32, 256, 2, 2]\n",
              "│    │    └─ReLU (relu)                  [32, 256, 2, 2]\n",
              "│    └─Bottleneck (2)                    [32, 256, 2, 2]\n",
              "│    │    └─Conv2d (conv1)               [32, 256, 2, 2]\n",
              "│    │    └─BatchNorm2d (bn1)            [32, 64, 2, 2]\n",
              "│    │    └─ReLU (relu)                  [32, 64, 2, 2]\n",
              "│    │    └─Conv2d (conv2)               [32, 64, 2, 2]\n",
              "│    │    └─BatchNorm2d (bn2)            [32, 64, 2, 2]\n",
              "│    │    └─ReLU (relu)                  [32, 64, 2, 2]\n",
              "│    │    └─Conv2d (conv3)               [32, 64, 2, 2]\n",
              "│    │    └─BatchNorm2d (bn3)            [32, 256, 2, 2]\n",
              "│    │    └─ReLU (relu)                  [32, 256, 2, 2]\n",
              "├─Sequential (layer2)                    [32, 256, 2, 2]\n",
              "│    └─Bottleneck (0)                    [32, 256, 2, 2]\n",
              "│    │    └─Conv2d (conv1)               [32, 256, 2, 2]\n",
              "│    │    └─BatchNorm2d (bn1)            [32, 128, 2, 2]\n",
              "│    │    └─ReLU (relu)                  [32, 128, 2, 2]\n",
              "│    │    └─Conv2d (conv2)               [32, 128, 2, 2]\n",
              "│    │    └─BatchNorm2d (bn2)            [32, 128, 1, 1]\n",
              "│    │    └─ReLU (relu)                  [32, 128, 1, 1]\n",
              "│    │    └─Conv2d (conv3)               [32, 128, 1, 1]\n",
              "│    │    └─BatchNorm2d (bn3)            [32, 512, 1, 1]\n",
              "│    │    └─Sequential (downsample)      [32, 256, 2, 2]\n",
              "│    │    └─ReLU (relu)                  [32, 512, 1, 1]\n",
              "│    └─Bottleneck (1)                    [32, 512, 1, 1]\n",
              "│    │    └─Conv2d (conv1)               [32, 512, 1, 1]\n",
              "│    │    └─BatchNorm2d (bn1)            [32, 128, 1, 1]\n",
              "│    │    └─ReLU (relu)                  [32, 128, 1, 1]\n",
              "│    │    └─Conv2d (conv2)               [32, 128, 1, 1]\n",
              "│    │    └─BatchNorm2d (bn2)            [32, 128, 1, 1]\n",
              "│    │    └─ReLU (relu)                  [32, 128, 1, 1]\n",
              "│    │    └─Conv2d (conv3)               [32, 128, 1, 1]\n",
              "│    │    └─BatchNorm2d (bn3)            [32, 512, 1, 1]\n",
              "│    │    └─ReLU (relu)                  [32, 512, 1, 1]\n",
              "│    └─Bottleneck (2)                    [32, 512, 1, 1]\n",
              "│    │    └─Conv2d (conv1)               [32, 512, 1, 1]\n",
              "│    │    └─BatchNorm2d (bn1)            [32, 128, 1, 1]\n",
              "│    │    └─ReLU (relu)                  [32, 128, 1, 1]\n",
              "│    │    └─Conv2d (conv2)               [32, 128, 1, 1]\n",
              "│    │    └─BatchNorm2d (bn2)            [32, 128, 1, 1]\n",
              "│    │    └─ReLU (relu)                  [32, 128, 1, 1]\n",
              "│    │    └─Conv2d (conv3)               [32, 128, 1, 1]\n",
              "│    │    └─BatchNorm2d (bn3)            [32, 512, 1, 1]\n",
              "│    │    └─ReLU (relu)                  [32, 512, 1, 1]\n",
              "│    └─Bottleneck (3)                    [32, 512, 1, 1]\n",
              "│    │    └─Conv2d (conv1)               [32, 512, 1, 1]\n",
              "│    │    └─BatchNorm2d (bn1)            [32, 128, 1, 1]\n",
              "│    │    └─ReLU (relu)                  [32, 128, 1, 1]\n",
              "│    │    └─Conv2d (conv2)               [32, 128, 1, 1]\n",
              "│    │    └─BatchNorm2d (bn2)            [32, 128, 1, 1]\n",
              "│    │    └─ReLU (relu)                  [32, 128, 1, 1]\n",
              "│    │    └─Conv2d (conv3)               [32, 128, 1, 1]\n",
              "│    │    └─BatchNorm2d (bn3)            [32, 512, 1, 1]\n",
              "│    │    └─ReLU (relu)                  [32, 512, 1, 1]\n",
              "├─Sequential (layer3)                    [32, 512, 1, 1]\n",
              "│    └─Bottleneck (0)                    [32, 512, 1, 1]\n",
              "│    │    └─Conv2d (conv1)               [32, 512, 1, 1]\n",
              "│    │    └─BatchNorm2d (bn1)            [32, 256, 1, 1]\n",
              "│    │    └─ReLU (relu)                  [32, 256, 1, 1]\n",
              "│    │    └─Conv2d (conv2)               [32, 256, 1, 1]\n",
              "│    │    └─BatchNorm2d (bn2)            [32, 256, 1, 1]\n",
              "│    │    └─ReLU (relu)                  [32, 256, 1, 1]\n",
              "│    │    └─Conv2d (conv3)               [32, 256, 1, 1]\n",
              "│    │    └─BatchNorm2d (bn3)            [32, 1024, 1, 1]\n",
              "│    │    └─Sequential (downsample)      [32, 512, 1, 1]\n",
              "│    │    └─ReLU (relu)                  [32, 1024, 1, 1]\n",
              "│    └─Bottleneck (1)                    [32, 1024, 1, 1]\n",
              "│    │    └─Conv2d (conv1)               [32, 1024, 1, 1]\n",
              "│    │    └─BatchNorm2d (bn1)            [32, 256, 1, 1]\n",
              "│    │    └─ReLU (relu)                  [32, 256, 1, 1]\n",
              "│    │    └─Conv2d (conv2)               [32, 256, 1, 1]\n",
              "│    │    └─BatchNorm2d (bn2)            [32, 256, 1, 1]\n",
              "│    │    └─ReLU (relu)                  [32, 256, 1, 1]\n",
              "│    │    └─Conv2d (conv3)               [32, 256, 1, 1]\n",
              "│    │    └─BatchNorm2d (bn3)            [32, 1024, 1, 1]\n",
              "│    │    └─ReLU (relu)                  [32, 1024, 1, 1]\n",
              "│    └─Bottleneck (2)                    [32, 1024, 1, 1]\n",
              "│    │    └─Conv2d (conv1)               [32, 1024, 1, 1]\n",
              "│    │    └─BatchNorm2d (bn1)            [32, 256, 1, 1]\n",
              "│    │    └─ReLU (relu)                  [32, 256, 1, 1]\n",
              "│    │    └─Conv2d (conv2)               [32, 256, 1, 1]\n",
              "│    │    └─BatchNorm2d (bn2)            [32, 256, 1, 1]\n",
              "│    │    └─ReLU (relu)                  [32, 256, 1, 1]\n",
              "│    │    └─Conv2d (conv3)               [32, 256, 1, 1]\n",
              "│    │    └─BatchNorm2d (bn3)            [32, 1024, 1, 1]\n",
              "│    │    └─ReLU (relu)                  [32, 1024, 1, 1]\n",
              "│    └─Bottleneck (3)                    [32, 1024, 1, 1]\n",
              "│    │    └─Conv2d (conv1)               [32, 1024, 1, 1]\n",
              "│    │    └─BatchNorm2d (bn1)            [32, 256, 1, 1]\n",
              "│    │    └─ReLU (relu)                  [32, 256, 1, 1]\n",
              "│    │    └─Conv2d (conv2)               [32, 256, 1, 1]\n",
              "│    │    └─BatchNorm2d (bn2)            [32, 256, 1, 1]\n",
              "│    │    └─ReLU (relu)                  [32, 256, 1, 1]\n",
              "│    │    └─Conv2d (conv3)               [32, 256, 1, 1]\n",
              "│    │    └─BatchNorm2d (bn3)            [32, 1024, 1, 1]\n",
              "│    │    └─ReLU (relu)                  [32, 1024, 1, 1]\n",
              "│    └─Bottleneck (4)                    [32, 1024, 1, 1]\n",
              "│    │    └─Conv2d (conv1)               [32, 1024, 1, 1]\n",
              "│    │    └─BatchNorm2d (bn1)            [32, 256, 1, 1]\n",
              "│    │    └─ReLU (relu)                  [32, 256, 1, 1]\n",
              "│    │    └─Conv2d (conv2)               [32, 256, 1, 1]\n",
              "│    │    └─BatchNorm2d (bn2)            [32, 256, 1, 1]\n",
              "│    │    └─ReLU (relu)                  [32, 256, 1, 1]\n",
              "│    │    └─Conv2d (conv3)               [32, 256, 1, 1]\n",
              "│    │    └─BatchNorm2d (bn3)            [32, 1024, 1, 1]\n",
              "│    │    └─ReLU (relu)                  [32, 1024, 1, 1]\n",
              "│    └─Bottleneck (5)                    [32, 1024, 1, 1]\n",
              "│    │    └─Conv2d (conv1)               [32, 1024, 1, 1]\n",
              "│    │    └─BatchNorm2d (bn1)            [32, 256, 1, 1]\n",
              "│    │    └─ReLU (relu)                  [32, 256, 1, 1]\n",
              "│    │    └─Conv2d (conv2)               [32, 256, 1, 1]\n",
              "│    │    └─BatchNorm2d (bn2)            [32, 256, 1, 1]\n",
              "│    │    └─ReLU (relu)                  [32, 256, 1, 1]\n",
              "│    │    └─Conv2d (conv3)               [32, 256, 1, 1]\n",
              "│    │    └─BatchNorm2d (bn3)            [32, 1024, 1, 1]\n",
              "│    │    └─ReLU (relu)                  [32, 1024, 1, 1]\n",
              "├─Sequential (layer4)                    [32, 1024, 1, 1]\n",
              "│    └─Bottleneck (0)                    [32, 1024, 1, 1]\n",
              "│    │    └─Conv2d (conv1)               [32, 1024, 1, 1]\n",
              "│    │    └─BatchNorm2d (bn1)            [32, 512, 1, 1]\n",
              "│    │    └─ReLU (relu)                  [32, 512, 1, 1]\n",
              "│    │    └─Conv2d (conv2)               [32, 512, 1, 1]\n",
              "│    │    └─BatchNorm2d (bn2)            [32, 512, 1, 1]\n",
              "│    │    └─ReLU (relu)                  [32, 512, 1, 1]\n",
              "│    │    └─Conv2d (conv3)               [32, 512, 1, 1]\n",
              "│    │    └─BatchNorm2d (bn3)            [32, 2048, 1, 1]\n",
              "│    │    └─Sequential (downsample)      [32, 1024, 1, 1]\n",
              "│    │    └─ReLU (relu)                  [32, 2048, 1, 1]\n",
              "│    └─Bottleneck (1)                    [32, 2048, 1, 1]\n",
              "│    │    └─Conv2d (conv1)               [32, 2048, 1, 1]\n",
              "│    │    └─BatchNorm2d (bn1)            [32, 512, 1, 1]\n",
              "│    │    └─ReLU (relu)                  [32, 512, 1, 1]\n",
              "│    │    └─Conv2d (conv2)               [32, 512, 1, 1]\n",
              "│    │    └─BatchNorm2d (bn2)            [32, 512, 1, 1]\n",
              "│    │    └─ReLU (relu)                  [32, 512, 1, 1]\n",
              "│    │    └─Conv2d (conv3)               [32, 512, 1, 1]\n",
              "│    │    └─BatchNorm2d (bn3)            [32, 2048, 1, 1]\n",
              "│    │    └─ReLU (relu)                  [32, 2048, 1, 1]\n",
              "│    └─Bottleneck (2)                    [32, 2048, 1, 1]\n",
              "│    │    └─Conv2d (conv1)               [32, 2048, 1, 1]\n",
              "│    │    └─BatchNorm2d (bn1)            [32, 512, 1, 1]\n",
              "│    │    └─ReLU (relu)                  [32, 512, 1, 1]\n",
              "│    │    └─Conv2d (conv2)               [32, 512, 1, 1]\n",
              "│    │    └─BatchNorm2d (bn2)            [32, 512, 1, 1]\n",
              "│    │    └─ReLU (relu)                  [32, 512, 1, 1]\n",
              "│    │    └─Conv2d (conv3)               [32, 512, 1, 1]\n",
              "│    │    └─BatchNorm2d (bn3)            [32, 2048, 1, 1]\n",
              "│    │    └─ReLU (relu)                  [32, 2048, 1, 1]\n",
              "├─AdaptiveAvgPool2d (avgpool)            [32, 2048, 1, 1]\n",
              "├─Linear (fc)                            [32, 2048]\n",
              "============================================================\n",
              "Total params: 25,557,032\n",
              "Trainable params: 25,557,032\n",
              "Non-trainable params: 0\n",
              "Total mult-adds (M): 845.93\n",
              "============================================================\n",
              "Input size (MB): 0.02\n",
              "Forward/backward pass size (MB): 16.71\n",
              "Params size (MB): 102.23\n",
              "Estimated Total Size (MB): 118.96\n",
              "============================================================"
            ]
          },
          "metadata": {},
          "execution_count": 10
        }
      ]
    },
    {
      "cell_type": "code",
      "source": [
        "torch.manual_seed(42)\n",
        "torch.cuda.manual_seed(42)\n",
        "class_names = os.listdir(train_path)\n",
        "\n",
        "\n",
        "# Get the length of class_names (one output unit for each class)\n",
        "output_shape = len(class_names)\n",
        "for param in model.parameters():\n",
        "  param.requires_grad = False"
      ],
      "metadata": {
        "id": "oC_bI_0jtZtw"
      },
      "execution_count": null,
      "outputs": []
    },
    {
      "cell_type": "code",
      "source": [
        "model.fc\n",
        "model.fc = torch.nn.Sequential(\n",
        "    torch.nn.Dropout(p=0.2, inplace=True), \n",
        "    torch.nn.Linear(in_features=2048, \n",
        "                    out_features=output_shape, # same number of output units as our number of classes\n",
        "                    bias=True)).to(device)"
      ],
      "metadata": {
        "id": "ZTNl3EPoqvbP"
      },
      "execution_count": null,
      "outputs": []
    },
    {
      "cell_type": "code",
      "source": [
        "summary(model=model, \n",
        "        input_size=(32, 3, 8, 8), # make sure this is \"input_size\", not \"input_shape\"\n",
        "        col_names=[\"input_size\"],\n",
        "        col_width=20,\n",
        "        row_settings=[\"var_names\"]\n",
        "      )"
      ],
      "metadata": {
        "id": "TXu5wZA_uo1_"
      },
      "execution_count": null,
      "outputs": []
    },
    {
      "cell_type": "code",
      "source": [
        "from __future__ import print_function\n",
        "from __future__ import division\n",
        "import torch\n",
        "import torch.nn as nn\n",
        "import torch.optim as optim\n",
        "import numpy as np\n",
        "import torchvision\n",
        "from torchvision import datasets, models, transforms\n",
        "import matplotlib.pyplot as plt\n",
        "import time\n",
        "import os\n",
        "import copy\n",
        "\n",
        "def train_model(model, dataloaders, criterion, optimizer, num_epochs=25):\n",
        "    since = time.time()\n",
        "\n",
        "    val_acc_history = []\n",
        "\n",
        "    best_model_wts = copy.deepcopy(model.state_dict())\n",
        "    best_acc = 0.0\n",
        "\n",
        "    for epoch in range(num_epochs):\n",
        "        print('Epoch {}/{}'.format(epoch, num_epochs - 1))\n",
        "        print('-' * 10)\n",
        "\n",
        "        # Each epoch has a training and validation phase\n",
        "        for phase in ['train', 'val']:\n",
        "            if phase == 'train':\n",
        "                model.train()  # Set model to training mode\n",
        "            else:\n",
        "                model.eval()   # Set model to evaluate mode\n",
        "\n",
        "            running_loss = 0.0\n",
        "            running_corrects = 0\n",
        "            running_count = 0\n",
        "\n",
        "            # Iterate over data.\n",
        "            for inputs, labels in dataloaders[phase]:\n",
        "                running_count+=1\n",
        "                print(f\"Iteration {running_count} in epoch\")\n",
        "                #print(f\"loading training labels\")\n",
        "                inputs = inputs.to(device)\n",
        "                labels = labels.to(device)\n",
        "\n",
        "                # zero the parameter gradients\n",
        "                optimizer.zero_grad()\n",
        "\n",
        "                # forward\n",
        "                # track history if only in train\n",
        "                with torch.set_grad_enabled(phase == 'train'):\n",
        "                    # Get model outputs and calculate loss\n",
        "                    outputs = model(inputs)\n",
        "                    loss = criterion(outputs, labels)\n",
        "                    # if running_count%100==0:\n",
        "                    #   print(f\"most recent loss is /n{loss}\")\n",
        "                    _, preds = torch.max(outputs, 1)\n",
        "\n",
        "                    # backward + optimize only if in training phase\n",
        "                    if phase == 'train':\n",
        "                        loss.backward()\n",
        "                        optimizer.step()\n",
        "\n",
        "                # statistics\n",
        "                running_loss += loss.item() * inputs.size(0)\n",
        "                running_corrects += torch.sum(preds == labels.data)\n",
        "\n",
        "            epoch_loss = running_loss / len(dataloaders[phase].dataset)\n",
        "            epoch_acc = running_corrects.double() / len(dataloaders[phase].dataset)\n",
        "\n",
        "            print('{} Loss: {:.4f} Acc: {:.4f}'.format(phase, epoch_loss, epoch_acc))\n",
        "\n",
        "            # deep copy the model\n",
        "            if phase == 'val' and epoch_acc > best_acc:\n",
        "                best_acc = epoch_acc\n",
        "                best_model_wts = copy.deepcopy(model.state_dict())\n",
        "            if phase == 'val':\n",
        "                val_acc_history.append(epoch_acc)\n",
        "\n",
        "        print()\n",
        "\n",
        "    time_elapsed = time.time() - since\n",
        "    print('Training complete in {:.0f}m {:.0f}s'.format(time_elapsed // 60, time_elapsed % 60))\n",
        "    print('Best val Acc: {:4f}'.format(best_acc))\n",
        "\n",
        "    # load best model weights\n",
        "    model.load_state_dict(best_model_wts)\n",
        "    return model, val_acc_history"
      ],
      "metadata": {
        "id": "KuSpTvUy6u2P"
      },
      "execution_count": null,
      "outputs": []
    },
    {
      "cell_type": "code",
      "source": [
        "import torch.optim as optim\n",
        "# Set the random seeds\n",
        "torch.manual_seed(42)\n",
        "torch.cuda.manual_seed(42)\n",
        "\n",
        "# Define loss and optimizer\n",
        "loss_fn = nn.CrossEntropyLoss()\n",
        "optimizer = torch.optim.Adam(model.parameters(), lr=0.001)\n",
        "\n",
        "params_to_update = model.parameters()\n",
        "print(\"Params to learn:\")\n",
        "\n",
        "params_to_update = []\n",
        "for name,param in model.named_parameters():\n",
        "  if param.requires_grad == True:\n",
        "        params_to_update.append(param)\n",
        "        print(\"\\t\",name)\n",
        "\n",
        "\n",
        "# Observe that all parameters are being optimized\n",
        "optimizer_ft = optim.SGD(params_to_update, lr=0.001, momentum=0.9)\n",
        "dataloaders = {\"train\": train_ds_super, \"val\": test_ds_super}\n",
        "train_model(model, dataloaders, loss_fn, optimizer, num_epochs=25)\n"
      ],
      "metadata": {
        "id": "z2EsOHF4u708"
      },
      "execution_count": null,
      "outputs": []
    },
    {
      "cell_type": "code",
      "source": [
        "torch.save(model.state_dict(), '/content/drive/MyDrive/NN and DL/projects/Released_Data')"
      ],
      "metadata": {
        "id": "VygrlvTttW-F",
        "colab": {
          "base_uri": "https://localhost:8080/",
          "height": 320
        },
        "outputId": "518e9582-b9a8-4595-a206-d74fc52aa2f8"
      },
      "execution_count": null,
      "outputs": [
        {
          "output_type": "error",
          "ename": "IsADirectoryError",
          "evalue": "ignored",
          "traceback": [
            "\u001b[0;31m---------------------------------------------------------------------------\u001b[0m",
            "\u001b[0;31mIsADirectoryError\u001b[0m                         Traceback (most recent call last)",
            "\u001b[0;32m<ipython-input-26-b7beae52d381>\u001b[0m in \u001b[0;36m<module>\u001b[0;34m\u001b[0m\n\u001b[0;32m----> 1\u001b[0;31m \u001b[0mtorch\u001b[0m\u001b[0;34m.\u001b[0m\u001b[0msave\u001b[0m\u001b[0;34m(\u001b[0m\u001b[0mmodel\u001b[0m\u001b[0;34m.\u001b[0m\u001b[0mstate_dict\u001b[0m\u001b[0;34m(\u001b[0m\u001b[0;34m)\u001b[0m\u001b[0;34m,\u001b[0m \u001b[0;34m'/content/drive/MyDrive/NN and DL/projects/Released_Data'\u001b[0m\u001b[0;34m)\u001b[0m\u001b[0;34m\u001b[0m\u001b[0;34m\u001b[0m\u001b[0m\n\u001b[0m",
            "\u001b[0;32m/usr/local/lib/python3.7/dist-packages/torch/serialization.py\u001b[0m in \u001b[0;36msave\u001b[0;34m(obj, f, pickle_module, pickle_protocol, _use_new_zipfile_serialization)\u001b[0m\n\u001b[1;32m    374\u001b[0m     \u001b[0m_check_dill_version\u001b[0m\u001b[0;34m(\u001b[0m\u001b[0mpickle_module\u001b[0m\u001b[0;34m)\u001b[0m\u001b[0;34m\u001b[0m\u001b[0;34m\u001b[0m\u001b[0m\n\u001b[1;32m    375\u001b[0m \u001b[0;34m\u001b[0m\u001b[0m\n\u001b[0;32m--> 376\u001b[0;31m     \u001b[0;32mwith\u001b[0m \u001b[0m_open_file_like\u001b[0m\u001b[0;34m(\u001b[0m\u001b[0mf\u001b[0m\u001b[0;34m,\u001b[0m \u001b[0;34m'wb'\u001b[0m\u001b[0;34m)\u001b[0m \u001b[0;32mas\u001b[0m \u001b[0mopened_file\u001b[0m\u001b[0;34m:\u001b[0m\u001b[0;34m\u001b[0m\u001b[0;34m\u001b[0m\u001b[0m\n\u001b[0m\u001b[1;32m    377\u001b[0m         \u001b[0;32mif\u001b[0m \u001b[0m_use_new_zipfile_serialization\u001b[0m\u001b[0;34m:\u001b[0m\u001b[0;34m\u001b[0m\u001b[0;34m\u001b[0m\u001b[0m\n\u001b[1;32m    378\u001b[0m             \u001b[0;32mwith\u001b[0m \u001b[0m_open_zipfile_writer\u001b[0m\u001b[0;34m(\u001b[0m\u001b[0mopened_file\u001b[0m\u001b[0;34m)\u001b[0m \u001b[0;32mas\u001b[0m \u001b[0mopened_zipfile\u001b[0m\u001b[0;34m:\u001b[0m\u001b[0;34m\u001b[0m\u001b[0;34m\u001b[0m\u001b[0m\n",
            "\u001b[0;32m/usr/local/lib/python3.7/dist-packages/torch/serialization.py\u001b[0m in \u001b[0;36m_open_file_like\u001b[0;34m(name_or_buffer, mode)\u001b[0m\n\u001b[1;32m    228\u001b[0m \u001b[0;32mdef\u001b[0m \u001b[0m_open_file_like\u001b[0m\u001b[0;34m(\u001b[0m\u001b[0mname_or_buffer\u001b[0m\u001b[0;34m,\u001b[0m \u001b[0mmode\u001b[0m\u001b[0;34m)\u001b[0m\u001b[0;34m:\u001b[0m\u001b[0;34m\u001b[0m\u001b[0;34m\u001b[0m\u001b[0m\n\u001b[1;32m    229\u001b[0m     \u001b[0;32mif\u001b[0m \u001b[0m_is_path\u001b[0m\u001b[0;34m(\u001b[0m\u001b[0mname_or_buffer\u001b[0m\u001b[0;34m)\u001b[0m\u001b[0;34m:\u001b[0m\u001b[0;34m\u001b[0m\u001b[0;34m\u001b[0m\u001b[0m\n\u001b[0;32m--> 230\u001b[0;31m         \u001b[0;32mreturn\u001b[0m \u001b[0m_open_file\u001b[0m\u001b[0;34m(\u001b[0m\u001b[0mname_or_buffer\u001b[0m\u001b[0;34m,\u001b[0m \u001b[0mmode\u001b[0m\u001b[0;34m)\u001b[0m\u001b[0;34m\u001b[0m\u001b[0;34m\u001b[0m\u001b[0m\n\u001b[0m\u001b[1;32m    231\u001b[0m     \u001b[0;32melse\u001b[0m\u001b[0;34m:\u001b[0m\u001b[0;34m\u001b[0m\u001b[0;34m\u001b[0m\u001b[0m\n\u001b[1;32m    232\u001b[0m         \u001b[0;32mif\u001b[0m \u001b[0;34m'w'\u001b[0m \u001b[0;32min\u001b[0m \u001b[0mmode\u001b[0m\u001b[0;34m:\u001b[0m\u001b[0;34m\u001b[0m\u001b[0;34m\u001b[0m\u001b[0m\n",
            "\u001b[0;32m/usr/local/lib/python3.7/dist-packages/torch/serialization.py\u001b[0m in \u001b[0;36m__init__\u001b[0;34m(self, name, mode)\u001b[0m\n\u001b[1;32m    209\u001b[0m \u001b[0;32mclass\u001b[0m \u001b[0m_open_file\u001b[0m\u001b[0;34m(\u001b[0m\u001b[0m_opener\u001b[0m\u001b[0;34m)\u001b[0m\u001b[0;34m:\u001b[0m\u001b[0;34m\u001b[0m\u001b[0;34m\u001b[0m\u001b[0m\n\u001b[1;32m    210\u001b[0m     \u001b[0;32mdef\u001b[0m \u001b[0m__init__\u001b[0m\u001b[0;34m(\u001b[0m\u001b[0mself\u001b[0m\u001b[0;34m,\u001b[0m \u001b[0mname\u001b[0m\u001b[0;34m,\u001b[0m \u001b[0mmode\u001b[0m\u001b[0;34m)\u001b[0m\u001b[0;34m:\u001b[0m\u001b[0;34m\u001b[0m\u001b[0;34m\u001b[0m\u001b[0m\n\u001b[0;32m--> 211\u001b[0;31m         \u001b[0msuper\u001b[0m\u001b[0;34m(\u001b[0m\u001b[0m_open_file\u001b[0m\u001b[0;34m,\u001b[0m \u001b[0mself\u001b[0m\u001b[0;34m)\u001b[0m\u001b[0;34m.\u001b[0m\u001b[0m__init__\u001b[0m\u001b[0;34m(\u001b[0m\u001b[0mopen\u001b[0m\u001b[0;34m(\u001b[0m\u001b[0mname\u001b[0m\u001b[0;34m,\u001b[0m \u001b[0mmode\u001b[0m\u001b[0;34m)\u001b[0m\u001b[0;34m)\u001b[0m\u001b[0;34m\u001b[0m\u001b[0;34m\u001b[0m\u001b[0m\n\u001b[0m\u001b[1;32m    212\u001b[0m \u001b[0;34m\u001b[0m\u001b[0m\n\u001b[1;32m    213\u001b[0m     \u001b[0;32mdef\u001b[0m \u001b[0m__exit__\u001b[0m\u001b[0;34m(\u001b[0m\u001b[0mself\u001b[0m\u001b[0;34m,\u001b[0m \u001b[0;34m*\u001b[0m\u001b[0margs\u001b[0m\u001b[0;34m)\u001b[0m\u001b[0;34m:\u001b[0m\u001b[0;34m\u001b[0m\u001b[0;34m\u001b[0m\u001b[0m\n",
            "\u001b[0;31mIsADirectoryError\u001b[0m: [Errno 21] Is a directory: '/content/drive/MyDrive/NN and DL/projects/Released_Data'"
          ]
        }
      ]
    },
    {
      "cell_type": "code",
      "source": [],
      "metadata": {
        "id": "NfpS2om_LtFl"
      },
      "execution_count": null,
      "outputs": []
    }
  ]
}