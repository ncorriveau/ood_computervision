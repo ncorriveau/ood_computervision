{
  "nbformat": 4,
  "nbformat_minor": 0,
  "metadata": {
    "colab": {
      "provenance": [],
      "include_colab_link": true
    },
    "kernelspec": {
      "name": "python3",
      "display_name": "Python 3"
    },
    "language_info": {
      "name": "python"
    },
    "gpuClass": "standard",
    "widgets": {
      "application/vnd.jupyter.widget-state+json": {
        "965f836e54324b018eaa9e1cb95fef94": {
          "model_module": "@jupyter-widgets/controls",
          "model_name": "HBoxModel",
          "model_module_version": "1.5.0",
          "state": {
            "_dom_classes": [],
            "_model_module": "@jupyter-widgets/controls",
            "_model_module_version": "1.5.0",
            "_model_name": "HBoxModel",
            "_view_count": null,
            "_view_module": "@jupyter-widgets/controls",
            "_view_module_version": "1.5.0",
            "_view_name": "HBoxView",
            "box_style": "",
            "children": [
              "IPY_MODEL_1e4c1399e2274d9798755b2af628bfcd",
              "IPY_MODEL_6dfd113161a940598a2ee937d0512045",
              "IPY_MODEL_92d3b2d60413453e810b482612393b8b"
            ],
            "layout": "IPY_MODEL_10e7fb81912041b68207e2bde43c111a"
          }
        },
        "1e4c1399e2274d9798755b2af628bfcd": {
          "model_module": "@jupyter-widgets/controls",
          "model_name": "HTMLModel",
          "model_module_version": "1.5.0",
          "state": {
            "_dom_classes": [],
            "_model_module": "@jupyter-widgets/controls",
            "_model_module_version": "1.5.0",
            "_model_name": "HTMLModel",
            "_view_count": null,
            "_view_module": "@jupyter-widgets/controls",
            "_view_module_version": "1.5.0",
            "_view_name": "HTMLView",
            "description": "",
            "description_tooltip": null,
            "layout": "IPY_MODEL_d305e1ebd7704ed298cb272d4cdabb92",
            "placeholder": "​",
            "style": "IPY_MODEL_b71b2064be604e30bc178fdd82121cc2",
            "value": "100%"
          }
        },
        "6dfd113161a940598a2ee937d0512045": {
          "model_module": "@jupyter-widgets/controls",
          "model_name": "FloatProgressModel",
          "model_module_version": "1.5.0",
          "state": {
            "_dom_classes": [],
            "_model_module": "@jupyter-widgets/controls",
            "_model_module_version": "1.5.0",
            "_model_name": "FloatProgressModel",
            "_view_count": null,
            "_view_module": "@jupyter-widgets/controls",
            "_view_module_version": "1.5.0",
            "_view_name": "ProgressView",
            "bar_style": "success",
            "description": "",
            "description_tooltip": null,
            "layout": "IPY_MODEL_23a53c8ad67e4334bdd54b4bf2077db3",
            "max": 10,
            "min": 0,
            "orientation": "horizontal",
            "style": "IPY_MODEL_e782631ce00346dabffad660e04b7d4c",
            "value": 10
          }
        },
        "92d3b2d60413453e810b482612393b8b": {
          "model_module": "@jupyter-widgets/controls",
          "model_name": "HTMLModel",
          "model_module_version": "1.5.0",
          "state": {
            "_dom_classes": [],
            "_model_module": "@jupyter-widgets/controls",
            "_model_module_version": "1.5.0",
            "_model_name": "HTMLModel",
            "_view_count": null,
            "_view_module": "@jupyter-widgets/controls",
            "_view_module_version": "1.5.0",
            "_view_name": "HTMLView",
            "description": "",
            "description_tooltip": null,
            "layout": "IPY_MODEL_eab4beecb8014a31aa529834c815a6af",
            "placeholder": "​",
            "style": "IPY_MODEL_2c1933bce5b84c538235a5ce867609a3",
            "value": " 10/10 [3:21:28&lt;00:00, 872.00s/it]"
          }
        },
        "10e7fb81912041b68207e2bde43c111a": {
          "model_module": "@jupyter-widgets/base",
          "model_name": "LayoutModel",
          "model_module_version": "1.2.0",
          "state": {
            "_model_module": "@jupyter-widgets/base",
            "_model_module_version": "1.2.0",
            "_model_name": "LayoutModel",
            "_view_count": null,
            "_view_module": "@jupyter-widgets/base",
            "_view_module_version": "1.2.0",
            "_view_name": "LayoutView",
            "align_content": null,
            "align_items": null,
            "align_self": null,
            "border": null,
            "bottom": null,
            "display": null,
            "flex": null,
            "flex_flow": null,
            "grid_area": null,
            "grid_auto_columns": null,
            "grid_auto_flow": null,
            "grid_auto_rows": null,
            "grid_column": null,
            "grid_gap": null,
            "grid_row": null,
            "grid_template_areas": null,
            "grid_template_columns": null,
            "grid_template_rows": null,
            "height": null,
            "justify_content": null,
            "justify_items": null,
            "left": null,
            "margin": null,
            "max_height": null,
            "max_width": null,
            "min_height": null,
            "min_width": null,
            "object_fit": null,
            "object_position": null,
            "order": null,
            "overflow": null,
            "overflow_x": null,
            "overflow_y": null,
            "padding": null,
            "right": null,
            "top": null,
            "visibility": null,
            "width": null
          }
        },
        "d305e1ebd7704ed298cb272d4cdabb92": {
          "model_module": "@jupyter-widgets/base",
          "model_name": "LayoutModel",
          "model_module_version": "1.2.0",
          "state": {
            "_model_module": "@jupyter-widgets/base",
            "_model_module_version": "1.2.0",
            "_model_name": "LayoutModel",
            "_view_count": null,
            "_view_module": "@jupyter-widgets/base",
            "_view_module_version": "1.2.0",
            "_view_name": "LayoutView",
            "align_content": null,
            "align_items": null,
            "align_self": null,
            "border": null,
            "bottom": null,
            "display": null,
            "flex": null,
            "flex_flow": null,
            "grid_area": null,
            "grid_auto_columns": null,
            "grid_auto_flow": null,
            "grid_auto_rows": null,
            "grid_column": null,
            "grid_gap": null,
            "grid_row": null,
            "grid_template_areas": null,
            "grid_template_columns": null,
            "grid_template_rows": null,
            "height": null,
            "justify_content": null,
            "justify_items": null,
            "left": null,
            "margin": null,
            "max_height": null,
            "max_width": null,
            "min_height": null,
            "min_width": null,
            "object_fit": null,
            "object_position": null,
            "order": null,
            "overflow": null,
            "overflow_x": null,
            "overflow_y": null,
            "padding": null,
            "right": null,
            "top": null,
            "visibility": null,
            "width": null
          }
        },
        "b71b2064be604e30bc178fdd82121cc2": {
          "model_module": "@jupyter-widgets/controls",
          "model_name": "DescriptionStyleModel",
          "model_module_version": "1.5.0",
          "state": {
            "_model_module": "@jupyter-widgets/controls",
            "_model_module_version": "1.5.0",
            "_model_name": "DescriptionStyleModel",
            "_view_count": null,
            "_view_module": "@jupyter-widgets/base",
            "_view_module_version": "1.2.0",
            "_view_name": "StyleView",
            "description_width": ""
          }
        },
        "23a53c8ad67e4334bdd54b4bf2077db3": {
          "model_module": "@jupyter-widgets/base",
          "model_name": "LayoutModel",
          "model_module_version": "1.2.0",
          "state": {
            "_model_module": "@jupyter-widgets/base",
            "_model_module_version": "1.2.0",
            "_model_name": "LayoutModel",
            "_view_count": null,
            "_view_module": "@jupyter-widgets/base",
            "_view_module_version": "1.2.0",
            "_view_name": "LayoutView",
            "align_content": null,
            "align_items": null,
            "align_self": null,
            "border": null,
            "bottom": null,
            "display": null,
            "flex": null,
            "flex_flow": null,
            "grid_area": null,
            "grid_auto_columns": null,
            "grid_auto_flow": null,
            "grid_auto_rows": null,
            "grid_column": null,
            "grid_gap": null,
            "grid_row": null,
            "grid_template_areas": null,
            "grid_template_columns": null,
            "grid_template_rows": null,
            "height": null,
            "justify_content": null,
            "justify_items": null,
            "left": null,
            "margin": null,
            "max_height": null,
            "max_width": null,
            "min_height": null,
            "min_width": null,
            "object_fit": null,
            "object_position": null,
            "order": null,
            "overflow": null,
            "overflow_x": null,
            "overflow_y": null,
            "padding": null,
            "right": null,
            "top": null,
            "visibility": null,
            "width": null
          }
        },
        "e782631ce00346dabffad660e04b7d4c": {
          "model_module": "@jupyter-widgets/controls",
          "model_name": "ProgressStyleModel",
          "model_module_version": "1.5.0",
          "state": {
            "_model_module": "@jupyter-widgets/controls",
            "_model_module_version": "1.5.0",
            "_model_name": "ProgressStyleModel",
            "_view_count": null,
            "_view_module": "@jupyter-widgets/base",
            "_view_module_version": "1.2.0",
            "_view_name": "StyleView",
            "bar_color": null,
            "description_width": ""
          }
        },
        "eab4beecb8014a31aa529834c815a6af": {
          "model_module": "@jupyter-widgets/base",
          "model_name": "LayoutModel",
          "model_module_version": "1.2.0",
          "state": {
            "_model_module": "@jupyter-widgets/base",
            "_model_module_version": "1.2.0",
            "_model_name": "LayoutModel",
            "_view_count": null,
            "_view_module": "@jupyter-widgets/base",
            "_view_module_version": "1.2.0",
            "_view_name": "LayoutView",
            "align_content": null,
            "align_items": null,
            "align_self": null,
            "border": null,
            "bottom": null,
            "display": null,
            "flex": null,
            "flex_flow": null,
            "grid_area": null,
            "grid_auto_columns": null,
            "grid_auto_flow": null,
            "grid_auto_rows": null,
            "grid_column": null,
            "grid_gap": null,
            "grid_row": null,
            "grid_template_areas": null,
            "grid_template_columns": null,
            "grid_template_rows": null,
            "height": null,
            "justify_content": null,
            "justify_items": null,
            "left": null,
            "margin": null,
            "max_height": null,
            "max_width": null,
            "min_height": null,
            "min_width": null,
            "object_fit": null,
            "object_position": null,
            "order": null,
            "overflow": null,
            "overflow_x": null,
            "overflow_y": null,
            "padding": null,
            "right": null,
            "top": null,
            "visibility": null,
            "width": null
          }
        },
        "2c1933bce5b84c538235a5ce867609a3": {
          "model_module": "@jupyter-widgets/controls",
          "model_name": "DescriptionStyleModel",
          "model_module_version": "1.5.0",
          "state": {
            "_model_module": "@jupyter-widgets/controls",
            "_model_module_version": "1.5.0",
            "_model_name": "DescriptionStyleModel",
            "_view_count": null,
            "_view_module": "@jupyter-widgets/base",
            "_view_module_version": "1.2.0",
            "_view_name": "StyleView",
            "description_width": ""
          }
        },
        "f484e3edc3af49428ed21e82fbc512c9": {
          "model_module": "@jupyter-widgets/controls",
          "model_name": "HBoxModel",
          "model_module_version": "1.5.0",
          "state": {
            "_view_name": "HBoxView",
            "_dom_classes": [],
            "_model_name": "HBoxModel",
            "_view_module": "@jupyter-widgets/controls",
            "_model_module_version": "1.5.0",
            "_view_count": null,
            "_view_module_version": "1.5.0",
            "box_style": "",
            "layout": "IPY_MODEL_b11bbeec2a7e44a082cef882997164fb",
            "_model_module": "@jupyter-widgets/controls",
            "children": [
              "IPY_MODEL_53d046441c9f4ed5a91f554fe9909452",
              "IPY_MODEL_ab9edab9045a4d5bbe33c2dc4d5842e4",
              "IPY_MODEL_a51f94c2410a45e58a307c6874b6fd4e"
            ]
          }
        },
        "b11bbeec2a7e44a082cef882997164fb": {
          "model_module": "@jupyter-widgets/base",
          "model_name": "LayoutModel",
          "model_module_version": "1.2.0",
          "state": {
            "_view_name": "LayoutView",
            "grid_template_rows": null,
            "right": null,
            "justify_content": null,
            "_view_module": "@jupyter-widgets/base",
            "overflow": null,
            "_model_module_version": "1.2.0",
            "_view_count": null,
            "flex_flow": null,
            "width": null,
            "min_width": null,
            "border": null,
            "align_items": null,
            "bottom": null,
            "_model_module": "@jupyter-widgets/base",
            "top": null,
            "grid_column": null,
            "overflow_y": null,
            "overflow_x": null,
            "grid_auto_flow": null,
            "grid_area": null,
            "grid_template_columns": null,
            "flex": null,
            "_model_name": "LayoutModel",
            "justify_items": null,
            "grid_row": null,
            "max_height": null,
            "align_content": null,
            "visibility": null,
            "align_self": null,
            "height": null,
            "min_height": null,
            "padding": null,
            "grid_auto_rows": null,
            "grid_gap": null,
            "max_width": null,
            "order": null,
            "_view_module_version": "1.2.0",
            "grid_template_areas": null,
            "object_position": null,
            "object_fit": null,
            "grid_auto_columns": null,
            "margin": null,
            "display": null,
            "left": null
          }
        },
        "53d046441c9f4ed5a91f554fe9909452": {
          "model_module": "@jupyter-widgets/controls",
          "model_name": "HTMLModel",
          "model_module_version": "1.5.0",
          "state": {
            "_view_name": "HTMLView",
            "style": "IPY_MODEL_dd1cbb91d95942d9884df670974619a3",
            "_dom_classes": [],
            "description": "",
            "_model_name": "HTMLModel",
            "placeholder": "​",
            "_view_module": "@jupyter-widgets/controls",
            "_model_module_version": "1.5.0",
            "value": "100%",
            "_view_count": null,
            "_view_module_version": "1.5.0",
            "description_tooltip": null,
            "_model_module": "@jupyter-widgets/controls",
            "layout": "IPY_MODEL_f863ebcbc1834705a2b82fc41bbdc832"
          }
        },
        "ab9edab9045a4d5bbe33c2dc4d5842e4": {
          "model_module": "@jupyter-widgets/controls",
          "model_name": "FloatProgressModel",
          "model_module_version": "1.5.0",
          "state": {
            "_view_name": "ProgressView",
            "style": "IPY_MODEL_29b22c24561b485e8f2a470be3d3140a",
            "_dom_classes": [],
            "description": "",
            "_model_name": "FloatProgressModel",
            "bar_style": "success",
            "max": 1217421105,
            "_view_module": "@jupyter-widgets/controls",
            "_model_module_version": "1.5.0",
            "value": 1217421105,
            "_view_count": null,
            "_view_module_version": "1.5.0",
            "orientation": "horizontal",
            "min": 0,
            "description_tooltip": null,
            "_model_module": "@jupyter-widgets/controls",
            "layout": "IPY_MODEL_dd86b8f22c7b424fa0dcb58daafeb2bf"
          }
        },
        "a51f94c2410a45e58a307c6874b6fd4e": {
          "model_module": "@jupyter-widgets/controls",
          "model_name": "HTMLModel",
          "model_module_version": "1.5.0",
          "state": {
            "_view_name": "HTMLView",
            "style": "IPY_MODEL_fa980fddd4d2442d81fe8498918a186a",
            "_dom_classes": [],
            "description": "",
            "_model_name": "HTMLModel",
            "placeholder": "​",
            "_view_module": "@jupyter-widgets/controls",
            "_model_module_version": "1.5.0",
            "value": " 1.13G/1.13G [00:14&lt;00:00, 83.0MB/s]",
            "_view_count": null,
            "_view_module_version": "1.5.0",
            "description_tooltip": null,
            "_model_module": "@jupyter-widgets/controls",
            "layout": "IPY_MODEL_3287ce8650664824926810ff7fb5db6d"
          }
        },
        "dd1cbb91d95942d9884df670974619a3": {
          "model_module": "@jupyter-widgets/controls",
          "model_name": "DescriptionStyleModel",
          "model_module_version": "1.5.0",
          "state": {
            "_view_name": "StyleView",
            "_model_name": "DescriptionStyleModel",
            "description_width": "",
            "_view_module": "@jupyter-widgets/base",
            "_model_module_version": "1.5.0",
            "_view_count": null,
            "_view_module_version": "1.2.0",
            "_model_module": "@jupyter-widgets/controls"
          }
        },
        "f863ebcbc1834705a2b82fc41bbdc832": {
          "model_module": "@jupyter-widgets/base",
          "model_name": "LayoutModel",
          "model_module_version": "1.2.0",
          "state": {
            "_view_name": "LayoutView",
            "grid_template_rows": null,
            "right": null,
            "justify_content": null,
            "_view_module": "@jupyter-widgets/base",
            "overflow": null,
            "_model_module_version": "1.2.0",
            "_view_count": null,
            "flex_flow": null,
            "width": null,
            "min_width": null,
            "border": null,
            "align_items": null,
            "bottom": null,
            "_model_module": "@jupyter-widgets/base",
            "top": null,
            "grid_column": null,
            "overflow_y": null,
            "overflow_x": null,
            "grid_auto_flow": null,
            "grid_area": null,
            "grid_template_columns": null,
            "flex": null,
            "_model_name": "LayoutModel",
            "justify_items": null,
            "grid_row": null,
            "max_height": null,
            "align_content": null,
            "visibility": null,
            "align_self": null,
            "height": null,
            "min_height": null,
            "padding": null,
            "grid_auto_rows": null,
            "grid_gap": null,
            "max_width": null,
            "order": null,
            "_view_module_version": "1.2.0",
            "grid_template_areas": null,
            "object_position": null,
            "object_fit": null,
            "grid_auto_columns": null,
            "margin": null,
            "display": null,
            "left": null
          }
        },
        "29b22c24561b485e8f2a470be3d3140a": {
          "model_module": "@jupyter-widgets/controls",
          "model_name": "ProgressStyleModel",
          "model_module_version": "1.5.0",
          "state": {
            "_view_name": "StyleView",
            "_model_name": "ProgressStyleModel",
            "description_width": "",
            "_view_module": "@jupyter-widgets/base",
            "_model_module_version": "1.5.0",
            "_view_count": null,
            "_view_module_version": "1.2.0",
            "bar_color": null,
            "_model_module": "@jupyter-widgets/controls"
          }
        },
        "dd86b8f22c7b424fa0dcb58daafeb2bf": {
          "model_module": "@jupyter-widgets/base",
          "model_name": "LayoutModel",
          "model_module_version": "1.2.0",
          "state": {
            "_view_name": "LayoutView",
            "grid_template_rows": null,
            "right": null,
            "justify_content": null,
            "_view_module": "@jupyter-widgets/base",
            "overflow": null,
            "_model_module_version": "1.2.0",
            "_view_count": null,
            "flex_flow": null,
            "width": null,
            "min_width": null,
            "border": null,
            "align_items": null,
            "bottom": null,
            "_model_module": "@jupyter-widgets/base",
            "top": null,
            "grid_column": null,
            "overflow_y": null,
            "overflow_x": null,
            "grid_auto_flow": null,
            "grid_area": null,
            "grid_template_columns": null,
            "flex": null,
            "_model_name": "LayoutModel",
            "justify_items": null,
            "grid_row": null,
            "max_height": null,
            "align_content": null,
            "visibility": null,
            "align_self": null,
            "height": null,
            "min_height": null,
            "padding": null,
            "grid_auto_rows": null,
            "grid_gap": null,
            "max_width": null,
            "order": null,
            "_view_module_version": "1.2.0",
            "grid_template_areas": null,
            "object_position": null,
            "object_fit": null,
            "grid_auto_columns": null,
            "margin": null,
            "display": null,
            "left": null
          }
        },
        "fa980fddd4d2442d81fe8498918a186a": {
          "model_module": "@jupyter-widgets/controls",
          "model_name": "DescriptionStyleModel",
          "model_module_version": "1.5.0",
          "state": {
            "_view_name": "StyleView",
            "_model_name": "DescriptionStyleModel",
            "description_width": "",
            "_view_module": "@jupyter-widgets/base",
            "_model_module_version": "1.5.0",
            "_view_count": null,
            "_view_module_version": "1.2.0",
            "_model_module": "@jupyter-widgets/controls"
          }
        },
        "3287ce8650664824926810ff7fb5db6d": {
          "model_module": "@jupyter-widgets/base",
          "model_name": "LayoutModel",
          "model_module_version": "1.2.0",
          "state": {
            "_view_name": "LayoutView",
            "grid_template_rows": null,
            "right": null,
            "justify_content": null,
            "_view_module": "@jupyter-widgets/base",
            "overflow": null,
            "_model_module_version": "1.2.0",
            "_view_count": null,
            "flex_flow": null,
            "width": null,
            "min_width": null,
            "border": null,
            "align_items": null,
            "bottom": null,
            "_model_module": "@jupyter-widgets/base",
            "top": null,
            "grid_column": null,
            "overflow_y": null,
            "overflow_x": null,
            "grid_auto_flow": null,
            "grid_area": null,
            "grid_template_columns": null,
            "flex": null,
            "_model_name": "LayoutModel",
            "justify_items": null,
            "grid_row": null,
            "max_height": null,
            "align_content": null,
            "visibility": null,
            "align_self": null,
            "height": null,
            "min_height": null,
            "padding": null,
            "grid_auto_rows": null,
            "grid_gap": null,
            "max_width": null,
            "order": null,
            "_view_module_version": "1.2.0",
            "grid_template_areas": null,
            "object_position": null,
            "object_fit": null,
            "grid_auto_columns": null,
            "margin": null,
            "display": null,
            "left": null
          }
        },
        "eca47ca268ca430f9514f142855d11bc": {
          "model_module": "@jupyter-widgets/controls",
          "model_name": "HBoxModel",
          "model_module_version": "1.5.0",
          "state": {
            "_view_name": "HBoxView",
            "_dom_classes": [],
            "_model_name": "HBoxModel",
            "_view_module": "@jupyter-widgets/controls",
            "_model_module_version": "1.5.0",
            "_view_count": null,
            "_view_module_version": "1.5.0",
            "box_style": "",
            "layout": "IPY_MODEL_659c822fb0f74fd29e6c76aba651df76",
            "_model_module": "@jupyter-widgets/controls",
            "children": [
              "IPY_MODEL_988005c301ee4b38a170a0688a9762f3",
              "IPY_MODEL_733529a8a6574008ad5d46eed4df4a53",
              "IPY_MODEL_2594b4147f3e493a9da31d56be679bbb"
            ]
          }
        },
        "659c822fb0f74fd29e6c76aba651df76": {
          "model_module": "@jupyter-widgets/base",
          "model_name": "LayoutModel",
          "model_module_version": "1.2.0",
          "state": {
            "_view_name": "LayoutView",
            "grid_template_rows": null,
            "right": null,
            "justify_content": null,
            "_view_module": "@jupyter-widgets/base",
            "overflow": null,
            "_model_module_version": "1.2.0",
            "_view_count": null,
            "flex_flow": null,
            "width": null,
            "min_width": null,
            "border": null,
            "align_items": null,
            "bottom": null,
            "_model_module": "@jupyter-widgets/base",
            "top": null,
            "grid_column": null,
            "overflow_y": null,
            "overflow_x": null,
            "grid_auto_flow": null,
            "grid_area": null,
            "grid_template_columns": null,
            "flex": null,
            "_model_name": "LayoutModel",
            "justify_items": null,
            "grid_row": null,
            "max_height": null,
            "align_content": null,
            "visibility": null,
            "align_self": null,
            "height": null,
            "min_height": null,
            "padding": null,
            "grid_auto_rows": null,
            "grid_gap": null,
            "max_width": null,
            "order": null,
            "_view_module_version": "1.2.0",
            "grid_template_areas": null,
            "object_position": null,
            "object_fit": null,
            "grid_auto_columns": null,
            "margin": null,
            "display": null,
            "left": null
          }
        },
        "988005c301ee4b38a170a0688a9762f3": {
          "model_module": "@jupyter-widgets/controls",
          "model_name": "HTMLModel",
          "model_module_version": "1.5.0",
          "state": {
            "_view_name": "HTMLView",
            "style": "IPY_MODEL_f9502f9e6f294d73ae5f99fd9c6065d9",
            "_dom_classes": [],
            "description": "",
            "_model_name": "HTMLModel",
            "placeholder": "​",
            "_view_module": "@jupyter-widgets/controls",
            "_model_module_version": "1.5.0",
            "value": "100%",
            "_view_count": null,
            "_view_module_version": "1.5.0",
            "description_tooltip": null,
            "_model_module": "@jupyter-widgets/controls",
            "layout": "IPY_MODEL_cf88e5b70f2c440bb7f911aef40f2970"
          }
        },
        "733529a8a6574008ad5d46eed4df4a53": {
          "model_module": "@jupyter-widgets/controls",
          "model_name": "FloatProgressModel",
          "model_module_version": "1.5.0",
          "state": {
            "_view_name": "ProgressView",
            "style": "IPY_MODEL_55bd36357ee14576b26a79ef15bf97f4",
            "_dom_classes": [],
            "description": "",
            "_model_name": "FloatProgressModel",
            "bar_style": "success",
            "max": 50,
            "_view_module": "@jupyter-widgets/controls",
            "_model_module_version": "1.5.0",
            "value": 50,
            "_view_count": null,
            "_view_module_version": "1.5.0",
            "orientation": "horizontal",
            "min": 0,
            "description_tooltip": null,
            "_model_module": "@jupyter-widgets/controls",
            "layout": "IPY_MODEL_33f20e4ff00844cfbaf233de1ed782c6"
          }
        },
        "2594b4147f3e493a9da31d56be679bbb": {
          "model_module": "@jupyter-widgets/controls",
          "model_name": "HTMLModel",
          "model_module_version": "1.5.0",
          "state": {
            "_view_name": "HTMLView",
            "style": "IPY_MODEL_fa3bc369e2d54fffbbde3f0ab57c648f",
            "_dom_classes": [],
            "description": "",
            "_model_name": "HTMLModel",
            "placeholder": "​",
            "_view_module": "@jupyter-widgets/controls",
            "_model_module_version": "1.5.0",
            "value": " 50/50 [10:49:35&lt;00:00, 779.25s/it]",
            "_view_count": null,
            "_view_module_version": "1.5.0",
            "description_tooltip": null,
            "_model_module": "@jupyter-widgets/controls",
            "layout": "IPY_MODEL_88f07a9cd3fe4e2bbcb9acfcb53e6d09"
          }
        },
        "f9502f9e6f294d73ae5f99fd9c6065d9": {
          "model_module": "@jupyter-widgets/controls",
          "model_name": "DescriptionStyleModel",
          "model_module_version": "1.5.0",
          "state": {
            "_view_name": "StyleView",
            "_model_name": "DescriptionStyleModel",
            "description_width": "",
            "_view_module": "@jupyter-widgets/base",
            "_model_module_version": "1.5.0",
            "_view_count": null,
            "_view_module_version": "1.2.0",
            "_model_module": "@jupyter-widgets/controls"
          }
        },
        "cf88e5b70f2c440bb7f911aef40f2970": {
          "model_module": "@jupyter-widgets/base",
          "model_name": "LayoutModel",
          "model_module_version": "1.2.0",
          "state": {
            "_view_name": "LayoutView",
            "grid_template_rows": null,
            "right": null,
            "justify_content": null,
            "_view_module": "@jupyter-widgets/base",
            "overflow": null,
            "_model_module_version": "1.2.0",
            "_view_count": null,
            "flex_flow": null,
            "width": null,
            "min_width": null,
            "border": null,
            "align_items": null,
            "bottom": null,
            "_model_module": "@jupyter-widgets/base",
            "top": null,
            "grid_column": null,
            "overflow_y": null,
            "overflow_x": null,
            "grid_auto_flow": null,
            "grid_area": null,
            "grid_template_columns": null,
            "flex": null,
            "_model_name": "LayoutModel",
            "justify_items": null,
            "grid_row": null,
            "max_height": null,
            "align_content": null,
            "visibility": null,
            "align_self": null,
            "height": null,
            "min_height": null,
            "padding": null,
            "grid_auto_rows": null,
            "grid_gap": null,
            "max_width": null,
            "order": null,
            "_view_module_version": "1.2.0",
            "grid_template_areas": null,
            "object_position": null,
            "object_fit": null,
            "grid_auto_columns": null,
            "margin": null,
            "display": null,
            "left": null
          }
        },
        "55bd36357ee14576b26a79ef15bf97f4": {
          "model_module": "@jupyter-widgets/controls",
          "model_name": "ProgressStyleModel",
          "model_module_version": "1.5.0",
          "state": {
            "_view_name": "StyleView",
            "_model_name": "ProgressStyleModel",
            "description_width": "",
            "_view_module": "@jupyter-widgets/base",
            "_model_module_version": "1.5.0",
            "_view_count": null,
            "_view_module_version": "1.2.0",
            "bar_color": null,
            "_model_module": "@jupyter-widgets/controls"
          }
        },
        "33f20e4ff00844cfbaf233de1ed782c6": {
          "model_module": "@jupyter-widgets/base",
          "model_name": "LayoutModel",
          "model_module_version": "1.2.0",
          "state": {
            "_view_name": "LayoutView",
            "grid_template_rows": null,
            "right": null,
            "justify_content": null,
            "_view_module": "@jupyter-widgets/base",
            "overflow": null,
            "_model_module_version": "1.2.0",
            "_view_count": null,
            "flex_flow": null,
            "width": null,
            "min_width": null,
            "border": null,
            "align_items": null,
            "bottom": null,
            "_model_module": "@jupyter-widgets/base",
            "top": null,
            "grid_column": null,
            "overflow_y": null,
            "overflow_x": null,
            "grid_auto_flow": null,
            "grid_area": null,
            "grid_template_columns": null,
            "flex": null,
            "_model_name": "LayoutModel",
            "justify_items": null,
            "grid_row": null,
            "max_height": null,
            "align_content": null,
            "visibility": null,
            "align_self": null,
            "height": null,
            "min_height": null,
            "padding": null,
            "grid_auto_rows": null,
            "grid_gap": null,
            "max_width": null,
            "order": null,
            "_view_module_version": "1.2.0",
            "grid_template_areas": null,
            "object_position": null,
            "object_fit": null,
            "grid_auto_columns": null,
            "margin": null,
            "display": null,
            "left": null
          }
        },
        "fa3bc369e2d54fffbbde3f0ab57c648f": {
          "model_module": "@jupyter-widgets/controls",
          "model_name": "DescriptionStyleModel",
          "model_module_version": "1.5.0",
          "state": {
            "_view_name": "StyleView",
            "_model_name": "DescriptionStyleModel",
            "description_width": "",
            "_view_module": "@jupyter-widgets/base",
            "_model_module_version": "1.5.0",
            "_view_count": null,
            "_view_module_version": "1.2.0",
            "_model_module": "@jupyter-widgets/controls"
          }
        },
        "88f07a9cd3fe4e2bbcb9acfcb53e6d09": {
          "model_module": "@jupyter-widgets/base",
          "model_name": "LayoutModel",
          "model_module_version": "1.2.0",
          "state": {
            "_view_name": "LayoutView",
            "grid_template_rows": null,
            "right": null,
            "justify_content": null,
            "_view_module": "@jupyter-widgets/base",
            "overflow": null,
            "_model_module_version": "1.2.0",
            "_view_count": null,
            "flex_flow": null,
            "width": null,
            "min_width": null,
            "border": null,
            "align_items": null,
            "bottom": null,
            "_model_module": "@jupyter-widgets/base",
            "top": null,
            "grid_column": null,
            "overflow_y": null,
            "overflow_x": null,
            "grid_auto_flow": null,
            "grid_area": null,
            "grid_template_columns": null,
            "flex": null,
            "_model_name": "LayoutModel",
            "justify_items": null,
            "grid_row": null,
            "max_height": null,
            "align_content": null,
            "visibility": null,
            "align_self": null,
            "height": null,
            "min_height": null,
            "padding": null,
            "grid_auto_rows": null,
            "grid_gap": null,
            "max_width": null,
            "order": null,
            "_view_module_version": "1.2.0",
            "grid_template_areas": null,
            "object_position": null,
            "object_fit": null,
            "grid_auto_columns": null,
            "margin": null,
            "display": null,
            "left": null
          }
        }
      }
    }
  },
  "cells": [
    {
      "cell_type": "markdown",
      "metadata": {
        "id": "view-in-github",
        "colab_type": "text"
      },
      "source": [
        "<a href=\"https://colab.research.google.com/github/ncorriveau/ood_computervision/blob/main/Vision_Transformer.ipynb\" target=\"_parent\"><img src=\"https://colab.research.google.com/assets/colab-badge.svg\" alt=\"Open In Colab\"/></a>"
      ]
    },
    {
      "cell_type": "markdown",
      "source": [
        "#Packages"
      ],
      "metadata": {
        "id": "5-jFzO93GLBK"
      }
    },
    {
      "cell_type": "code",
      "execution_count": 5,
      "metadata": {
        "id": "JQ4d2D7-oXN-"
      },
      "outputs": [],
      "source": [
        "#!pip install --upgrade torchvision==0.13\n",
        "\n",
        "import torch\n",
        "from torch import nn\n",
        "import torch\n",
        "from torch.utils.data import DataLoader\n",
        "import torchvision\n",
        "from torchvision import datasets, transforms\n",
        "\n",
        "import numpy as np \n",
        "import pandas as pd\n",
        "import os\n",
        "from pathlib import Path\n",
        "import random\n",
        "from PIL import Image\n",
        "from matplotlib import pyplot as plt\n",
        "import requests\n",
        "import zipfile\n",
        "import shutil \n"
      ]
    },
    {
      "cell_type": "code",
      "source": [
        "try:\n",
        "  import timm\n",
        "except:\n",
        "  !pip install timm\n",
        "  import timm"
      ],
      "metadata": {
        "id": "NJetvD6pLKe5"
      },
      "execution_count": 1,
      "outputs": []
    },
    {
      "cell_type": "code",
      "source": [
        "# Continue with regular imports\n",
        "# Try to get torchinfo, install it if it doesn't work\n",
        "try:\n",
        "    from torchinfo import summary\n",
        "except:\n",
        "    print(\"[INFO] Couldn't find torchinfo... installing it.\")\n",
        "    !pip install -q torchinfo\n",
        "    from torchinfo import summary\n",
        "\n",
        "# Try to import the going_modular directory, download it from GitHub if it doesn't work\n",
        "try:\n",
        "    from going_modular.going_modular import data_setup, engine\n",
        "except:\n",
        "    # Get the going_modular scripts\n",
        "    print(\"[INFO] Couldn't find going_modular scripts... downloading them from GitHub.\")\n",
        "    !git clone https://github.com/mrdbourke/pytorch-deep-learning\n",
        "    !mv pytorch-deep-learning/going_modular .\n",
        "    !rm -rf pytorch-deep-learning\n",
        "    from going_modular.going_modular import data_setup, engine\n"
      ],
      "metadata": {
        "id": "44tYIACTInMz"
      },
      "execution_count": 2,
      "outputs": []
    },
    {
      "cell_type": "markdown",
      "source": [
        "#Mount drive and set paths"
      ],
      "metadata": {
        "id": "jmGl_2ilF_ZZ"
      }
    },
    {
      "cell_type": "code",
      "source": [
        "# from google.colab import drive\n",
        "# drive.mount('/content/drive')"
      ],
      "metadata": {
        "id": "q9Cs7ZfdodW4"
      },
      "execution_count": null,
      "outputs": []
    },
    {
      "cell_type": "code",
      "source": [
        "!unzip /content/train.zip\n",
        "!unzip /content/test.zip"
      ],
      "metadata": {
        "id": "E0qr5hXU8Pwd"
      },
      "execution_count": null,
      "outputs": []
    },
    {
      "cell_type": "code",
      "source": [
        "# train_path = '/content/drive/MyDrive/NN and DL/projects/Released_Data/train'\n",
        "# test_path = '/content/drive/MyDrive/NN and DL/projects/Released_Data/test'\n",
        "train_path = '/content/train'\n",
        "test_path = '/content/test'"
      ],
      "metadata": {
        "id": "NI55IMwsoz09"
      },
      "execution_count": 3,
      "outputs": []
    },
    {
      "cell_type": "code",
      "source": [
        "#put on gpu if available \n",
        "device = \"cuda\" if torch.cuda.is_available() else \"cpu\"\n",
        "device"
      ],
      "metadata": {
        "colab": {
          "base_uri": "https://localhost:8080/",
          "height": 36
        },
        "id": "28X8ebO5I0Eu",
        "outputId": "5ddce8b3-5afa-495c-9dc0-9cc16aac9cad"
      },
      "execution_count": 6,
      "outputs": [
        {
          "output_type": "execute_result",
          "data": {
            "application/vnd.google.colaboratory.intrinsic+json": {
              "type": "string"
            },
            "text/plain": [
              "'cuda'"
            ]
          },
          "metadata": {},
          "execution_count": 6
        }
      ]
    },
    {
      "cell_type": "markdown",
      "source": [
        "#Data Augmentation and Preparation \n",
        "\n",
        "This part assumes that you have already run the data preprocess notebook and have the train and test folders in a format of:\n",
        "train/superclass/subclass and test/supeclass/subclass"
      ],
      "metadata": {
        "id": "IdHaNdANpQHh"
      }
    },
    {
      "cell_type": "code",
      "source": [
        "'''uncomment this section if we move forward with more customized training.'''\n",
        "# train_transforms = train_transforms = transforms.Compose([\n",
        "#     transforms.Resize((224, 224)),\n",
        "#     transforms.RandomGrayscale(0.5),\n",
        "#     transforms.RandomAdjustSharpness(2, 0.5), # adjust sharpness by a factor of 2 with prob 0.5 of it being adjusted\n",
        "#     transforms.RandomInvert(p=0.5),\n",
        "#     transforms.RandomHorizontalFlip(p=0.5),\n",
        "#     transforms.TrivialAugmentWide(num_magnitude_bins=31), # change intensity of image with max being 31 \n",
        "#     transforms.ToTensor() # use ToTensor() last to get everything between 0 & 1\n",
        "#     transforms.Normalize((0.485, 0.456, 0.406), (0.229, 0.224, 0.225)),\n",
        "#     ])\n",
        "\n",
        "# test_transforms = transforms.Compose([\n",
        "#     transforms.Resize((224, 224)),\n",
        "#     transforms.ToTensor(),\n",
        "#     transforms.Normalize((0.485, 0.456, 0.406), (0.229, 0.224, 0.225)),\n",
        "# ])\n"
      ],
      "metadata": {
        "id": "ykR78Q0No3oF",
        "colab": {
          "base_uri": "https://localhost:8080/",
          "height": 36
        },
        "outputId": "a0bdc0a6-044e-4586-f1dc-6ca172abed6f"
      },
      "execution_count": 6,
      "outputs": [
        {
          "output_type": "execute_result",
          "data": {
            "application/vnd.google.colaboratory.intrinsic+json": {
              "type": "string"
            },
            "text/plain": [
              "'uncomment this section if we move forward with more customized training.'"
            ]
          },
          "metadata": {},
          "execution_count": 6
        }
      ]
    },
    {
      "cell_type": "code",
      "source": [
        "'''process below follows:\n",
        "https://www.learnpytorch.io/06_pytorch_transfer_learning/'''\n",
        "\n",
        "manual_transforms = transforms.Compose([\n",
        "    transforms.Resize((224, 224)), # 1. Reshape all images to 224x224 (though some models may require different sizes)\n",
        "    transforms.ToTensor(), # 2. Turn image values to between 0 & 1 \n",
        "    transforms.Normalize(mean=[0.485, 0.456, 0.406], # 3. A mean of [0.485, 0.456, 0.406] (across each colour channel)\n",
        "                         std=[0.229, 0.224, 0.225]) # 4. A standard deviation of [0.229, 0.224, 0.225] (across each colour channel),\n",
        "])"
      ],
      "metadata": {
        "id": "O5udRT3yJEsP"
      },
      "execution_count": 7,
      "outputs": []
    },
    {
      "cell_type": "code",
      "source": [
        "train_dataloader, test_dataloader, class_names = data_setup.create_dataloaders(train_dir=train_path,\n",
        "                                                                               test_dir=test_path,\n",
        "                                                                               transform=manual_transforms, # resize, convert images to between 0 & 1 and normalize them\n",
        "                                                                               batch_size=32) # set mini-batch size to 32\n",
        "\n",
        "train_dataloader, test_dataloader, class_names"
      ],
      "metadata": {
        "id": "NVnUEaYHIBWF",
        "colab": {
          "base_uri": "https://localhost:8080/"
        },
        "outputId": "5acaf30a-a6a3-4ef9-8ba0-59be2d470702"
      },
      "execution_count": 8,
      "outputs": [
        {
          "output_type": "execute_result",
          "data": {
            "text/plain": [
              "(<torch.utils.data.dataloader.DataLoader at 0x7fc3fedbbc10>,\n",
              " <torch.utils.data.dataloader.DataLoader at 0x7fc3fe2dd850>,\n",
              " ['bird', 'dog', 'reptile'])"
            ]
          },
          "metadata": {},
          "execution_count": 8
        }
      ]
    },
    {
      "cell_type": "code",
      "source": [
        "train_features, train_labels = next(iter(train_dataloader))\n",
        "print(f\"Feature batch shape: {train_features.size()}\")\n",
        "print(f\"Labels batch shape: {train_labels.size()}\")\n",
        "img = train_features[0].squeeze()\n",
        "label = train_labels[0]\n"
      ],
      "metadata": {
        "colab": {
          "base_uri": "https://localhost:8080/"
        },
        "id": "_F7FWjnjl3Cp",
        "outputId": "228305a3-2130-4378-af82-3555a80fd6f8"
      },
      "execution_count": 9,
      "outputs": [
        {
          "output_type": "stream",
          "name": "stdout",
          "text": [
            "Feature batch shape: torch.Size([32, 3, 224, 224])\n",
            "Labels batch shape: torch.Size([32])\n"
          ]
        }
      ]
    },
    {
      "cell_type": "code",
      "source": [],
      "metadata": {
        "id": "XTr3SqnOnMVE"
      },
      "execution_count": 9,
      "outputs": []
    },
    {
      "cell_type": "code",
      "source": [
        "def plot_transformed_images(image_paths, transform, n=3, seed=42):\n",
        "    \"\"\"Plots a series of random images from image_paths.\n",
        "\n",
        "    Will open n image paths from image_paths, transform them\n",
        "    with transform and plot them side by side.\n",
        "\n",
        "    Args:\n",
        "        image_paths (list): List of target image paths. \n",
        "        transform (PyTorch Transforms): Transforms to apply to images.\n",
        "        n (int, optional): Number of images to plot. Defaults to 3.\n",
        "        seed (int, optional): Random seed for the random generator. Defaults to 42.\n",
        "    \"\"\"\n",
        "\n",
        "    random.seed(seed)\n",
        "    random_image_paths = random.sample(image_paths, k=n)\n",
        "    for image_path in random_image_paths:\n",
        "        with Image.open(image_path) as f:\n",
        "            fig, ax = plt.subplots(1, 2)\n",
        "            ax[0].imshow(f) \n",
        "            ax[0].set_title(f\"Original \\nSize: {f.size}\")\n",
        "            ax[0].axis(\"off\")\n",
        "\n",
        "            # Transform and plot image\n",
        "            # Note: permute() will change shape of image to suit matplotlib \n",
        "            # (PyTorch default is [C, H, W] but Matplotlib is [H, W, C])\n",
        "            transformed_image = transform(f).permute(1, 2, 0) \n",
        "            ax[1].imshow(transformed_image) \n",
        "            ax[1].set_title(f\"Transformed \\nSize: {transformed_image.shape}\")\n",
        "            ax[1].axis(\"off\")\n",
        "\n",
        "            fig.suptitle(f\"Class: {image_path.parent.stem}\", fontsize=16)"
      ],
      "metadata": {
        "id": "eOPOdh5co-qu"
      },
      "execution_count": 10,
      "outputs": []
    },
    {
      "cell_type": "code",
      "source": [
        "#this returns a posix path to every image in our training directory \n",
        "image_paths = list(Path(train_path).glob(\"*/*/*.jpg\"))\n",
        "\n",
        "plot_transformed_images(image_paths, \n",
        "                        transform=manual_transforms,\n",
        "                        n=3)"
      ],
      "metadata": {
        "colab": {
          "base_uri": "https://localhost:8080/",
          "height": 753
        },
        "id": "v0TgZoZHpFq_",
        "outputId": "12fb52b0-1fa1-4676-d411-276b6c8208c3"
      },
      "execution_count": 11,
      "outputs": [
        {
          "output_type": "stream",
          "name": "stderr",
          "text": [
            "Clipping input data to the valid range for imshow with RGB data ([0..1] for floats or [0..255] for integers).\n",
            "Clipping input data to the valid range for imshow with RGB data ([0..1] for floats or [0..255] for integers).\n",
            "Clipping input data to the valid range for imshow with RGB data ([0..1] for floats or [0..255] for integers).\n"
          ]
        },
        {
          "output_type": "display_data",
          "data": {
            "image/png": "[encoded data removed]",
            "text/plain": [
              "<Figure size 432x288 with 2 Axes>"
            ]
          },
          "metadata": {
            "needs_background": "light"
          }
        },
        {
          "output_type": "display_data",
          "data": {
            "image/png": "[encoded data removed]",
            "text/plain": [
              "<Figure size 432x288 with 2 Axes>"
            ]
          },
          "metadata": {
            "needs_background": "light"
          }
        },
        {
          "output_type": "display_data",
          "data": {
            "image/png": "[encoded data removed]",
            "text/plain": [
              "<Figure size 432x288 with 2 Axes>"
            ]
          },
          "metadata": {
            "needs_background": "light"
          }
        }
      ]
    },
    {
      "cell_type": "markdown",
      "source": [
        "#Apply Vision Transformer"
      ],
      "metadata": {
        "id": "MuId5xh0Kuut"
      }
    },
    {
      "cell_type": "markdown",
      "source": [
        "### Train Model for SuperClass Classification"
      ],
      "metadata": {
        "id": "MZ2L-nHmSoWp"
      }
    },
    {
      "cell_type": "code",
      "source": [
        "print(\"Available Vision Transformer Models: \")\n",
        "timm.list_models(\"vit*\")"
      ],
      "metadata": {
        "id": "GA5pFcNHK-pG"
      },
      "execution_count": null,
      "outputs": []
    },
    {
      "cell_type": "code",
      "source": [
        "torchvision.__version__"
      ],
      "metadata": {
        "colab": {
          "base_uri": "https://localhost:8080/",
          "height": 36
        },
        "id": "_B5F79MKDfNv",
        "outputId": "330c9087-0c91-4e0a-cb82-54355f332a72"
      },
      "execution_count": 12,
      "outputs": [
        {
          "output_type": "execute_result",
          "data": {
            "application/vnd.google.colaboratory.intrinsic+json": {
              "type": "string"
            },
            "text/plain": [
              "'0.13.0+cu102'"
            ]
          },
          "metadata": {},
          "execution_count": 12
        }
      ]
    },
    {
      "cell_type": "code",
      "source": [
        "torch.__version__"
      ],
      "metadata": {
        "colab": {
          "base_uri": "https://localhost:8080/",
          "height": 36
        },
        "id": "BjuXkAD7DjZO",
        "outputId": "06ce55b3-e482-4d6c-b145-b9f369420c10"
      },
      "execution_count": 13,
      "outputs": [
        {
          "output_type": "execute_result",
          "data": {
            "application/vnd.google.colaboratory.intrinsic+json": {
              "type": "string"
            },
            "text/plain": [
              "'1.12.0+cu102'"
            ]
          },
          "metadata": {},
          "execution_count": 13
        }
      ]
    },
    {
      "cell_type": "code",
      "source": [
        "weights = torchvision.models.ViT_L_16_Weights.IMAGENET1K_SWAG_E2E_V1.DEFAULT # .DEFAULT = best available weights from pretraining on ImageNet\n",
        "weights"
      ],
      "metadata": {
        "colab": {
          "base_uri": "https://localhost:8080/"
        },
        "id": "yNq3MiJ7DJOv",
        "outputId": "a91e4ed0-7bcc-4c89-fed8-e254cbef804b"
      },
      "execution_count": 14,
      "outputs": [
        {
          "output_type": "execute_result",
          "data": {
            "text/plain": [
              "ViT_L_16_Weights.IMAGENET1K_V1"
            ]
          },
          "metadata": {},
          "execution_count": 14
        }
      ]
    },
    {
      "cell_type": "code",
      "source": [
        "auto_transforms = weights.transforms()\n",
        "auto_transforms"
      ],
      "metadata": {
        "colab": {
          "base_uri": "https://localhost:8080/"
        },
        "id": "cXXzXGnoNBqd",
        "outputId": "0a3a3f72-3a8e-46f0-801c-d76744ba67d9"
      },
      "execution_count": 15,
      "outputs": [
        {
          "output_type": "execute_result",
          "data": {
            "text/plain": [
              "ImageClassification(\n",
              "    crop_size=[224]\n",
              "    resize_size=[242]\n",
              "    mean=[0.485, 0.456, 0.406]\n",
              "    std=[0.229, 0.224, 0.225]\n",
              "    interpolation=InterpolationMode.BILINEAR\n",
              ")"
            ]
          },
          "metadata": {},
          "execution_count": 15
        }
      ]
    },
    {
      "cell_type": "code",
      "source": [
        "#create data loaders using the auto transforms from the trained model \n",
        "# Create training and testing DataLoaders as well as get a list of class names\n",
        "train_dataloader, test_dataloader, class_names = data_setup.create_dataloaders(train_dir=train_path,\n",
        "                                                                               test_dir=test_path,\n",
        "                                                                               transform=auto_transforms, # perform same data transforms on our own data as the pretrained model\n",
        "                                                                               batch_size=32) # set mini-batch size to 32\n",
        "\n",
        "train_dataloader, test_dataloader, class_names"
      ],
      "metadata": {
        "colab": {
          "base_uri": "https://localhost:8080/"
        },
        "id": "YJB43zQvOXsH",
        "outputId": "fd77827f-d093-47ef-eb9f-ca59cc2e9e4e"
      },
      "execution_count": 16,
      "outputs": [
        {
          "output_type": "execute_result",
          "data": {
            "text/plain": [
              "(<torch.utils.data.dataloader.DataLoader at 0x7fc3fbba5710>,\n",
              " <torch.utils.data.dataloader.DataLoader at 0x7fc3fb6c7810>,\n",
              " ['bird', 'dog', 'reptile'])"
            ]
          },
          "metadata": {},
          "execution_count": 16
        }
      ]
    },
    {
      "cell_type": "code",
      "source": [
        "model = torchvision.models.vit_l_16(weights=weights).to(device)"
      ],
      "metadata": {
        "id": "Cslnd3Z7PvR8",
        "colab": {
          "base_uri": "https://localhost:8080/",
          "height": 66,
          "referenced_widgets": [
            "f484e3edc3af49428ed21e82fbc512c9",
            "b11bbeec2a7e44a082cef882997164fb",
            "53d046441c9f4ed5a91f554fe9909452",
            "ab9edab9045a4d5bbe33c2dc4d5842e4",
            "a51f94c2410a45e58a307c6874b6fd4e",
            "dd1cbb91d95942d9884df670974619a3",
            "f863ebcbc1834705a2b82fc41bbdc832",
            "29b22c24561b485e8f2a470be3d3140a",
            "dd86b8f22c7b424fa0dcb58daafeb2bf",
            "fa980fddd4d2442d81fe8498918a186a",
            "3287ce8650664824926810ff7fb5db6d"
          ]
        },
        "outputId": "f024183d-d36f-4008-e620-fa3289d34984"
      },
      "execution_count": 17,
      "outputs": [
        {
          "output_type": "stream",
          "name": "stderr",
          "text": [
            "Downloading: \"https://download.pytorch.org/models/vit_l_16-852ce7e3.pth\" to /root/.cache/torch/hub/checkpoints/vit_l_16-852ce7e3.pth\n"
          ]
        },
        {
          "output_type": "display_data",
          "data": {
            "application/vnd.jupyter.widget-view+json": {
              "model_id": "f484e3edc3af49428ed21e82fbc512c9",
              "version_minor": 0,
              "version_major": 2
            },
            "text/plain": [
              "  0%|          | 0.00/1.13G [00:00<?, ?B/s]"
            ]
          },
          "metadata": {}
        }
      ]
    },
    {
      "cell_type": "code",
      "source": [
        "summary(model=model, \n",
        "        input_size=(32, 3, 224, 224), # make sure this is \"input_size\", not \"input_shape\"\n",
        "        col_names=[\"input_size\", \"output_size\", \"num_params\", \"trainable\"],\n",
        "        col_width=20,\n",
        "        row_settings=[\"var_names\"]\n",
        ")"
      ],
      "metadata": {
        "colab": {
          "base_uri": "https://localhost:8080/"
        },
        "id": "OoW2hfxyQnJK",
        "outputId": "ca14d86c-63a6-480d-b73a-cba2d23cb20c"
      },
      "execution_count": null,
      "outputs": [
        {
          "output_type": "execute_result",
          "data": {
            "text/plain": [
              "============================================================================================================================================\n",
              "Layer (type (var_name))                                      Input Shape          Output Shape         Param #              Trainable\n",
              "============================================================================================================================================\n",
              "VisionTransformer (VisionTransformer)                        [32, 3, 224, 224]    [32, 1000]           1,024                True\n",
              "├─Conv2d (conv_proj)                                         [32, 3, 224, 224]    [32, 1024, 14, 14]   787,456              True\n",
              "├─Encoder (encoder)                                          [32, 197, 1024]      [32, 197, 1024]      201,728              True\n",
              "│    └─Dropout (dropout)                                     [32, 197, 1024]      [32, 197, 1024]      --                   --\n",
              "│    └─Sequential (layers)                                   [32, 197, 1024]      [32, 197, 1024]      --                   True\n",
              "│    │    └─EncoderBlock (encoder_layer_0)                   [32, 197, 1024]      [32, 197, 1024]      12,596,224           True\n",
              "│    │    └─EncoderBlock (encoder_layer_1)                   [32, 197, 1024]      [32, 197, 1024]      12,596,224           True\n",
              "│    │    └─EncoderBlock (encoder_layer_2)                   [32, 197, 1024]      [32, 197, 1024]      12,596,224           True\n",
              "│    │    └─EncoderBlock (encoder_layer_3)                   [32, 197, 1024]      [32, 197, 1024]      12,596,224           True\n",
              "│    │    └─EncoderBlock (encoder_layer_4)                   [32, 197, 1024]      [32, 197, 1024]      12,596,224           True\n",
              "│    │    └─EncoderBlock (encoder_layer_5)                   [32, 197, 1024]      [32, 197, 1024]      12,596,224           True\n",
              "│    │    └─EncoderBlock (encoder_layer_6)                   [32, 197, 1024]      [32, 197, 1024]      12,596,224           True\n",
              "│    │    └─EncoderBlock (encoder_layer_7)                   [32, 197, 1024]      [32, 197, 1024]      12,596,224           True\n",
              "│    │    └─EncoderBlock (encoder_layer_8)                   [32, 197, 1024]      [32, 197, 1024]      12,596,224           True\n",
              "│    │    └─EncoderBlock (encoder_layer_9)                   [32, 197, 1024]      [32, 197, 1024]      12,596,224           True\n",
              "│    │    └─EncoderBlock (encoder_layer_10)                  [32, 197, 1024]      [32, 197, 1024]      12,596,224           True\n",
              "│    │    └─EncoderBlock (encoder_layer_11)                  [32, 197, 1024]      [32, 197, 1024]      12,596,224           True\n",
              "│    │    └─EncoderBlock (encoder_layer_12)                  [32, 197, 1024]      [32, 197, 1024]      12,596,224           True\n",
              "│    │    └─EncoderBlock (encoder_layer_13)                  [32, 197, 1024]      [32, 197, 1024]      12,596,224           True\n",
              "│    │    └─EncoderBlock (encoder_layer_14)                  [32, 197, 1024]      [32, 197, 1024]      12,596,224           True\n",
              "│    │    └─EncoderBlock (encoder_layer_15)                  [32, 197, 1024]      [32, 197, 1024]      12,596,224           True\n",
              "│    │    └─EncoderBlock (encoder_layer_16)                  [32, 197, 1024]      [32, 197, 1024]      12,596,224           True\n",
              "│    │    └─EncoderBlock (encoder_layer_17)                  [32, 197, 1024]      [32, 197, 1024]      12,596,224           True\n",
              "│    │    └─EncoderBlock (encoder_layer_18)                  [32, 197, 1024]      [32, 197, 1024]      12,596,224           True\n",
              "│    │    └─EncoderBlock (encoder_layer_19)                  [32, 197, 1024]      [32, 197, 1024]      12,596,224           True\n",
              "│    │    └─EncoderBlock (encoder_layer_20)                  [32, 197, 1024]      [32, 197, 1024]      12,596,224           True\n",
              "│    │    └─EncoderBlock (encoder_layer_21)                  [32, 197, 1024]      [32, 197, 1024]      12,596,224           True\n",
              "│    │    └─EncoderBlock (encoder_layer_22)                  [32, 197, 1024]      [32, 197, 1024]      12,596,224           True\n",
              "│    │    └─EncoderBlock (encoder_layer_23)                  [32, 197, 1024]      [32, 197, 1024]      12,596,224           True\n",
              "│    └─LayerNorm (ln)                                        [32, 197, 1024]      [32, 197, 1024]      2,048                True\n",
              "├─Sequential (heads)                                         [32, 1024]           [32, 1000]           --                   True\n",
              "│    └─Linear (head)                                         [32, 1024]           [32, 1000]           1,025,000            True\n",
              "============================================================================================================================================\n",
              "Total params: 304,326,632\n",
              "Trainable params: 304,326,632\n",
              "Non-trainable params: 0\n",
              "Total mult-adds (G): 11.42\n",
              "============================================================================================================================================\n",
              "Input size (MB): 19.27\n",
              "Forward/backward pass size (MB): 8779.20\n",
              "Params size (MB): 813.45\n",
              "Estimated Total Size (MB): 9611.91\n",
              "============================================================================================================================================"
            ]
          },
          "metadata": {},
          "execution_count": 26
        }
      ]
    },
    {
      "cell_type": "code",
      "source": [
        "# Freeze all base layers in the \"features\" section of the model\n",
        "layers = [model.conv_proj.parameters(), model.encoder.parameters()]\n",
        "for layer in layers:\n",
        "  for param in layer:\n",
        "    param.requires_grad = False"
      ],
      "metadata": {
        "id": "RPFSv5QiRVLH"
      },
      "execution_count": 18,
      "outputs": []
    },
    {
      "cell_type": "code",
      "source": [
        "# Set the manual seeds\n",
        "torch.manual_seed(42)\n",
        "torch.cuda.manual_seed(42)\n",
        "\n",
        "# Get the length of class_names (one output unit for each class)\n",
        "output_shape = len(class_names)\n",
        "\n",
        "# Recreate the classifier layer and seed it to the target device\n",
        "model.heads = torch.nn.Sequential(\n",
        "    #torch.nn.Dropout(p=0.2, inplace=True), \n",
        "    torch.nn.Linear(in_features=1024, \n",
        "                    out_features=output_shape, # same number of output units as our number of classes\n",
        "                    bias=True)).to(device)"
      ],
      "metadata": {
        "id": "V3hMQRamRdog"
      },
      "execution_count": 19,
      "outputs": []
    },
    {
      "cell_type": "code",
      "source": [
        "#look at summary again after adjusting our sequential layer \n",
        "summary(model=model, \n",
        "        input_size=(32, 3, 224, 224), # make sure this is \"input_size\", not \"input_shape\"\n",
        "        col_names=[\"input_size\", \"output_size\", \"num_params\", \"trainable\"],\n",
        "        col_width=20,\n",
        "        row_settings=[\"var_names\"]\n",
        ")"
      ],
      "metadata": {
        "colab": {
          "base_uri": "https://localhost:8080/"
        },
        "id": "ykth9Z1DSx24",
        "outputId": "e0c3d3f9-8f2e-48bb-ac6c-6246d967228c"
      },
      "execution_count": null,
      "outputs": [
        {
          "output_type": "execute_result",
          "data": {
            "text/plain": [
              "============================================================================================================================================\n",
              "Layer (type (var_name))                                      Input Shape          Output Shape         Param #              Trainable\n",
              "============================================================================================================================================\n",
              "VisionTransformer (VisionTransformer)                        [32, 3, 224, 224]    [32, 3]              1,024                Partial\n",
              "├─Conv2d (conv_proj)                                         [32, 3, 224, 224]    [32, 1024, 14, 14]   (787,456)            False\n",
              "├─Encoder (encoder)                                          [32, 197, 1024]      [32, 197, 1024]      201,728              False\n",
              "│    └─Dropout (dropout)                                     [32, 197, 1024]      [32, 197, 1024]      --                   --\n",
              "│    └─Sequential (layers)                                   [32, 197, 1024]      [32, 197, 1024]      --                   False\n",
              "│    │    └─EncoderBlock (encoder_layer_0)                   [32, 197, 1024]      [32, 197, 1024]      (12,596,224)         False\n",
              "│    │    └─EncoderBlock (encoder_layer_1)                   [32, 197, 1024]      [32, 197, 1024]      (12,596,224)         False\n",
              "│    │    └─EncoderBlock (encoder_layer_2)                   [32, 197, 1024]      [32, 197, 1024]      (12,596,224)         False\n",
              "│    │    └─EncoderBlock (encoder_layer_3)                   [32, 197, 1024]      [32, 197, 1024]      (12,596,224)         False\n",
              "│    │    └─EncoderBlock (encoder_layer_4)                   [32, 197, 1024]      [32, 197, 1024]      (12,596,224)         False\n",
              "│    │    └─EncoderBlock (encoder_layer_5)                   [32, 197, 1024]      [32, 197, 1024]      (12,596,224)         False\n",
              "│    │    └─EncoderBlock (encoder_layer_6)                   [32, 197, 1024]      [32, 197, 1024]      (12,596,224)         False\n",
              "│    │    └─EncoderBlock (encoder_layer_7)                   [32, 197, 1024]      [32, 197, 1024]      (12,596,224)         False\n",
              "│    │    └─EncoderBlock (encoder_layer_8)                   [32, 197, 1024]      [32, 197, 1024]      (12,596,224)         False\n",
              "│    │    └─EncoderBlock (encoder_layer_9)                   [32, 197, 1024]      [32, 197, 1024]      (12,596,224)         False\n",
              "│    │    └─EncoderBlock (encoder_layer_10)                  [32, 197, 1024]      [32, 197, 1024]      (12,596,224)         False\n",
              "│    │    └─EncoderBlock (encoder_layer_11)                  [32, 197, 1024]      [32, 197, 1024]      (12,596,224)         False\n",
              "│    │    └─EncoderBlock (encoder_layer_12)                  [32, 197, 1024]      [32, 197, 1024]      (12,596,224)         False\n",
              "│    │    └─EncoderBlock (encoder_layer_13)                  [32, 197, 1024]      [32, 197, 1024]      (12,596,224)         False\n",
              "│    │    └─EncoderBlock (encoder_layer_14)                  [32, 197, 1024]      [32, 197, 1024]      (12,596,224)         False\n",
              "│    │    └─EncoderBlock (encoder_layer_15)                  [32, 197, 1024]      [32, 197, 1024]      (12,596,224)         False\n",
              "│    │    └─EncoderBlock (encoder_layer_16)                  [32, 197, 1024]      [32, 197, 1024]      (12,596,224)         False\n",
              "│    │    └─EncoderBlock (encoder_layer_17)                  [32, 197, 1024]      [32, 197, 1024]      (12,596,224)         False\n",
              "│    │    └─EncoderBlock (encoder_layer_18)                  [32, 197, 1024]      [32, 197, 1024]      (12,596,224)         False\n",
              "│    │    └─EncoderBlock (encoder_layer_19)                  [32, 197, 1024]      [32, 197, 1024]      (12,596,224)         False\n",
              "│    │    └─EncoderBlock (encoder_layer_20)                  [32, 197, 1024]      [32, 197, 1024]      (12,596,224)         False\n",
              "│    │    └─EncoderBlock (encoder_layer_21)                  [32, 197, 1024]      [32, 197, 1024]      (12,596,224)         False\n",
              "│    │    └─EncoderBlock (encoder_layer_22)                  [32, 197, 1024]      [32, 197, 1024]      (12,596,224)         False\n",
              "│    │    └─EncoderBlock (encoder_layer_23)                  [32, 197, 1024]      [32, 197, 1024]      (12,596,224)         False\n",
              "│    └─LayerNorm (ln)                                        [32, 197, 1024]      [32, 197, 1024]      (2,048)              False\n",
              "├─Sequential (heads)                                         [32, 1024]           [32, 3]              --                   True\n",
              "│    └─Linear (0)                                            [32, 1024]           [32, 3]              3,075                True\n",
              "============================================================================================================================================\n",
              "Total params: 303,304,707\n",
              "Trainable params: 4,099\n",
              "Non-trainable params: 303,300,608\n",
              "Total mult-adds (G): 11.39\n",
              "============================================================================================================================================\n",
              "Input size (MB): 19.27\n",
              "Forward/backward pass size (MB): 8778.94\n",
              "Params size (MB): 809.36\n",
              "Estimated Total Size (MB): 9607.57\n",
              "============================================================================================================================================"
            ]
          },
          "metadata": {},
          "execution_count": 17
        }
      ]
    },
    {
      "cell_type": "code",
      "source": [
        "#set hyperparameters \n",
        "loss_fn = nn.CrossEntropyLoss()\n",
        "optimizer = torch.optim.Adam(model.parameters(), lr=0.001)"
      ],
      "metadata": {
        "id": "3KUmw6lHTRiz"
      },
      "execution_count": null,
      "outputs": []
    },
    {
      "cell_type": "code",
      "source": [
        "torch.manual_seed(42)\n",
        "torch.cuda.manual_seed(42)\n",
        "\n",
        "# Start the timer\n",
        "from timeit import default_timer as timer \n",
        "start_time = timer()\n",
        "\n",
        "# Setup training and save the results\n",
        "results = engine.train(model=model,\n",
        "                       train_dataloader=train_dataloader,\n",
        "                       test_dataloader=test_dataloader,\n",
        "                       optimizer=optimizer,\n",
        "                       loss_fn=loss_fn,\n",
        "                       epochs=10,\n",
        "                       device=device)\n",
        "\n",
        "# End the timer and print out how long it took\n",
        "end_time = timer()\n",
        "print(f\"[INFO] Total training time: {end_time-start_time:.3f} seconds\")"
      ],
      "metadata": {
        "colab": {
          "base_uri": "https://localhost:8080/",
          "height": 240,
          "referenced_widgets": [
            "965f836e54324b018eaa9e1cb95fef94",
            "1e4c1399e2274d9798755b2af628bfcd",
            "6dfd113161a940598a2ee937d0512045",
            "92d3b2d60413453e810b482612393b8b",
            "10e7fb81912041b68207e2bde43c111a",
            "d305e1ebd7704ed298cb272d4cdabb92",
            "b71b2064be604e30bc178fdd82121cc2",
            "23a53c8ad67e4334bdd54b4bf2077db3",
            "e782631ce00346dabffad660e04b7d4c",
            "eab4beecb8014a31aa529834c815a6af",
            "2c1933bce5b84c538235a5ce867609a3"
          ]
        },
        "id": "Y4Pkn9SGTaUc",
        "outputId": "f416f4be-8afe-4258-dd1a-5a00b9ca90ae"
      },
      "execution_count": null,
      "outputs": [
        {
          "output_type": "display_data",
          "data": {
            "text/plain": [
              "  0%|          | 0/10 [00:00<?, ?it/s]"
            ],
            "application/vnd.jupyter.widget-view+json": {
              "version_major": 2,
              "version_minor": 0,
              "model_id": "965f836e54324b018eaa9e1cb95fef94"
            }
          },
          "metadata": {}
        },
        {
          "output_type": "stream",
          "name": "stdout",
          "text": [
            "Epoch: 1 | train_loss: 1.1302 | train_acc: 0.3562 | test_loss: 1.0908 | test_acc: 0.3818\n",
            "Epoch: 2 | train_loss: 1.1050 | train_acc: 0.3773 | test_loss: 1.0800 | test_acc: 0.4056\n",
            "Epoch: 3 | train_loss: 1.0960 | train_acc: 0.3885 | test_loss: 1.0742 | test_acc: 0.4149\n",
            "Epoch: 4 | train_loss: 1.0895 | train_acc: 0.4033 | test_loss: 1.0550 | test_acc: 0.4417\n",
            "Epoch: 5 | train_loss: 1.0806 | train_acc: 0.4139 | test_loss: 1.1027 | test_acc: 0.3921\n",
            "Epoch: 6 | train_loss: 1.0770 | train_acc: 0.4098 | test_loss: 1.0416 | test_acc: 0.4484\n",
            "Epoch: 7 | train_loss: 1.0671 | train_acc: 0.4232 | test_loss: 1.0383 | test_acc: 0.4629\n",
            "Epoch: 8 | train_loss: 1.0652 | train_acc: 0.4326 | test_loss: 1.0731 | test_acc: 0.4200\n",
            "Epoch: 9 | train_loss: 1.0620 | train_acc: 0.4357 | test_loss: 1.0401 | test_acc: 0.4517\n",
            "Epoch: 10 | train_loss: 1.0610 | train_acc: 0.4327 | test_loss: 1.0282 | test_acc: 0.4654\n",
            "[INFO] Total training time: 12088.170 seconds\n"
          ]
        }
      ]
    },
    {
      "cell_type": "code",
      "source": [
        "def save_model(model: torch.nn.Module,\n",
        "               target_dir: str,\n",
        "               model_name: str):\n",
        "  \"\"\"Saves a PyTorch model to a target directory.\n",
        "\n",
        "  Args:\n",
        "    model: A target PyTorch model to save.\n",
        "    target_dir: A directory for saving the model to.\n",
        "    model_name: A filename for the saved model. Should include\n",
        "      either \".pth\" or \".pt\" as the file extension.\n",
        "\n",
        "  Example usage:\n",
        "    save_model(model=model_0,\n",
        "               target_dir=\"models\",\n",
        "               model_name=\"05_going_modular_tingvgg_model.pth\")\n",
        "  \"\"\"\n",
        "  # Create target directory\n",
        "  target_dir_path = Path(target_dir)\n",
        "  target_dir_path.mkdir(parents=True,\n",
        "                        exist_ok=True)\n",
        "\n",
        "  # Create model save path\n",
        "  assert model_name.endswith(\".pth\") or model_name.endswith(\".pt\"), \"model_name should end with '.pt' or '.pth'\"\n",
        "  model_save_path = target_dir_path / model_name\n",
        "\n",
        "  # Save the model state_dict()\n",
        "  print(f\"[INFO] Saving model to: {model_save_path}\")\n",
        "  torch.save(obj=model.state_dict(),\n",
        "             f=model_save_path)"
      ],
      "metadata": {
        "id": "w_p6VL_TgE_R"
      },
      "execution_count": 20,
      "outputs": []
    },
    {
      "cell_type": "code",
      "source": [
        "save_model(model = model,\n",
        "           target_dir ='/content/drive/MyDrive/NN and DL/projects/Released_Data/',\n",
        "           model_name = 'vit_l_16_base.pth')"
      ],
      "metadata": {
        "id": "_oYLL-_KgHl5",
        "colab": {
          "base_uri": "https://localhost:8080/"
        },
        "outputId": "bfbd1543-7358-4451-96cd-d3973545abdc"
      },
      "execution_count": null,
      "outputs": [
        {
          "output_type": "stream",
          "name": "stdout",
          "text": [
            "[INFO] Saving model to: /content/drive/MyDrive/NN and DL/projects/Released_Data/vit_l_16_base.pth\n"
          ]
        }
      ]
    },
    {
      "cell_type": "markdown",
      "source": [
        "###Optimize Network"
      ],
      "metadata": {
        "id": "_iZE86e2Sa61"
      }
    },
    {
      "cell_type": "code",
      "source": [
        "try:\n",
        "  import optuna\n",
        "except:\n",
        "  !pip install optuna\n",
        "  import optuna"
      ],
      "metadata": {
        "id": "grCGSaCbw2ny"
      },
      "execution_count": 21,
      "outputs": []
    },
    {
      "cell_type": "code",
      "source": [
        "#define objective to optimize \n",
        "MODEL = model\n",
        "EPOCHS = 5\n",
        "DEVICE = device = \"cuda\" if torch.cuda.is_available() else \"cpu\"\n",
        "train_loader = train_dataloader\n",
        "valid_loader = test_dataloader\n",
        "\n",
        "def objective(trial):\n",
        "\n",
        "    # Generate the model.\n",
        "    model = MODEL\n",
        "\n",
        "    # Generate the optimizers\n",
        "    optimizer_name = trial.suggest_categorical(\"optimizer\", [\"Adam\",\"SGD\"])\n",
        "    lr = trial.suggest_float(\"lr\", 1e-5, 1e-1,log=True)\n",
        "    optimizer = getattr(torch.optim, optimizer_name)(model.heads.parameters(), lr=lr)\n",
        "    #batch_size=trial.suggest_int(\"batch_size\", 16, 128,step=16)\n",
        "\n",
        "    criterion=nn.CrossEntropyLoss()\n",
        "    \n",
        "    # Training of the model.\n",
        "    for epoch in range(EPOCHS):\n",
        "        model.train()\n",
        "       \n",
        "        for batch_idx, (images, labels) in enumerate(train_loader):\n",
        "\n",
        "            images, labels = images.to(DEVICE), labels.to(DEVICE)\n",
        "\n",
        "            optimizer.zero_grad()\n",
        "            output = model(images)\n",
        "            loss = criterion(output, labels)\n",
        "            loss.backward()\n",
        "            optimizer.step()\n",
        "\n",
        "        # Validation of the model.\n",
        "        model.eval()\n",
        "        correct = 0\n",
        "        with torch.no_grad():\n",
        "            for batch_idx, (images, labels) in enumerate(valid_loader):\n",
        "                # Limiting validation images.\n",
        "               # if batch_idx * BATCHSIZE >= N_VALID_EXAMPLES:\n",
        "                #    break\n",
        "                images, labels = images.to(DEVICE), labels.to(DEVICE)\n",
        "                output = model(images)\n",
        "                # Get the index of the max log-probability.\n",
        "                pred = output.argmax(dim=1, keepdim=True)\n",
        "                correct += pred.eq(labels.view_as(pred)).sum().item()\n",
        "\n",
        "        accuracy = correct / len(valid_loader.dataset)\n",
        "\n",
        "        trial.report(accuracy, epoch)\n",
        "\n",
        "        # Handle pruning based on the intermediate value.\n",
        "        if trial.should_prune():\n",
        "            raise optuna.exceptions.TrialPruned()\n",
        "\n",
        "    return accuracy"
      ],
      "metadata": {
        "id": "_brA4FpExMP8"
      },
      "execution_count": 30,
      "outputs": []
    },
    {
      "cell_type": "code",
      "source": [
        "#create study for optuna \n",
        "torch.manual_seed(42)\n",
        "torch.cuda.manual_seed(42)\n",
        "\n",
        "# Start the timer\n",
        "from timeit import default_timer as timer \n",
        "start_time = timer()\n",
        "\n",
        "study = optuna.create_study(direction='maximize')\n",
        "study.optimize(objective, n_trials=3)\n",
        "\n",
        "trial = study.best_trial\n",
        "\n",
        "print('Accuracy: {}'.format(trial.value))\n",
        "print(\"Best hyperparameters: {}\".format(trial.params))\n",
        "\n",
        "end_time = timer()\n",
        "print(f\"[INFO] Total time to tune hyper parameters: {end_time-start_time:.3f} seconds using {DEVICE}\")\n",
        "\n",
        "df = study.trials_dataframe()\n",
        "df"
      ],
      "metadata": {
        "id": "vaRf9cBG0EEW",
        "colab": {
          "base_uri": "https://localhost:8080/",
          "height": 265
        },
        "outputId": "dc6378ec-07a1-48e9-d561-513ccf2161fc"
      },
      "execution_count": 31,
      "outputs": [
        {
          "output_type": "stream",
          "name": "stderr",
          "text": [
            "\u001b[32m[I 2022-12-06 21:20:01,734]\u001b[0m A new study created in memory with name: no-name-f06b9366-ba4c-4185-af71-65e305d7e56d\u001b[0m\n",
            "\u001b[32m[I 2022-12-06 22:24:55,641]\u001b[0m Trial 0 finished with value: 0.42567985166872685 and parameters: {'optimizer': 'Adam', 'lr': 0.07172109916857937}. Best is trial 0 with value: 0.42567985166872685.\u001b[0m\n",
            "\u001b[32m[I 2022-12-06 23:29:48,159]\u001b[0m Trial 1 finished with value: 0.4558096415327565 and parameters: {'optimizer': 'SGD', 'lr': 0.02978276103308409}. Best is trial 1 with value: 0.4558096415327565.\u001b[0m\n",
            "\u001b[32m[I 2022-12-07 00:34:44,945]\u001b[0m Trial 2 finished with value: 0.50942521631644 and parameters: {'optimizer': 'SGD', 'lr': 0.005304197434006815}. Best is trial 2 with value: 0.50942521631644.\u001b[0m\n"
          ]
        },
        {
          "output_type": "stream",
          "name": "stdout",
          "text": [
            "Accuracy: 0.50942521631644\n",
            "Best hyperparameters: {'optimizer': 'SGD', 'lr': 0.005304197434006815}\n",
            "[INFO] Total time to tune hyper parameters: 11683.214 seconds using cuda\n"
          ]
        },
        {
          "output_type": "execute_result",
          "data": {
            "text/html": [
              "\n",
              "  <div id=\"df-ed3c59e5-4abd-4982-87f4-084dcafe3e68\">\n",
              "    <div class=\"colab-df-container\">\n",
              "      <div>\n",
              "<style scoped>\n",
              "    .dataframe tbody tr th:only-of-type {\n",
              "        vertical-align: middle;\n",
              "    }\n",
              "\n",
              "    .dataframe tbody tr th {\n",
              "        vertical-align: top;\n",
              "    }\n",
              "\n",
              "    .dataframe thead th {\n",
              "        text-align: right;\n",
              "    }\n",
              "</style>\n",
              "<table border=\"1\" class=\"dataframe\">\n",
              "  <thead>\n",
              "    <tr style=\"text-align: right;\">\n",
              "      <th></th>\n",
              "      <th>number</th>\n",
              "      <th>value</th>\n",
              "      <th>datetime_start</th>\n",
              "      <th>datetime_complete</th>\n",
              "      <th>duration</th>\n",
              "      <th>params_lr</th>\n",
              "      <th>params_optimizer</th>\n",
              "      <th>state</th>\n",
              "    </tr>\n",
              "  </thead>\n",
              "  <tbody>\n",
              "    <tr>\n",
              "      <th>0</th>\n",
              "      <td>0</td>\n",
              "      <td>0.425680</td>\n",
              "      <td>2022-12-06 21:20:01.736467</td>\n",
              "      <td>2022-12-06 22:24:55.641593</td>\n",
              "      <td>0 days 01:04:53.905126</td>\n",
              "      <td>0.071721</td>\n",
              "      <td>Adam</td>\n",
              "      <td>COMPLETE</td>\n",
              "    </tr>\n",
              "    <tr>\n",
              "      <th>1</th>\n",
              "      <td>1</td>\n",
              "      <td>0.455810</td>\n",
              "      <td>2022-12-06 22:24:55.643668</td>\n",
              "      <td>2022-12-06 23:29:48.159106</td>\n",
              "      <td>0 days 01:04:52.515438</td>\n",
              "      <td>0.029783</td>\n",
              "      <td>SGD</td>\n",
              "      <td>COMPLETE</td>\n",
              "    </tr>\n",
              "    <tr>\n",
              "      <th>2</th>\n",
              "      <td>2</td>\n",
              "      <td>0.509425</td>\n",
              "      <td>2022-12-06 23:29:48.161270</td>\n",
              "      <td>2022-12-07 00:34:44.944737</td>\n",
              "      <td>0 days 01:04:56.783467</td>\n",
              "      <td>0.005304</td>\n",
              "      <td>SGD</td>\n",
              "      <td>COMPLETE</td>\n",
              "    </tr>\n",
              "  </tbody>\n",
              "</table>\n",
              "</div>\n",
              "      <button class=\"colab-df-convert\" onclick=\"convertToInteractive('df-ed3c59e5-4abd-4982-87f4-084dcafe3e68')\"\n",
              "              title=\"Convert this dataframe to an interactive table.\"\n",
              "              style=\"display:none;\">\n",
              "        \n",
              "  <svg xmlns=\"http://www.w3.org/2000/svg\" height=\"24px\"viewBox=\"0 0 24 24\"\n",
              "       width=\"24px\">\n",
              "    <path d=\"M0 0h24v24H0V0z\" fill=\"none\"/>\n",
              "    <path d=\"M18.56 5.44l.94 2.06.94-2.06 2.06-.94-2.06-.94-.94-2.06-.94 2.06-2.06.94zm-11 1L8.5 8.5l.94-2.06 2.06-.94-2.06-.94L8.5 2.5l-.94 2.06-2.06.94zm10 10l.94 2.06.94-2.06 2.06-.94-2.06-.94-.94-2.06-.94 2.06-2.06.94z\"/><path d=\"M17.41 7.96l-1.37-1.37c-.4-.4-.92-.59-1.43-.59-.52 0-1.04.2-1.43.59L10.3 9.45l-7.72 7.72c-.78.78-.78 2.05 0 2.83L4 21.41c.39.39.9.59 1.41.59.51 0 1.02-.2 1.41-.59l7.78-7.78 2.81-2.81c.8-.78.8-2.07 0-2.86zM5.41 20L4 18.59l7.72-7.72 1.47 1.35L5.41 20z\"/>\n",
              "  </svg>\n",
              "      </button>\n",
              "      \n",
              "  <style>\n",
              "    .colab-df-container {\n",
              "      display:flex;\n",
              "      flex-wrap:wrap;\n",
              "      gap: 12px;\n",
              "    }\n",
              "\n",
              "    .colab-df-convert {\n",
              "      background-color: #E8F0FE;\n",
              "      border: none;\n",
              "      border-radius: 50%;\n",
              "      cursor: pointer;\n",
              "      display: none;\n",
              "      fill: #1967D2;\n",
              "      height: 32px;\n",
              "      padding: 0 0 0 0;\n",
              "      width: 32px;\n",
              "    }\n",
              "\n",
              "    .colab-df-convert:hover {\n",
              "      background-color: #E2EBFA;\n",
              "      box-shadow: 0px 1px 2px rgba(60, 64, 67, 0.3), 0px 1px 3px 1px rgba(60, 64, 67, 0.15);\n",
              "      fill: #174EA6;\n",
              "    }\n",
              "\n",
              "    [theme=dark] .colab-df-convert {\n",
              "      background-color: #3B4455;\n",
              "      fill: #D2E3FC;\n",
              "    }\n",
              "\n",
              "    [theme=dark] .colab-df-convert:hover {\n",
              "      background-color: #434B5C;\n",
              "      box-shadow: 0px 1px 3px 1px rgba(0, 0, 0, 0.15);\n",
              "      filter: drop-shadow(0px 1px 2px rgba(0, 0, 0, 0.3));\n",
              "      fill: #FFFFFF;\n",
              "    }\n",
              "  </style>\n",
              "\n",
              "      <script>\n",
              "        const buttonEl =\n",
              "          document.querySelector('#df-ed3c59e5-4abd-4982-87f4-084dcafe3e68 button.colab-df-convert');\n",
              "        buttonEl.style.display =\n",
              "          google.colab.kernel.accessAllowed ? 'block' : 'none';\n",
              "\n",
              "        async function convertToInteractive(key) {\n",
              "          const element = document.querySelector('#df-ed3c59e5-4abd-4982-87f4-084dcafe3e68');\n",
              "          const dataTable =\n",
              "            await google.colab.kernel.invokeFunction('convertToInteractive',\n",
              "                                                     [key], {});\n",
              "          if (!dataTable) return;\n",
              "\n",
              "          const docLinkHtml = 'Like what you see? Visit the ' +\n",
              "            '<a target=\"_blank\" href=https://colab.research.google.com/notebooks/data_table.ipynb>data table notebook</a>'\n",
              "            + ' to learn more about interactive tables.';\n",
              "          element.innerHTML = '';\n",
              "          dataTable['output_type'] = 'display_data';\n",
              "          await google.colab.output.renderOutput(dataTable, element);\n",
              "          const docLink = document.createElement('div');\n",
              "          docLink.innerHTML = docLinkHtml;\n",
              "          element.appendChild(docLink);\n",
              "        }\n",
              "      </script>\n",
              "    </div>\n",
              "  </div>\n",
              "  "
            ],
            "text/plain": [
              "   number     value  ... params_optimizer     state\n",
              "0       0  0.425680  ...             Adam  COMPLETE\n",
              "1       1  0.455810  ...              SGD  COMPLETE\n",
              "2       2  0.509425  ...              SGD  COMPLETE\n",
              "\n",
              "[3 rows x 8 columns]"
            ]
          },
          "metadata": {},
          "execution_count": 31
        }
      ]
    },
    {
      "cell_type": "markdown",
      "source": [
        "###Retrain Model for more epochs on best hyperparameters"
      ],
      "metadata": {
        "id": "-U7IFEYLA0pG"
      }
    },
    {
      "cell_type": "code",
      "source": [
        "model_opt = torchvision.models.vit_l_16(weights=weights).to(device)\n",
        "\n",
        "layers = [model.conv_proj.parameters(), model.encoder.parameters()]\n",
        "for layer in layers:\n",
        "  for param in layer:\n",
        "    param.requires_grad = False\n",
        "\n",
        "\n",
        "# Set the manual seeds\n",
        "torch.manual_seed(42)\n",
        "torch.cuda.manual_seed(42)\n",
        "\n",
        "# Get the length of class_names (one output unit for each class)\n",
        "output_shape = len(class_names)\n",
        "\n",
        "# Recreate the classifier layer and seed it to the target device\n",
        "model.heads = torch.nn.Sequential(\n",
        "    #torch.nn.Dropout(p=0.2, inplace=True), \n",
        "    torch.nn.Linear(in_features=1024, \n",
        "                    out_features=output_shape, # same number of output units as our number of classes\n",
        "                    bias=True)).to(device)\n"
      ],
      "metadata": {
        "id": "JrCB7g__HSFJ"
      },
      "execution_count": 35,
      "outputs": []
    },
    {
      "cell_type": "code",
      "source": [
        "loss_fn = nn.CrossEntropyLoss()\n",
        "optimizer = torch.optim.SGD(model.heads.parameters(), lr=trial.params['lr'])\n",
        "\n",
        "torch.manual_seed(42)\n",
        "torch.cuda.manual_seed(42)\n",
        "\n",
        "# Start the timer\n",
        "from timeit import default_timer as timer \n",
        "start_time = timer()\n",
        "\n",
        "# Setup training and save the results\n",
        "results = engine.train(model=model,\n",
        "                       train_dataloader=train_dataloader,\n",
        "                       test_dataloader=test_dataloader,\n",
        "                       optimizer=optimizer,\n",
        "                       loss_fn=loss_fn,\n",
        "                       epochs=50,\n",
        "                       device=device)\n",
        "\n",
        "# End the timer and print out how long it took\n",
        "end_time = timer()\n",
        "print(f\"[INFO] Total training time: {end_time-start_time:.3f} seconds\")\n",
        "\n",
        "save_model(model = model,\n",
        "           target_dir ='/content/',\n",
        "           model_name = 'vit_l_16_optimized.pth')"
      ],
      "metadata": {
        "colab": {
          "base_uri": "https://localhost:8080/",
          "height": 952,
          "referenced_widgets": [
            "eca47ca268ca430f9514f142855d11bc",
            "659c822fb0f74fd29e6c76aba651df76",
            "988005c301ee4b38a170a0688a9762f3",
            "733529a8a6574008ad5d46eed4df4a53",
            "2594b4147f3e493a9da31d56be679bbb",
            "f9502f9e6f294d73ae5f99fd9c6065d9",
            "cf88e5b70f2c440bb7f911aef40f2970",
            "55bd36357ee14576b26a79ef15bf97f4",
            "33f20e4ff00844cfbaf233de1ed782c6",
            "fa3bc369e2d54fffbbde3f0ab57c648f",
            "88f07a9cd3fe4e2bbcb9acfcb53e6d09"
          ]
        },
        "id": "OzK4RXakA7gj",
        "outputId": "72a1459a-995a-4240-d6df-d2f538c72c49"
      },
      "execution_count": 36,
      "outputs": [
        {
          "output_type": "display_data",
          "data": {
            "application/vnd.jupyter.widget-view+json": {
              "model_id": "eca47ca268ca430f9514f142855d11bc",
              "version_minor": 0,
              "version_major": 2
            },
            "text/plain": [
              "  0%|          | 0/50 [00:00<?, ?it/s]"
            ]
          },
          "metadata": {}
        },
        {
          "output_type": "stream",
          "name": "stdout",
          "text": [
            "Epoch: 1 | train_loss: 1.1117 | train_acc: 0.3507 | test_loss: 1.1007 | test_acc: 0.3616\n",
            "Epoch: 2 | train_loss: 1.1048 | train_acc: 0.3659 | test_loss: 1.0953 | test_acc: 0.3933\n",
            "Epoch: 3 | train_loss: 1.0964 | train_acc: 0.3773 | test_loss: 1.0881 | test_acc: 0.4027\n",
            "Epoch: 4 | train_loss: 1.0913 | train_acc: 0.3872 | test_loss: 1.1294 | test_acc: 0.3849\n",
            "Epoch: 5 | train_loss: 1.0874 | train_acc: 0.3882 | test_loss: 1.0974 | test_acc: 0.3544\n",
            "Epoch: 6 | train_loss: 1.0813 | train_acc: 0.4039 | test_loss: 1.1251 | test_acc: 0.3955\n",
            "Epoch: 7 | train_loss: 1.0798 | train_acc: 0.4007 | test_loss: 1.0707 | test_acc: 0.4104\n",
            "Epoch: 8 | train_loss: 1.0765 | train_acc: 0.4095 | test_loss: 1.1269 | test_acc: 0.3648\n",
            "Epoch: 9 | train_loss: 1.0730 | train_acc: 0.4124 | test_loss: 1.0926 | test_acc: 0.3936\n",
            "Epoch: 10 | train_loss: 1.0713 | train_acc: 0.4139 | test_loss: 1.0666 | test_acc: 0.4293\n",
            "Epoch: 11 | train_loss: 1.0690 | train_acc: 0.4206 | test_loss: 1.0540 | test_acc: 0.4514\n",
            "Epoch: 12 | train_loss: 1.0660 | train_acc: 0.4227 | test_loss: 1.0492 | test_acc: 0.4498\n",
            "Epoch: 13 | train_loss: 1.0649 | train_acc: 0.4256 | test_loss: 1.0995 | test_acc: 0.3949\n",
            "Epoch: 14 | train_loss: 1.0633 | train_acc: 0.4309 | test_loss: 1.0502 | test_acc: 0.4495\n",
            "Epoch: 15 | train_loss: 1.0600 | train_acc: 0.4296 | test_loss: 1.0833 | test_acc: 0.4123\n",
            "Epoch: 16 | train_loss: 1.0607 | train_acc: 0.4323 | test_loss: 1.0529 | test_acc: 0.4390\n",
            "Epoch: 17 | train_loss: 1.0568 | train_acc: 0.4410 | test_loss: 1.0567 | test_acc: 0.4363\n",
            "Epoch: 18 | train_loss: 1.0549 | train_acc: 0.4381 | test_loss: 1.0514 | test_acc: 0.4447\n",
            "Epoch: 19 | train_loss: 1.0544 | train_acc: 0.4378 | test_loss: 1.0861 | test_acc: 0.4029\n",
            "Epoch: 20 | train_loss: 1.0567 | train_acc: 0.4386 | test_loss: 1.0453 | test_acc: 0.4575\n",
            "Epoch: 21 | train_loss: 1.0500 | train_acc: 0.4446 | test_loss: 1.0414 | test_acc: 0.4591\n",
            "Epoch: 22 | train_loss: 1.0519 | train_acc: 0.4375 | test_loss: 1.0520 | test_acc: 0.4452\n",
            "Epoch: 23 | train_loss: 1.0477 | train_acc: 0.4420 | test_loss: 1.0312 | test_acc: 0.4706\n",
            "Epoch: 24 | train_loss: 1.0431 | train_acc: 0.4560 | test_loss: 1.0744 | test_acc: 0.4433\n",
            "Epoch: 25 | train_loss: 1.0440 | train_acc: 0.4510 | test_loss: 1.0551 | test_acc: 0.4372\n",
            "Epoch: 26 | train_loss: 1.0470 | train_acc: 0.4541 | test_loss: 1.0977 | test_acc: 0.3750\n",
            "Epoch: 27 | train_loss: 1.0438 | train_acc: 0.4484 | test_loss: 1.0566 | test_acc: 0.4266\n",
            "Epoch: 28 | train_loss: 1.0421 | train_acc: 0.4497 | test_loss: 1.0644 | test_acc: 0.4366\n",
            "Epoch: 29 | train_loss: 1.0417 | train_acc: 0.4517 | test_loss: 1.0978 | test_acc: 0.3708\n",
            "Epoch: 30 | train_loss: 1.0415 | train_acc: 0.4549 | test_loss: 1.0283 | test_acc: 0.4631\n",
            "Epoch: 31 | train_loss: 1.0400 | train_acc: 0.4530 | test_loss: 1.0366 | test_acc: 0.4500\n",
            "Epoch: 32 | train_loss: 1.0375 | train_acc: 0.4524 | test_loss: 1.0624 | test_acc: 0.4220\n",
            "Epoch: 33 | train_loss: 1.0378 | train_acc: 0.4578 | test_loss: 1.0392 | test_acc: 0.4437\n",
            "Epoch: 34 | train_loss: 1.0369 | train_acc: 0.4550 | test_loss: 1.0281 | test_acc: 0.4786\n",
            "Epoch: 35 | train_loss: 1.0332 | train_acc: 0.4641 | test_loss: 1.0743 | test_acc: 0.4104\n",
            "Epoch: 36 | train_loss: 1.0344 | train_acc: 0.4595 | test_loss: 1.0190 | test_acc: 0.4775\n",
            "Epoch: 37 | train_loss: 1.0349 | train_acc: 0.4603 | test_loss: 1.0297 | test_acc: 0.4647\n",
            "Epoch: 38 | train_loss: 1.0332 | train_acc: 0.4623 | test_loss: 1.0179 | test_acc: 0.4900\n",
            "Epoch: 39 | train_loss: 1.0309 | train_acc: 0.4714 | test_loss: 1.0298 | test_acc: 0.4651\n",
            "Epoch: 40 | train_loss: 1.0304 | train_acc: 0.4657 | test_loss: 1.0503 | test_acc: 0.4549\n",
            "Epoch: 41 | train_loss: 1.0326 | train_acc: 0.4638 | test_loss: 1.0174 | test_acc: 0.4808\n",
            "Epoch: 42 | train_loss: 1.0267 | train_acc: 0.4712 | test_loss: 1.0422 | test_acc: 0.4469\n",
            "Epoch: 43 | train_loss: 1.0298 | train_acc: 0.4709 | test_loss: 1.0120 | test_acc: 0.4871\n",
            "Epoch: 44 | train_loss: 1.0305 | train_acc: 0.4661 | test_loss: 1.0560 | test_acc: 0.4401\n",
            "Epoch: 45 | train_loss: 1.0280 | train_acc: 0.4740 | test_loss: 1.0286 | test_acc: 0.4700\n",
            "Epoch: 46 | train_loss: 1.0280 | train_acc: 0.4672 | test_loss: 1.0293 | test_acc: 0.4692\n",
            "Epoch: 47 | train_loss: 1.0264 | train_acc: 0.4698 | test_loss: 1.0112 | test_acc: 0.4940\n",
            "Epoch: 48 | train_loss: 1.0240 | train_acc: 0.4752 | test_loss: 1.0174 | test_acc: 0.4723\n",
            "Epoch: 49 | train_loss: 1.0236 | train_acc: 0.4777 | test_loss: 1.0180 | test_acc: 0.4818\n",
            "Epoch: 50 | train_loss: 1.0245 | train_acc: 0.4763 | test_loss: 1.0670 | test_acc: 0.4173\n",
            "[INFO] Total training time: 38975.232 seconds\n",
            "[INFO] Saving model to: /content/vit_l_16_optimized.pth\n"
          ]
        }
      ]
    },
    {
      "cell_type": "code",
      "source": [
        "def plot_loss_curves(loss_hist, acc_hist):\n",
        "    \"\"\"Plots training curves of a loss and accuracy dicts. \n",
        "    Args:\n",
        "       loss_hist = {train_loss:[], val_loss:[]}\n",
        "       train_hist = {train_acc:[], val_acc:[]}\n",
        "    \"\"\"\n",
        "    \n",
        "    # Get the loss values of the results dictionary (training and test)\n",
        "    train_loss = loss_hist['train']\n",
        "    test_loss = loss_hist['val']\n",
        "\n",
        "    # Get the accuracy values of the results dictionary (training and test)\n",
        "    train_accuracy = acc_hist['train']\n",
        "    test_accuracy = acc_hist['val']\n",
        "\n",
        "    # Figure out how many epochs there were\n",
        "    epochs = range(len(loss_hist['train']))\n",
        "\n",
        "    # Setup a plot \n",
        "    plt.figure(figsize=(15, 7))\n",
        "\n",
        "    # Plot loss\n",
        "    plt.subplot(1, 2, 1)\n",
        "    plt.plot(epochs, train_loss, label='train_loss')\n",
        "    plt.plot(epochs, test_loss, label='val_loss')\n",
        "    plt.title('Loss')\n",
        "    plt.xlabel('Epochs')\n",
        "    plt.legend()\n",
        "\n",
        "    # Plot accuracy\n",
        "    plt.subplot(1, 2, 2)\n",
        "    plt.plot(epochs, train_accuracy, label='train_accuracy')\n",
        "    plt.plot(epochs, test_accuracy, label='val_accuracy')\n",
        "    plt.title('Accuracy')\n",
        "    plt.xlabel('Epochs')\n",
        "    plt.legend();\n"
      ],
      "metadata": {
        "id": "NoB0FIjUBivl"
      },
      "execution_count": 42,
      "outputs": []
    },
    {
      "cell_type": "code",
      "source": [
        "loss_hist = {\"train\": results[\"train_loss\"], \"val\": results[\"test_loss\"]}\n",
        "acc_hist = {\"train\": results[\"train_acc\"], \"val\": results[\"test_acc\"]}\n",
        "                              \n",
        "plot_loss_curves(loss_hist, acc_hist)"
      ],
      "metadata": {
        "colab": {
          "base_uri": "https://localhost:8080/",
          "height": 458
        },
        "id": "xm94b0tZiYEK",
        "outputId": "1c936021-ed27-4b86-cf12-ea3a5cde62ee"
      },
      "execution_count": 43,
      "outputs": [
        {
          "output_type": "display_data",
          "data": {
            "image/png": "[encoded data removed]",
            "text/plain": [
              "<Figure size 1080x504 with 2 Axes>"
            ]
          },
          "metadata": {
            "needs_background": "light"
          }
        }
      ]
    },
    {
      "cell_type": "code",
      "source": [],
      "metadata": {
        "id": "yfwU3djJiYv1"
      },
      "execution_count": null,
      "outputs": []
    }
  ]
}