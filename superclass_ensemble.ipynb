{
  "nbformat": 4,
  "nbformat_minor": 0,
  "metadata": {
    "colab": {
      "provenance": [],
      "collapsed_sections": [
        "TH4I7h_FVgZS",
        "pxR7HxjuVlAo",
        "8kxaObKrswJQ",
        "b_-qSgf8hOEc"
      ],
      "include_colab_link": true
    },
    "kernelspec": {
      "name": "python3",
      "display_name": "Python 3"
    },
    "language_info": {
      "name": "python"
    },
    "accelerator": "GPU",
    "gpuClass": "standard",
    "widgets": {
      "application/vnd.jupyter.widget-state+json": {
        "dc972ee1a9624d40b27cf427a179d54e": {
          "model_module": "@jupyter-widgets/controls",
          "model_name": "HBoxModel",
          "model_module_version": "1.5.0",
          "state": {
            "_view_name": "HBoxView",
            "_dom_classes": [],
            "_model_name": "HBoxModel",
            "_view_module": "@jupyter-widgets/controls",
            "_model_module_version": "1.5.0",
            "_view_count": null,
            "_view_module_version": "1.5.0",
            "box_style": "",
            "layout": "IPY_MODEL_080a94e85bc74a2e921ba02a725cabd9",
            "_model_module": "@jupyter-widgets/controls",
            "children": [
              "IPY_MODEL_7b1589966cc940f8bc4a8e19beebc5e0",
              "IPY_MODEL_14b1d49493ba42d4ab0955e110322217",
              "IPY_MODEL_c655a12ddc4749faa44cebe6690b06f6"
            ]
          }
        },
        "080a94e85bc74a2e921ba02a725cabd9": {
          "model_module": "@jupyter-widgets/base",
          "model_name": "LayoutModel",
          "model_module_version": "1.2.0",
          "state": {
            "_view_name": "LayoutView",
            "grid_template_rows": null,
            "right": null,
            "justify_content": null,
            "_view_module": "@jupyter-widgets/base",
            "overflow": null,
            "_model_module_version": "1.2.0",
            "_view_count": null,
            "flex_flow": null,
            "width": null,
            "min_width": null,
            "border": null,
            "align_items": null,
            "bottom": null,
            "_model_module": "@jupyter-widgets/base",
            "top": null,
            "grid_column": null,
            "overflow_y": null,
            "overflow_x": null,
            "grid_auto_flow": null,
            "grid_area": null,
            "grid_template_columns": null,
            "flex": null,
            "_model_name": "LayoutModel",
            "justify_items": null,
            "grid_row": null,
            "max_height": null,
            "align_content": null,
            "visibility": null,
            "align_self": null,
            "height": null,
            "min_height": null,
            "padding": null,
            "grid_auto_rows": null,
            "grid_gap": null,
            "max_width": null,
            "order": null,
            "_view_module_version": "1.2.0",
            "grid_template_areas": null,
            "object_position": null,
            "object_fit": null,
            "grid_auto_columns": null,
            "margin": null,
            "display": null,
            "left": null
          }
        },
        "7b1589966cc940f8bc4a8e19beebc5e0": {
          "model_module": "@jupyter-widgets/controls",
          "model_name": "HTMLModel",
          "model_module_version": "1.5.0",
          "state": {
            "_view_name": "HTMLView",
            "style": "IPY_MODEL_352375d2357543baad91b9870bb3a979",
            "_dom_classes": [],
            "description": "",
            "_model_name": "HTMLModel",
            "placeholder": "​",
            "_view_module": "@jupyter-widgets/controls",
            "_model_module_version": "1.5.0",
            "value": " 80%",
            "_view_count": null,
            "_view_module_version": "1.5.0",
            "description_tooltip": null,
            "_model_module": "@jupyter-widgets/controls",
            "layout": "IPY_MODEL_4bde10fba3c04bddad20b8d1973a3082"
          }
        },
        "14b1d49493ba42d4ab0955e110322217": {
          "model_module": "@jupyter-widgets/controls",
          "model_name": "FloatProgressModel",
          "model_module_version": "1.5.0",
          "state": {
            "_view_name": "ProgressView",
            "style": "IPY_MODEL_244ed8f789b14d129ce572a332db9b6b",
            "_dom_classes": [],
            "description": "",
            "_model_name": "FloatProgressModel",
            "bar_style": "",
            "max": 10,
            "_view_module": "@jupyter-widgets/controls",
            "_model_module_version": "1.5.0",
            "value": 8,
            "_view_count": null,
            "_view_module_version": "1.5.0",
            "orientation": "horizontal",
            "min": 0,
            "description_tooltip": null,
            "_model_module": "@jupyter-widgets/controls",
            "layout": "IPY_MODEL_085ef2cef50144b6af753403afe1d20e"
          }
        },
        "c655a12ddc4749faa44cebe6690b06f6": {
          "model_module": "@jupyter-widgets/controls",
          "model_name": "HTMLModel",
          "model_module_version": "1.5.0",
          "state": {
            "_view_name": "HTMLView",
            "style": "IPY_MODEL_a5b61e78bddb4d47af2fb43e90b0e4ea",
            "_dom_classes": [],
            "description": "",
            "_model_name": "HTMLModel",
            "placeholder": "​",
            "_view_module": "@jupyter-widgets/controls",
            "_model_module_version": "1.5.0",
            "value": " 8/10 [2:14:17&lt;33:35, 1007.66s/it]",
            "_view_count": null,
            "_view_module_version": "1.5.0",
            "description_tooltip": null,
            "_model_module": "@jupyter-widgets/controls",
            "layout": "IPY_MODEL_2cdd13c67461484984a0fa27e15ae172"
          }
        },
        "352375d2357543baad91b9870bb3a979": {
          "model_module": "@jupyter-widgets/controls",
          "model_name": "DescriptionStyleModel",
          "model_module_version": "1.5.0",
          "state": {
            "_view_name": "StyleView",
            "_model_name": "DescriptionStyleModel",
            "description_width": "",
            "_view_module": "@jupyter-widgets/base",
            "_model_module_version": "1.5.0",
            "_view_count": null,
            "_view_module_version": "1.2.0",
            "_model_module": "@jupyter-widgets/controls"
          }
        },
        "4bde10fba3c04bddad20b8d1973a3082": {
          "model_module": "@jupyter-widgets/base",
          "model_name": "LayoutModel",
          "model_module_version": "1.2.0",
          "state": {
            "_view_name": "LayoutView",
            "grid_template_rows": null,
            "right": null,
            "justify_content": null,
            "_view_module": "@jupyter-widgets/base",
            "overflow": null,
            "_model_module_version": "1.2.0",
            "_view_count": null,
            "flex_flow": null,
            "width": null,
            "min_width": null,
            "border": null,
            "align_items": null,
            "bottom": null,
            "_model_module": "@jupyter-widgets/base",
            "top": null,
            "grid_column": null,
            "overflow_y": null,
            "overflow_x": null,
            "grid_auto_flow": null,
            "grid_area": null,
            "grid_template_columns": null,
            "flex": null,
            "_model_name": "LayoutModel",
            "justify_items": null,
            "grid_row": null,
            "max_height": null,
            "align_content": null,
            "visibility": null,
            "align_self": null,
            "height": null,
            "min_height": null,
            "padding": null,
            "grid_auto_rows": null,
            "grid_gap": null,
            "max_width": null,
            "order": null,
            "_view_module_version": "1.2.0",
            "grid_template_areas": null,
            "object_position": null,
            "object_fit": null,
            "grid_auto_columns": null,
            "margin": null,
            "display": null,
            "left": null
          }
        },
        "244ed8f789b14d129ce572a332db9b6b": {
          "model_module": "@jupyter-widgets/controls",
          "model_name": "ProgressStyleModel",
          "model_module_version": "1.5.0",
          "state": {
            "_view_name": "StyleView",
            "_model_name": "ProgressStyleModel",
            "description_width": "",
            "_view_module": "@jupyter-widgets/base",
            "_model_module_version": "1.5.0",
            "_view_count": null,
            "_view_module_version": "1.2.0",
            "bar_color": null,
            "_model_module": "@jupyter-widgets/controls"
          }
        },
        "085ef2cef50144b6af753403afe1d20e": {
          "model_module": "@jupyter-widgets/base",
          "model_name": "LayoutModel",
          "model_module_version": "1.2.0",
          "state": {
            "_view_name": "LayoutView",
            "grid_template_rows": null,
            "right": null,
            "justify_content": null,
            "_view_module": "@jupyter-widgets/base",
            "overflow": null,
            "_model_module_version": "1.2.0",
            "_view_count": null,
            "flex_flow": null,
            "width": null,
            "min_width": null,
            "border": null,
            "align_items": null,
            "bottom": null,
            "_model_module": "@jupyter-widgets/base",
            "top": null,
            "grid_column": null,
            "overflow_y": null,
            "overflow_x": null,
            "grid_auto_flow": null,
            "grid_area": null,
            "grid_template_columns": null,
            "flex": null,
            "_model_name": "LayoutModel",
            "justify_items": null,
            "grid_row": null,
            "max_height": null,
            "align_content": null,
            "visibility": null,
            "align_self": null,
            "height": null,
            "min_height": null,
            "padding": null,
            "grid_auto_rows": null,
            "grid_gap": null,
            "max_width": null,
            "order": null,
            "_view_module_version": "1.2.0",
            "grid_template_areas": null,
            "object_position": null,
            "object_fit": null,
            "grid_auto_columns": null,
            "margin": null,
            "display": null,
            "left": null
          }
        },
        "a5b61e78bddb4d47af2fb43e90b0e4ea": {
          "model_module": "@jupyter-widgets/controls",
          "model_name": "DescriptionStyleModel",
          "model_module_version": "1.5.0",
          "state": {
            "_view_name": "StyleView",
            "_model_name": "DescriptionStyleModel",
            "description_width": "",
            "_view_module": "@jupyter-widgets/base",
            "_model_module_version": "1.5.0",
            "_view_count": null,
            "_view_module_version": "1.2.0",
            "_model_module": "@jupyter-widgets/controls"
          }
        },
        "2cdd13c67461484984a0fa27e15ae172": {
          "model_module": "@jupyter-widgets/base",
          "model_name": "LayoutModel",
          "model_module_version": "1.2.0",
          "state": {
            "_view_name": "LayoutView",
            "grid_template_rows": null,
            "right": null,
            "justify_content": null,
            "_view_module": "@jupyter-widgets/base",
            "overflow": null,
            "_model_module_version": "1.2.0",
            "_view_count": null,
            "flex_flow": null,
            "width": null,
            "min_width": null,
            "border": null,
            "align_items": null,
            "bottom": null,
            "_model_module": "@jupyter-widgets/base",
            "top": null,
            "grid_column": null,
            "overflow_y": null,
            "overflow_x": null,
            "grid_auto_flow": null,
            "grid_area": null,
            "grid_template_columns": null,
            "flex": null,
            "_model_name": "LayoutModel",
            "justify_items": null,
            "grid_row": null,
            "max_height": null,
            "align_content": null,
            "visibility": null,
            "align_self": null,
            "height": null,
            "min_height": null,
            "padding": null,
            "grid_auto_rows": null,
            "grid_gap": null,
            "max_width": null,
            "order": null,
            "_view_module_version": "1.2.0",
            "grid_template_areas": null,
            "object_position": null,
            "object_fit": null,
            "grid_auto_columns": null,
            "margin": null,
            "display": null,
            "left": null
          }
        }
      }
    }
  },
  "cells": [
    {
      "cell_type": "markdown",
      "metadata": {
        "id": "view-in-github",
        "colab_type": "text"
      },
      "source": [
        "<a href=\"https://colab.research.google.com/github/ncorriveau/ood_computervision/blob/main/superclass_ensemble.ipynb\" target=\"_parent\"><img src=\"https://colab.research.google.com/assets/colab-badge.svg\" alt=\"Open In Colab\"/></a>"
      ]
    },
    {
      "cell_type": "markdown",
      "source": [
        "### Packages"
      ],
      "metadata": {
        "id": "TH4I7h_FVgZS"
      }
    },
    {
      "cell_type": "code",
      "source": [
        "!pip install --upgrade torchvision==0.13"
      ],
      "metadata": {
        "colab": {
          "base_uri": "https://localhost:8080/"
        },
        "id": "UYtdsA3UVI5c",
        "outputId": "65a1e3ed-1ddb-48c1-e955-ce6f79e01193"
      },
      "execution_count": null,
      "outputs": [
        {
          "output_type": "stream",
          "name": "stdout",
          "text": [
            "Requirement already satisfied: torchvision==0.13 in /usr/local/lib/python3.7/dist-packages (0.13.0)\n",
            "Requirement already satisfied: requests in /usr/local/lib/python3.7/dist-packages (from torchvision==0.13) (2.23.0)\n",
            "Requirement already satisfied: numpy in /usr/local/lib/python3.7/dist-packages (from torchvision==0.13) (1.21.6)\n",
            "Requirement already satisfied: typing-extensions in /usr/local/lib/python3.7/dist-packages (from torchvision==0.13) (3.10.0.2)\n",
            "Requirement already satisfied: torch==1.12.0 in /usr/local/lib/python3.7/dist-packages (from torchvision==0.13) (1.12.0)\n",
            "Requirement already satisfied: pillow!=8.3.*,>=5.3.0 in /usr/local/lib/python3.7/dist-packages (from torchvision==0.13) (7.1.2)\n",
            "Requirement already satisfied: urllib3!=1.25.0,!=1.25.1,<1.26,>=1.21.1 in /usr/local/lib/python3.7/dist-packages (from requests->torchvision==0.13) (1.25.11)\n",
            "Requirement already satisfied: certifi>=2017.4.17 in /usr/local/lib/python3.7/dist-packages (from requests->torchvision==0.13) (2021.10.8)\n",
            "Requirement already satisfied: chardet<4,>=3.0.2 in /usr/local/lib/python3.7/dist-packages (from requests->torchvision==0.13) (3.0.4)\n",
            "Requirement already satisfied: idna<3,>=2.5 in /usr/local/lib/python3.7/dist-packages (from requests->torchvision==0.13) (2.10)\n"
          ]
        }
      ]
    },
    {
      "cell_type": "code",
      "execution_count": null,
      "metadata": {
        "id": "Adxw-_vaTXSM"
      },
      "outputs": [],
      "source": [
        "import torch\n",
        "from torch import nn\n",
        "import torch.nn.functional as F\n",
        "import torch\n",
        "from torch.utils.data import DataLoader\n",
        "import torchvision\n",
        "from torchvision import datasets, transforms\n",
        "\n",
        "import numpy as np \n",
        "import pandas as pd\n",
        "import os\n",
        "from pathlib import Path\n",
        "import random\n",
        "from PIL import Image\n",
        "from matplotlib import pyplot as plt\n",
        "import requests\n",
        "import zipfile\n",
        "import shutil "
      ]
    },
    {
      "cell_type": "code",
      "source": [
        "try:\n",
        "  import timm\n",
        "except:\n",
        "  !pip install timm\n",
        "  import timm"
      ],
      "metadata": {
        "id": "Dsp_5jTaToW5"
      },
      "execution_count": null,
      "outputs": []
    },
    {
      "cell_type": "code",
      "source": [
        "try:\n",
        "    from torchinfo import summary\n",
        "except:\n",
        "    print(\"[INFO] Couldn't find torchinfo... installing it.\")\n",
        "    !pip install -q torchinfo\n",
        "    from torchinfo import summary\n",
        "\n",
        "# Try to import the going_modular directory, download it from GitHub if it doesn't work\n",
        "try:\n",
        "    from going_modular.going_modular import data_setup, engine\n",
        "except:\n",
        "    # Get the going_modular scripts\n",
        "    print(\"[INFO] Couldn't find going_modular scripts... downloading them from GitHub.\")\n",
        "    !git clone https://github.com/mrdbourke/pytorch-deep-learning\n",
        "    !mv pytorch-deep-learning/going_modular .\n",
        "    !rm -rf pytorch-deep-learning\n",
        "    from going_modular.going_modular import data_setup, engine\n"
      ],
      "metadata": {
        "id": "noK5GtYCXBwi"
      },
      "execution_count": null,
      "outputs": []
    },
    {
      "cell_type": "code",
      "source": [
        "device = \"cuda\" if torch.cuda.is_available() else \"cpu\"\n",
        "device"
      ],
      "metadata": {
        "colab": {
          "base_uri": "https://localhost:8080/",
          "height": 36
        },
        "id": "3GsUV6xTVza1",
        "outputId": "9399ac85-bbfb-4b1b-9e8f-aee97fbeff2c"
      },
      "execution_count": null,
      "outputs": [
        {
          "output_type": "execute_result",
          "data": {
            "application/vnd.google.colaboratory.intrinsic+json": {
              "type": "string"
            },
            "text/plain": [
              "'cuda'"
            ]
          },
          "metadata": {},
          "execution_count": 5
        }
      ]
    },
    {
      "cell_type": "code",
      "source": [
        "torch.cuda.empty_cache()"
      ],
      "metadata": {
        "id": "R6M-t428JEEl"
      },
      "execution_count": null,
      "outputs": []
    },
    {
      "cell_type": "markdown",
      "source": [
        "###Set up data and helper functions"
      ],
      "metadata": {
        "id": "pxR7HxjuVlAo"
      }
    },
    {
      "cell_type": "code",
      "source": [
        "try:\n",
        "  from google.colab import drive\n",
        "  drive.mount('/content/drive') \n",
        "  train_path = '/content/drive/MyDrive/NN and DL/projects/Released_Data/train'\n",
        "  test_path = '/content/drive/MyDrive/NN and DL/projects/Released_Data/test'\n",
        "  base_path = '/content/drive/MyDrive/NN and DL/projects/Released_Data/models/'\n",
        "\n",
        "except:\n",
        "  train_path = '/content/train'\n",
        "  test_path = '/content/test'\n",
        "  base_path = '/content/models'"
      ],
      "metadata": {
        "id": "3brPhq5oVeVa"
      },
      "execution_count": null,
      "outputs": []
    },
    {
      "cell_type": "code",
      "source": [
        "'''process below follows:\n",
        "https://www.learnpytorch.io/06_pytorch_transfer_learning/'''\n",
        "\n",
        "manual_transforms = transforms.Compose([\n",
        "    transforms.Resize((224, 224)), # 1. Reshape all images to 224x224 (though some models may require different sizes)\n",
        "    transforms.ToTensor(), # 2. Turn image values to between 0 & 1 \n",
        "    transforms.Normalize(mean=[0.485, 0.456, 0.406], # 3. A mean of [0.485, 0.456, 0.406] (across each colour channel)\n",
        "                         std=[0.229, 0.224, 0.225]) # 4. A standard deviation of [0.229, 0.224, 0.225] (across each colour channel),\n",
        "])"
      ],
      "metadata": {
        "id": "BBRsUPmzWioZ"
      },
      "execution_count": null,
      "outputs": []
    },
    {
      "cell_type": "code",
      "source": [
        "# !unzip /content/train.zip\n",
        "# !unzip /content/test.zip\n",
        "# !unzip /content/models.zip"
      ],
      "metadata": {
        "id": "Hdq_59yRXpBH"
      },
      "execution_count": null,
      "outputs": []
    },
    {
      "cell_type": "code",
      "source": [
        "weights_resnet = torchvision.models.ResNet50_Weights.DEFAULT.DEFAULT\n",
        "vit_weights = torchvision.models.ViT_L_16_Weights.IMAGENET1K_SWAG_E2E_V1.DEFAULT # .DEFAULT = best available weights from pretraining on ImageNet\n",
        "# weights\n",
        "#weights = torchvision.models.ViT_B_16_Weights.IMAGENET1K_SWAG_E2E_V1.DEFAULT\n",
        "res_t = weights_resnet.transforms()\n",
        "vit_t = vit_weights.transforms()\n",
        "print(f\"Resnet transforms: {res_t}\\n Vit transforms {vit_t}\")"
      ],
      "metadata": {
        "id": "SPyJeRMjRB3L",
        "colab": {
          "base_uri": "https://localhost:8080/"
        },
        "outputId": "3f7fa800-9fce-4b49-ba64-b0817a69c84f"
      },
      "execution_count": null,
      "outputs": [
        {
          "output_type": "stream",
          "name": "stdout",
          "text": [
            "Resnet transforms: ImageClassification(\n",
            "    crop_size=[224]\n",
            "    resize_size=[232]\n",
            "    mean=[0.485, 0.456, 0.406]\n",
            "    std=[0.229, 0.224, 0.225]\n",
            "    interpolation=InterpolationMode.BILINEAR\n",
            ")\n",
            " Vit transforms ImageClassification(\n",
            "    crop_size=[224]\n",
            "    resize_size=[242]\n",
            "    mean=[0.485, 0.456, 0.406]\n",
            "    std=[0.229, 0.224, 0.225]\n",
            "    interpolation=InterpolationMode.BILINEAR\n",
            ")\n"
          ]
        }
      ]
    },
    {
      "cell_type": "code",
      "source": [
        "train_dataloader, test_dataloader, class_names = data_setup.create_dataloaders(train_dir=train_path,\n",
        "                                                                               test_dir=test_path,\n",
        "                                                                               transform=res_t, # resize, convert images to between 0 & 1 and normalize them\n",
        "                                                                               batch_size=32) # set mini-batch size to 32\n",
        "\n",
        "train_dataloader, test_dataloader, class_names"
      ],
      "metadata": {
        "colab": {
          "base_uri": "https://localhost:8080/"
        },
        "id": "blUjeKdSW9NL",
        "outputId": "6a8e7963-68a7-4b63-e88e-7e1072092713"
      },
      "execution_count": null,
      "outputs": [
        {
          "output_type": "execute_result",
          "data": {
            "text/plain": [
              "(<torch.utils.data.dataloader.DataLoader at 0x7fe1a6523210>,\n",
              " <torch.utils.data.dataloader.DataLoader at 0x7fe1a6523390>,\n",
              " ['bird', 'dog', 'reptile'])"
            ]
          },
          "metadata": {},
          "execution_count": 11
        }
      ]
    },
    {
      "cell_type": "code",
      "source": [
        "from typing import Tuple\n",
        "def test_model(model: torch.nn.Module, \n",
        "              dataloader: torch.utils.data.DataLoader, \n",
        "              loss_fn: torch.nn.Module,\n",
        "              device: torch.device) -> Tuple[float, float]:\n",
        "    \"\"\"Tests a PyTorch model for a single epoch.\n",
        "\n",
        "    Turns a target PyTorch model to \"eval\" mode and then performs\n",
        "    a forward pass on a testing dataset.\n",
        "\n",
        "    Args:\n",
        "    model: A PyTorch model to be tested.\n",
        "    dataloader: A DataLoader instance for the model to be tested on.\n",
        "    loss_fn: A PyTorch loss function to calculate loss on the test data.\n",
        "    device: A target device to compute on (e.g. \"cuda\" or \"cpu\").\n",
        "\n",
        "    Returns:\n",
        "    A tuple of testing loss and testing accuracy metrics.\n",
        "    In the form (test_loss, test_accuracy). For example:\n",
        "\n",
        "    (0.0223, 0.8985)\n",
        "    \"\"\"\n",
        "    # Setup test loss and test accuracy values\n",
        "    test_loss, test_acc = 0, 0\n",
        "\n",
        "    # Turn on inference context manager\n",
        "    with torch.inference_mode():\n",
        "        # Loop through DataLoader batches\n",
        "        for batch, (X, y) in enumerate(dataloader):\n",
        "            # Send data to target device\n",
        "            X, y = X.to(device), y.to(device)\n",
        "\n",
        "            # 1. Forward pass\n",
        "            test_pred_logits = model(X)\n",
        "\n",
        "            # 2. Calculate and accumulate loss\n",
        "            loss = loss_fn(test_pred_logits, y)\n",
        "            test_loss += loss.item()\n",
        "\n",
        "            # Calculate and accumulate accuracy\n",
        "            test_pred_labels = test_pred_logits.argmax(dim=1)\n",
        "            test_acc += ((test_pred_labels == y).sum().item()/len(test_pred_labels))\n",
        "\n",
        "    # Adjust metrics to get average loss and accuracy per batch \n",
        "    test_loss = test_loss / len(dataloader)\n",
        "    test_acc = test_acc / len(dataloader)\n",
        "    return test_loss, test_acc"
      ],
      "metadata": {
        "id": "PrbF3gUaa7cN"
      },
      "execution_count": null,
      "outputs": []
    },
    {
      "cell_type": "code",
      "source": [
        "import torch\n",
        "\n",
        "from tqdm.auto import tqdm\n",
        "from typing import Dict, List, Tuple\n",
        "\n",
        "def train_step(model: torch.nn.Module, \n",
        "               dataloader: torch.utils.data.DataLoader, \n",
        "               loss_fn: torch.nn.Module, \n",
        "               optimizer: torch.optim.Optimizer,\n",
        "               device: torch.device) -> Tuple[float, float]:\n",
        "    \"\"\"Trains a PyTorch model for a single epoch.\n",
        "\n",
        "    Turns a target PyTorch model to training mode and then\n",
        "    runs through all of the required training steps (forward\n",
        "    pass, loss calculation, optimizer step).\n",
        "\n",
        "    Args:\n",
        "    model: A PyTorch model to be trained.\n",
        "    dataloader: A DataLoader instance for the model to be trained on.\n",
        "    loss_fn: A PyTorch loss function to minimize.\n",
        "    optimizer: A PyTorch optimizer to help minimize the loss function.\n",
        "    device: A target device to compute on (e.g. \"cuda\" or \"cpu\").\n",
        "\n",
        "    Returns:\n",
        "    A tuple of training loss and training accuracy metrics.\n",
        "    In the form (train_loss, train_accuracy). For example:\n",
        "\n",
        "    (0.1112, 0.8743)\n",
        "    \"\"\"\n",
        "    # Put model in train mode\n",
        "    model.train()\n",
        "\n",
        "    # Setup train loss and train accuracy values\n",
        "    train_loss, train_acc = 0, 0\n",
        "\n",
        "    # Loop through data loader data batches\n",
        "    for batch, (X, y) in enumerate(dataloader):\n",
        "        # Send data to target device\n",
        "        X, y = X.to(device), y.to(device)\n",
        "\n",
        "        # 1. Forward pass\n",
        "        y_pred = model(X)\n",
        "\n",
        "        # 2. Calculate  and accumulate loss\n",
        "        loss = loss_fn(y_pred, y)\n",
        "        train_loss += loss.item() \n",
        "\n",
        "        # 3. Optimizer zero grad\n",
        "        optimizer.zero_grad()\n",
        "\n",
        "        # 4. Loss backward\n",
        "        loss.backward()\n",
        "\n",
        "        # 5. Optimizer step\n",
        "        optimizer.step()\n",
        "\n",
        "        # Calculate and accumulate accuracy metric across all batches\n",
        "        y_pred_class = torch.argmax(torch.softmax(y_pred, dim=1), dim=1)\n",
        "        train_acc += (y_pred_class == y).sum().item()/len(y_pred)\n",
        "\n",
        "    # Adjust metrics to get average loss and accuracy per batch \n",
        "    train_loss = train_loss / len(dataloader)\n",
        "    train_acc = train_acc / len(dataloader)\n",
        "    return train_loss, train_acc\n",
        "\n",
        "def test_step(model: torch.nn.Module, \n",
        "              dataloader: torch.utils.data.DataLoader, \n",
        "              loss_fn: torch.nn.Module,\n",
        "              device: torch.device) -> Tuple[float, float]:\n",
        "    \"\"\"Tests a PyTorch model for a single epoch.\n",
        "\n",
        "    Turns a target PyTorch model to \"eval\" mode and then performs\n",
        "    a forward pass on a testing dataset.\n",
        "\n",
        "    Args:\n",
        "    model: A PyTorch model to be tested.\n",
        "    dataloader: A DataLoader instance for the model to be tested on.\n",
        "    loss_fn: A PyTorch loss function to calculate loss on the test data.\n",
        "    device: A target device to compute on (e.g. \"cuda\" or \"cpu\").\n",
        "\n",
        "    Returns:\n",
        "    A tuple of testing loss and testing accuracy metrics.\n",
        "    In the form (test_loss, test_accuracy). For example:\n",
        "\n",
        "    (0.0223, 0.8985)\n",
        "    \"\"\"\n",
        "    # Put model in eval mode\n",
        "    model.eval() \n",
        "\n",
        "    # Setup test loss and test accuracy values\n",
        "    test_loss, test_acc = 0, 0\n",
        "\n",
        "    # Turn on inference context manager\n",
        "    with torch.inference_mode():\n",
        "        # Loop through DataLoader batches\n",
        "        for batch, (X, y) in enumerate(dataloader):\n",
        "            # Send data to target device\n",
        "            X, y = X.to(device), y.to(device)\n",
        "\n",
        "            # 1. Forward pass\n",
        "            test_pred_logits = model(X)\n",
        "\n",
        "            # 2. Calculate and accumulate loss\n",
        "            loss = loss_fn(test_pred_logits, y)\n",
        "            test_loss += loss.item()\n",
        "\n",
        "            # Calculate and accumulate accuracy\n",
        "            test_pred_labels = test_pred_logits.argmax(dim=1)\n",
        "            test_acc += ((test_pred_labels == y).sum().item()/len(test_pred_labels))\n",
        "\n",
        "    # Adjust metrics to get average loss and accuracy per batch \n",
        "    test_loss = test_loss / len(dataloader)\n",
        "    test_acc = test_acc / len(dataloader)\n",
        "    return test_loss, test_acc\n",
        "\n",
        "class EarlyStopper:\n",
        "  '''creates a class that tracks validation loss -\n",
        "  the parameters 'patience' determines how long you can have a validation loss\n",
        "  that is greater than min validation loss + delta'''\n",
        "  def __init__(self, patience=1, min_delta=0):\n",
        "        self.patience = patience\n",
        "        self.min_delta = min_delta\n",
        "        self.counter = 0\n",
        "        self.min_validation_loss = np.inf\n",
        "\n",
        "  def early_stop(self, validation_loss):\n",
        "      if validation_loss < self.min_validation_loss:\n",
        "          self.min_validation_loss = validation_loss\n",
        "          self.counter = 0\n",
        "      elif validation_loss > (self.min_validation_loss + self.min_delta):\n",
        "          self.counter += 1\n",
        "          if self.counter >= self.patience:\n",
        "              return True\n",
        "      return False\n",
        "\n",
        "def train(model: torch.nn.Module, \n",
        "          train_dataloader: torch.utils.data.DataLoader, \n",
        "          test_dataloader: torch.utils.data.DataLoader, \n",
        "          optimizer: torch.optim.Optimizer,\n",
        "          loss_fn: torch.nn.Module,\n",
        "          epochs: int,\n",
        "          device: torch.device,\n",
        "          save_path:str,\n",
        "          early_stop: False) -> Dict[str, List]:\n",
        "    \"\"\"Trains and tests a PyTorch model.\n",
        "\n",
        "    Passes a target PyTorch models through train_step() and test_step()\n",
        "    functions for a number of epochs, training and testing the model\n",
        "    in the same epoch loop.\n",
        "\n",
        "    Calculates, prints and stores evaluation metrics throughout.\n",
        "\n",
        "    Args:\n",
        "    model: A PyTorch model to be trained and tested.\n",
        "    train_dataloader: A DataLoader instance for the model to be trained on.\n",
        "    test_dataloader: A DataLoader instance for the model to be tested on.\n",
        "    optimizer: A PyTorch optimizer to help minimize the loss function.\n",
        "    loss_fn: A PyTorch loss function to calculate loss on both datasets.\n",
        "    epochs: An integer indicating how many epochs to train for.\n",
        "    device: A target device to compute on (e.g. \"cuda\" or \"cpu\").\n",
        "\n",
        "    Returns:\n",
        "    A dictionary of training and testing loss as well as training and\n",
        "    testing accuracy metrics. Each metric has a value in a list for \n",
        "    each epoch.\n",
        "    In the form: {train_loss: [...],\n",
        "              train_acc: [...],\n",
        "              test_loss: [...],\n",
        "              test_acc: [...]} \n",
        "    For example if training for epochs=2: \n",
        "             {train_loss: [2.0616, 1.0537],\n",
        "              train_acc: [0.3945, 0.3945],\n",
        "              test_loss: [1.2641, 1.5706],\n",
        "              test_acc: [0.3400, 0.2973]} \n",
        "    \n",
        "    adding that the training loop saves the best performing weights and \n",
        "    early stopping \n",
        "    \"\"\"\n",
        "    import copy\n",
        "\n",
        "    # Create empty results dictionary\n",
        "    results = {\"train_loss\": [],\n",
        "               \"train_acc\": [],\n",
        "               \"test_loss\": [],\n",
        "               \"test_acc\": []\n",
        "    }\n",
        "    \n",
        "    # Make sure model on target device\n",
        "    model.to(device)\n",
        "    min_loss = np.Inf\n",
        "    \n",
        "    #instantiate early stopper \n",
        "    if early_stop:\n",
        "      early_stopper = EarlyStopper(patience=3, min_delta=0.2)\n",
        "    # Loop through training and testing steps for a number of epochs\n",
        "    for epoch in tqdm(range(epochs)):\n",
        "        train_loss, train_acc = train_step(model=model,\n",
        "                                          dataloader=train_dataloader,\n",
        "                                          loss_fn=loss_fn,\n",
        "                                          optimizer=optimizer,\n",
        "                                          device=device)\n",
        "        \n",
        "        test_loss, test_acc = test_step(model=model,\n",
        "                                        dataloader=test_dataloader,\n",
        "                                        loss_fn=loss_fn,\n",
        "                                        device=device)\n",
        "        \n",
        "\n",
        "        if early_stop:\n",
        "          if early_stopper.early_stop(test_loss):\n",
        "            break\n",
        "\n",
        "        if test_loss < min_loss:\n",
        "          min_loss = test_loss\n",
        "          best_model_state = copy.deepcopy(model.classifier.state_dict()) \n",
        "          torch.save(model.classifier.state_dict(), save_path) #model.heads is specific to ViT\n",
        "\n",
        "        # Print out what's happening\n",
        "        print(\n",
        "          f\"Epoch: {epoch+1} | \"\n",
        "          f\"train_loss: {train_loss:.4f} | \"\n",
        "          f\"train_acc: {train_acc:.4f} | \"\n",
        "          f\"test_loss: {test_loss:.4f} | \"\n",
        "          f\"test_acc: {test_acc:.4f}\"\n",
        "        )\n",
        "\n",
        "        # Update results dictionary\n",
        "        results[\"train_loss\"].append(train_loss)\n",
        "        results[\"train_acc\"].append(train_acc)\n",
        "        results[\"test_loss\"].append(test_loss)\n",
        "        results[\"test_acc\"].append(test_acc)\n",
        "\n",
        "    # Return the filled results at the end of the epochs\n",
        "    return results"
      ],
      "metadata": {
        "id": "K_SjYGqQg78_"
      },
      "execution_count": null,
      "outputs": []
    },
    {
      "cell_type": "code",
      "source": [
        "def plot_loss_curves(loss_hist, acc_hist):\n",
        "    \"\"\"Plots training curves of a loss and accuracy dicts. \n",
        "    Args:\n",
        "       loss_hist = {train_loss:[], val_loss:[]}\n",
        "       train_hist = {train_acc:[], val_acc:[]}\n",
        "    \"\"\"\n",
        "    \n",
        "    # Get the loss values of the results dictionary (training and test)\n",
        "    train_loss = loss_hist['train']\n",
        "    test_loss = loss_hist['val']\n",
        "\n",
        "    # Get the accuracy values of the results dictionary (training and test)\n",
        "    train_accuracy = acc_hist['train']\n",
        "    test_accuracy = acc_hist['val']\n",
        "\n",
        "    # Figure out how many epochs there were\n",
        "    epochs = range(len(loss_hist['train']))\n",
        "\n",
        "    # Setup a plot \n",
        "    plt.figure(figsize=(15, 7))\n",
        "\n",
        "    # Plot loss\n",
        "    plt.subplot(1, 2, 1)\n",
        "    plt.plot(epochs, train_loss, label='train_loss')\n",
        "    plt.plot(epochs, test_loss, label='val_loss')\n",
        "    plt.title('Loss')\n",
        "    plt.xlabel('Epochs')\n",
        "    plt.legend()\n",
        "\n",
        "    # Plot accuracy\n",
        "    plt.subplot(1, 2, 2)\n",
        "    plt.plot(epochs, train_accuracy, label='train_accuracy')\n",
        "    plt.plot(epochs, test_accuracy, label='val_accuracy')\n",
        "    plt.title('Accuracy')\n",
        "    plt.xlabel('Epochs')\n",
        "    plt.legend();"
      ],
      "metadata": {
        "id": "FTPl5BRrF_UC"
      },
      "execution_count": null,
      "outputs": []
    },
    {
      "cell_type": "markdown",
      "source": [
        "###Create and run ensemble classifier"
      ],
      "metadata": {
        "id": "Y49qa2_dVphf"
      }
    },
    {
      "cell_type": "code",
      "source": [
        "class EnsembleModelAll(nn.Module):   \n",
        "  '''\n",
        "  ensemble class will take three models and use their input to classify\n",
        "  the superclass by learning the right weights between the three models\n",
        "  in our case, this wil be a ResNet50, ViT, and EfficientNet as the three \n",
        "  CV models. \n",
        "\n",
        "  So each incoming feature vector will be a 3x1, and we will have three of them.\n",
        "  The output will be a 3x1 \n",
        "  softmax vector of the super classes \n",
        "  '''\n",
        "\n",
        "  def __init__(self, modelA, modelB, modelC):\n",
        "    super().__init__()\n",
        "    self.modelA = modelA\n",
        "    self.modelB = modelB\n",
        "    self.modelC = modelC\n",
        "    self.classifier = nn.Linear(3 * 3, 3)\n",
        "        \n",
        "  def forward(self, x):\n",
        "    x1 = self.modelA(x)\n",
        "    x2 = self.modelB(x)\n",
        "    x3 = self.modelC(x)\n",
        "    x = torch.cat((x1, x2, x3), dim=1)\n",
        "    out = self.classifier(x)\n",
        "    return out\n",
        "    "
      ],
      "metadata": {
        "id": "4d1xai_gT0XD"
      },
      "execution_count": null,
      "outputs": []
    },
    {
      "cell_type": "code",
      "source": [
        "#initialize ensemble modles \n",
        "weights_resnet = torchvision.models.ResNet50_Weights.DEFAULT.DEFAULT\n",
        "resnet_model = torchvision.models.resnet50(weights=weights_resnet)\n",
        "in_ftrs = resnet_model.fc.in_features\n",
        "out_fts = 3\n",
        "resnet_model.fc = nn.Linear(in_ftrs, out_fts)\n",
        "resnet_model.load_state_dict(torch.load('/content/models/resnet_50.pth'))\n",
        "resnet_model.eval()\n",
        "\n",
        "resnet_model.to(device)\n"
      ],
      "metadata": {
        "id": "5HxEvdtORUy5"
      },
      "execution_count": null,
      "outputs": []
    },
    {
      "cell_type": "code",
      "source": [
        "weights_vit = torchvision.models.ViT_L_16_Weights.IMAGENET1K_SWAG_E2E_V1.DEFAULT # .DEFAULT = best available weights from pretraining on ImageNet\n",
        "\n",
        "vit_model = torchvision.models.vit_l_16(weights=weights_vit)\n",
        "vit_model.heads = torch.nn.Sequential(\n",
        "    #torch.nn.Dropout(p=0.2, inplace=True), \n",
        "    torch.nn.Linear(in_features=1024, \n",
        "                    out_features=3, # same number of output units as our number of classes\n",
        "                    bias=True))\n",
        "vit_model.heads.load_state_dict(torch.load('/content/models/vit_l_16_classifier.pth'))\n",
        "vit_model.eval()\n",
        "\n",
        "vit_model.to(device)\n",
        "#test_model(vit_model, test_dataloader, nn.CrossEntropyLoss(), device=device)"
      ],
      "metadata": {
        "id": "1hsWRBl1SrXK"
      },
      "execution_count": null,
      "outputs": []
    },
    {
      "cell_type": "code",
      "source": [
        "weights_en = torchvision.models.EfficientNet_V2_S_Weights.IMAGENET1K_V1\n",
        "en_model = torchvision.models.efficientnet_v2_s(weights=weights_en)\n",
        "en_model.classifier[1] = nn.Linear(1280, 3)\n",
        "en_model.load_state_dict(torch.load('/content/models/efficientnet_v2_s.pth'))\n",
        "en_model.eval() \n",
        "\n",
        "en_model.to(device)\n",
        "#test_model(en_model, test_dataloader, nn.CrossEntropyLoss(), device=device)"
      ],
      "metadata": {
        "id": "usVDw8oF0PEW"
      },
      "execution_count": null,
      "outputs": []
    },
    {
      "cell_type": "code",
      "source": [
        "#train ensemble \n",
        "ensemble_model = EnsembleModelAll(resnet_model, vit_model, en_model)\n",
        "\n",
        "for param in ensemble_model.parameters():\n",
        "    param.requires_grad = False\n",
        "\n",
        "for param in ensemble_model.classifier.parameters():\n",
        "    param.requires_grad = True    \n",
        "\n",
        "ensemble_model = ensemble_model.to(device)"
      ],
      "metadata": {
        "id": "-UEk4g53Vu6d"
      },
      "execution_count": null,
      "outputs": []
    },
    {
      "cell_type": "code",
      "source": [
        "summary(model=ensemble_model, \n",
        "        input_size=(32, 3, 224, 224), # make sure this is \"input_size\", not \"input_shape\"\n",
        "        col_names=[\"input_size\", \"output_size\", \"num_params\", \"trainable\"],\n",
        "        col_width=20,\n",
        "        row_settings=[\"var_names\"]\n",
        "        )"
      ],
      "metadata": {
        "id": "UJyU_huCQLhW"
      },
      "execution_count": null,
      "outputs": []
    },
    {
      "cell_type": "code",
      "source": [
        "loss_fn = nn.CrossEntropyLoss()\n",
        "optimizer = torch.optim.Adam(ensemble_model.classifier.parameters(), lr=0.001)"
      ],
      "metadata": {
        "id": "5FhceR4kf_1p"
      },
      "execution_count": null,
      "outputs": []
    },
    {
      "cell_type": "code",
      "source": [
        "#train ensemble model \n",
        "from timeit import default_timer as timer \n",
        "start_time = timer()\n",
        "\n",
        "# Setup training and save the results\n",
        "# Setup training and save the results\n",
        "results = train(model=ensemble_model,\n",
        "                train_dataloader=train_dataloader,\n",
        "                test_dataloader=test_dataloader,\n",
        "                optimizer=optimizer,\n",
        "                loss_fn=loss_fn,\n",
        "                epochs=50,\n",
        "                device=device,\n",
        "                save_path='/content/models/ensemble_3_best.pth',\n",
        "                early_stop=True)\n",
        "\n",
        "# End the timer and print out how long it took\n",
        "end_time = timer()\n",
        "print(f\"[INFO] Total training time: {end_time-start_time:.3f} seconds\")"
      ],
      "metadata": {
        "id": "aG3WmPolfGhq"
      },
      "execution_count": null,
      "outputs": []
    },
    {
      "cell_type": "code",
      "source": [
        "def plot_loss_curves(loss_hist, acc_hist):\n",
        "    \"\"\"Plots training curves of a loss and accuracy dicts. \n",
        "    Args:\n",
        "       loss_hist = {train_loss:[], val_loss:[]}\n",
        "       train_hist = {train_acc:[], val_acc:[]}\n",
        "    \"\"\"\n",
        "    \n",
        "    # Get the loss values of the results dictionary (training and test)\n",
        "    train_loss = loss_hist['train']\n",
        "    test_loss = loss_hist['val']\n",
        "\n",
        "    # Get the accuracy values of the results dictionary (training and test)\n",
        "    train_accuracy = acc_hist['train']\n",
        "    test_accuracy = acc_hist['val']\n",
        "\n",
        "    # Figure out how many epochs there were\n",
        "    epochs = range(len(loss_hist['train']))\n",
        "\n",
        "    # Setup a plot \n",
        "    plt.figure(figsize=(15, 7))\n",
        "\n",
        "    # Plot loss\n",
        "    plt.subplot(1, 2, 1)\n",
        "    plt.plot(epochs, train_loss, label='train_loss')\n",
        "    plt.plot(epochs, test_loss, label='val_loss')\n",
        "    plt.title('Loss')\n",
        "    plt.xlabel('Epochs')\n",
        "    plt.legend()\n",
        "\n",
        "    # Plot accuracy\n",
        "    plt.subplot(1, 2, 2)\n",
        "    plt.plot(epochs, train_accuracy, label='train_accuracy')\n",
        "    plt.plot(epochs, test_accuracy, label='val_accuracy')\n",
        "    plt.title('Accuracy')\n",
        "    plt.xlabel('Epochs')\n",
        "    plt.legend();"
      ],
      "metadata": {
        "id": "T4u6uwEpiUTj"
      },
      "execution_count": null,
      "outputs": []
    },
    {
      "cell_type": "code",
      "source": [
        "loss_hist = {\"train\": ensemble_results[\"train_loss\"], \"val\": ensemble_results[\"test_loss\"]}\n",
        "acc_hist = {\"train\": ensemble_results[\"train_acc\"], \"val\": ensemble_results[\"test_acc\"]}\n",
        "                              \n",
        "plot_loss_curves(loss_hist, acc_hist)"
      ],
      "metadata": {
        "id": "ny9IcsWWiUxz"
      },
      "execution_count": null,
      "outputs": []
    },
    {
      "cell_type": "code",
      "source": [
        "#test_model(vit_model, test_dataloader, nn.CrossEntropyLoss(), device=device)"
      ],
      "metadata": {
        "id": "14kz64HeNYMX"
      },
      "execution_count": null,
      "outputs": []
    },
    {
      "cell_type": "code",
      "source": [
        "#test_model(resnet_model, test_dataloader, nn.CrossEntropyLoss(), device=device)"
      ],
      "metadata": {
        "id": "LxgqgT0fb62V"
      },
      "execution_count": null,
      "outputs": []
    },
    {
      "cell_type": "markdown",
      "source": [
        "###Reduce Ensemble to two"
      ],
      "metadata": {
        "id": "dUFIRt_PNTRF"
      }
    },
    {
      "cell_type": "code",
      "source": [
        "class EnsembleModelTwo(nn.Module):   \n",
        "  '''\n",
        "  ensemble class will take two models this time and use their input to classify\n",
        "  the superclass by learning the right weights between the two models\n",
        "  in our case, this wil be a ResNet50 and Vit.\n",
        "\n",
        "  So each incoming feature vector will be a 3x1, and we will have two of them.\n",
        "  The output will be a 3x1 \n",
        "  softmax vector of the super classes \n",
        "  '''\n",
        "\n",
        "  def __init__(self, modelA, modelB):\n",
        "    super().__init__()\n",
        "    self.modelA = modelA\n",
        "    self.modelB = modelB\n",
        "    self.classifier = nn.Linear(2 * 3, 3)\n",
        "        \n",
        "  def forward(self, x):\n",
        "    x1 = self.modelA(x)\n",
        "    x2 = self.modelB(x)\n",
        "    x = torch.cat((x1, x2), dim=1)\n",
        "    out = self.classifier(x)\n",
        "    return out"
      ],
      "metadata": {
        "id": "jMMeYMhBNbO1"
      },
      "execution_count": null,
      "outputs": []
    },
    {
      "cell_type": "code",
      "source": [
        "#train ensemble \n",
        "ensemble_model_2 = EnsembleModelTwo(resnet_model, vit_model)\n",
        "\n",
        "for param in ensemble_model_2.parameters():\n",
        "    param.requires_grad = False\n",
        "\n",
        "for param in ensemble_model_2.classifier.parameters():\n",
        "    param.requires_grad = True    \n",
        "\n",
        "ensemble_model_2 = ensemble_model_2.to(device)"
      ],
      "metadata": {
        "id": "kq6_WNtQNsnV"
      },
      "execution_count": null,
      "outputs": []
    },
    {
      "cell_type": "code",
      "source": [
        "loss_fn = nn.CrossEntropyLoss()\n",
        "optimizer = torch.optim.Adam(ensemble_model_2.classifier.parameters(), lr=0.001)"
      ],
      "metadata": {
        "id": "BkB38aw7N1Kt"
      },
      "execution_count": null,
      "outputs": []
    },
    {
      "cell_type": "code",
      "source": [
        "#train ensemble model \n",
        "from timeit import default_timer as timer \n",
        "start_time = timer()\n",
        "\n",
        "# Setup training and save the results\n",
        "# Setup training and save the results\n",
        "results = train(model=ensemble_model_2,\n",
        "                train_dataloader=train_dataloader,\n",
        "                test_dataloader=test_dataloader,\n",
        "                optimizer=optimizer,\n",
        "                loss_fn=loss_fn,\n",
        "                epochs=10,\n",
        "                device=device,\n",
        "                save_path='/content/models/ensemble_2_best.pth',\n",
        "                early_stop=True)\n",
        "\n",
        "# End the timer and print out how long it took\n",
        "end_time = timer()\n",
        "print(f\"[INFO] Total training time: {end_time-start_time:.3f} seconds\")\n",
        "\n",
        "loss_hist = {\"train\": results[\"train_loss\"], \"val\": results[\"test_loss\"]}\n",
        "acc_hist = {\"train\": results[\"train_acc\"], \"val\": results[\"test_acc\"]}"
      ],
      "metadata": {
        "id": "VNOdqj33N5Vw",
        "colab": {
          "base_uri": "https://localhost:8080/",
          "height": 240,
          "referenced_widgets": [
            "dc972ee1a9624d40b27cf427a179d54e",
            "080a94e85bc74a2e921ba02a725cabd9",
            "7b1589966cc940f8bc4a8e19beebc5e0",
            "14b1d49493ba42d4ab0955e110322217",
            "c655a12ddc4749faa44cebe6690b06f6",
            "352375d2357543baad91b9870bb3a979",
            "4bde10fba3c04bddad20b8d1973a3082",
            "244ed8f789b14d129ce572a332db9b6b",
            "085ef2cef50144b6af753403afe1d20e",
            "a5b61e78bddb4d47af2fb43e90b0e4ea",
            "2cdd13c67461484984a0fa27e15ae172"
          ]
        },
        "outputId": "6fbb563a-3bda-4193-a311-ce01e27a58f9"
      },
      "execution_count": null,
      "outputs": [
        {
          "data": {
            "application/vnd.jupyter.widget-view+json": {
              "model_id": "dc972ee1a9624d40b27cf427a179d54e",
              "version_major": 2,
              "version_minor": 0
            },
            "text/plain": [
              "  0%|          | 0/10 [00:00<?, ?it/s]"
            ]
          },
          "metadata": {},
          "output_type": "display_data"
        },
        {
          "metadata": {
            "tags": null
          },
          "name": "stdout",
          "output_type": "stream",
          "text": [
            "Epoch: 1 | train_loss: 1.0129 | train_acc: 0.4983 | test_loss: 0.9572 | test_acc: 0.5717\n",
            "Epoch: 2 | train_loss: 0.9565 | train_acc: 0.5551 | test_loss: 0.9035 | test_acc: 0.6073\n",
            "Epoch: 3 | train_loss: 0.9324 | train_acc: 0.5659 | test_loss: 0.8808 | test_acc: 0.6145\n",
            "Epoch: 4 | train_loss: 0.9088 | train_acc: 0.5816 | test_loss: 0.8571 | test_acc: 0.6185\n",
            "Epoch: 5 | train_loss: 0.9060 | train_acc: 0.5711 | test_loss: 0.8478 | test_acc: 0.6192\n",
            "Epoch: 6 | train_loss: 0.9024 | train_acc: 0.5776 | test_loss: 0.8491 | test_acc: 0.6150\n",
            "Epoch: 7 | train_loss: 0.9001 | train_acc: 0.5750 | test_loss: 0.8464 | test_acc: 0.6136\n",
            "Epoch: 8 | train_loss: 0.8980 | train_acc: 0.5859 | test_loss: 0.8342 | test_acc: 0.6241\n",
            "Epoch: 9 | train_loss: 0.9033 | train_acc: 0.5737 | test_loss: 0.8361 | test_acc: 0.6196\n",
            "Epoch: 10 | train_loss: 0.8895 | train_acc: 0.5851 | test_loss: 0.8307 | test_acc: 0.6228\n",
            "[INFO] Total training time: 10075.311 seconds\n"
          ]
        }
      ]
    },
    {
      "cell_type": "code",
      "source": [
        "plot_loss_curves(loss_hist, acc_hist)"
      ],
      "metadata": {
        "colab": {
          "base_uri": "https://localhost:8080/",
          "height": 458
        },
        "id": "fk4P_7iC6Bs7",
        "outputId": "ae9dc5f8-70f2-4302-b836-ac3cde42b2d4"
      },
      "execution_count": null,
      "outputs": [
        {
          "output_type": "display_data",
          "data": {
            "image/png": "[encoded data removed]",
            "text/plain": [
              "<Figure size 1080x504 with 2 Axes>"
            ]
          },
          "metadata": {
            "needs_background": "light"
          }
        }
      ]
    },
    {
      "cell_type": "markdown",
      "source": [
        "###Optimize Classifier"
      ],
      "metadata": {
        "id": "8kxaObKrswJQ"
      }
    },
    {
      "cell_type": "code",
      "source": [
        "try:\n",
        "  import optuna\n",
        "except:\n",
        "  !pip install optuna\n",
        "  import optuna"
      ],
      "metadata": {
        "id": "2KdU3O0-s80S"
      },
      "execution_count": null,
      "outputs": []
    },
    {
      "cell_type": "code",
      "source": [
        "MODEL = ensemble_model\n",
        "EPOCHS = 5\n",
        "DEVICE = device = \"cuda\" if torch.cuda.is_available() else \"cpu\"\n",
        "train_loader = train_dataloader\n",
        "valid_loader = test_dataloader\n",
        "\n",
        "def objective(trial):\n",
        "\n",
        "    # Generate the model.\n",
        "    model = MODEL\n",
        "\n",
        "    # Generate the optimizers\n",
        "    optimizer_name = trial.suggest_categorical(\"optimizer\", [\"Adam\",\"SGD\"])\n",
        "    lr = trial.suggest_float(\"lr\", 1e-5, 1e-1,log=True)\n",
        "    optimizer = getattr(torch.optim, optimizer_name)(model.parameters(), lr=lr)\n",
        "    #batch_size=trial.suggest_int(\"batch_size\", 16, 128,step=16)\n",
        "\n",
        "    criterion=nn.CrossEntropyLoss()\n",
        "    \n",
        "    # Training of the model.\n",
        "    for epoch in range(EPOCHS):\n",
        "        model.train()\n",
        "       \n",
        "        for batch_idx, (images, labels) in enumerate(train_loader):\n",
        "\n",
        "            images, labels = images.to(DEVICE), labels.to(DEVICE)\n",
        "\n",
        "            optimizer.zero_grad()\n",
        "            output = model(images)\n",
        "            loss = criterion(output, labels)\n",
        "            loss.backward()\n",
        "            optimizer.step()\n",
        "\n",
        "        # Validation of the model.\n",
        "        model.eval()\n",
        "        correct = 0\n",
        "        with torch.no_grad():\n",
        "            for batch_idx, (images, labels) in enumerate(valid_loader):\n",
        "                # Limiting validation images.\n",
        "               # if batch_idx * BATCHSIZE >= N_VALID_EXAMPLES:\n",
        "                #    break\n",
        "                images, labels = images.to(DEVICE), labels.to(DEVICE)\n",
        "                output = model(images)\n",
        "                # Get the index of the max log-probability.\n",
        "                pred = output.argmax(dim=1, keepdim=True)\n",
        "                correct += pred.eq(labels.view_as(pred)).sum().item()\n",
        "\n",
        "        accuracy = correct / len(valid_loader.dataset)\n",
        "\n",
        "        trial.report(accuracy, epoch)\n",
        "\n",
        "        # Handle pruning based on the intermediate value.\n",
        "        if trial.should_prune():\n",
        "            raise optuna.exceptions.TrialPruned()\n",
        "\n",
        "    return accuracy"
      ],
      "metadata": {
        "id": "UIFzCSLyst2C"
      },
      "execution_count": null,
      "outputs": []
    },
    {
      "cell_type": "code",
      "source": [
        "#create study for optuna \n",
        "torch.manual_seed(42)\n",
        "torch.cuda.manual_seed(42)\n",
        "\n",
        "# Start the timer\n",
        "from timeit import default_timer as timer \n",
        "start_time = timer()\n",
        "\n",
        "study = optuna.create_study(direction='maximize')\n",
        "study.optimize(objective, n_trials=3)\n",
        "\n",
        "trial = study.best_trial\n",
        "\n",
        "print('Accuracy: {}'.format(trial.value))\n",
        "print(\"Best hyperparameters: {}\".format(trial.params))\n",
        "\n",
        "end_time = timer()\n",
        "print(f\"[INFO] Total time to tune hyper parameters: {end_time-start_time:.3f} seconds using {DEVICE}\")\n",
        "\n",
        "df = study.trials_dataframe()\n",
        "df"
      ],
      "metadata": {
        "colab": {
          "base_uri": "https://localhost:8080/",
          "height": 285
        },
        "id": "QuVuY5Pos_xP",
        "outputId": "084a658c-1287-450d-e202-fe473e31af2f"
      },
      "execution_count": null,
      "outputs": [
        {
          "output_type": "stream",
          "name": "stderr",
          "text": [
            "\u001b[32m[I 2022-12-12 01:51:39,567]\u001b[0m A new study created in memory with name: no-name-695cddb1-5280-456b-8ece-c26790c5559e\u001b[0m\n",
            "\u001b[32m[I 2022-12-12 03:29:00,249]\u001b[0m Trial 0 finished with value: 0.4346415327564895 and parameters: {'optimizer': 'SGD', 'lr': 0.03436145355133335}. Best is trial 0 with value: 0.4346415327564895.\u001b[0m\n",
            "\u001b[32m[I 2022-12-12 05:06:23,367]\u001b[0m Trial 1 finished with value: 0.42629789864029666 and parameters: {'optimizer': 'Adam', 'lr': 3.515118469905006e-05}. Best is trial 0 with value: 0.4346415327564895.\u001b[0m\n",
            "\u001b[32m[I 2022-12-12 06:43:27,693]\u001b[0m Trial 2 finished with value: 0.43170580964153277 and parameters: {'optimizer': 'SGD', 'lr': 5.407498153361748e-05}. Best is trial 0 with value: 0.4346415327564895.\u001b[0m\n"
          ]
        },
        {
          "output_type": "stream",
          "name": "stdout",
          "text": [
            "Accuracy: 0.4346415327564895\n",
            "Best hyperparameters: {'optimizer': 'SGD', 'lr': 0.03436145355133335}\n",
            "[INFO] Total time to tune hyper parameters: 17508.130 seconds using cuda\n"
          ]
        },
        {
          "output_type": "execute_result",
          "data": {
            "text/html": [
              "\n",
              "  <div id=\"df-e84943c1-365f-4c38-8048-80952a6e37c8\">\n",
              "    <div class=\"colab-df-container\">\n",
              "      <div>\n",
              "<style scoped>\n",
              "    .dataframe tbody tr th:only-of-type {\n",
              "        vertical-align: middle;\n",
              "    }\n",
              "\n",
              "    .dataframe tbody tr th {\n",
              "        vertical-align: top;\n",
              "    }\n",
              "\n",
              "    .dataframe thead th {\n",
              "        text-align: right;\n",
              "    }\n",
              "</style>\n",
              "<table border=\"1\" class=\"dataframe\">\n",
              "  <thead>\n",
              "    <tr style=\"text-align: right;\">\n",
              "      <th></th>\n",
              "      <th>number</th>\n",
              "      <th>value</th>\n",
              "      <th>datetime_start</th>\n",
              "      <th>datetime_complete</th>\n",
              "      <th>duration</th>\n",
              "      <th>params_lr</th>\n",
              "      <th>params_optimizer</th>\n",
              "      <th>state</th>\n",
              "    </tr>\n",
              "  </thead>\n",
              "  <tbody>\n",
              "    <tr>\n",
              "      <th>0</th>\n",
              "      <td>0</td>\n",
              "      <td>0.434642</td>\n",
              "      <td>2022-12-12 01:51:39.570247</td>\n",
              "      <td>2022-12-12 03:29:00.248723</td>\n",
              "      <td>0 days 01:37:20.678476</td>\n",
              "      <td>0.034361</td>\n",
              "      <td>SGD</td>\n",
              "      <td>COMPLETE</td>\n",
              "    </tr>\n",
              "    <tr>\n",
              "      <th>1</th>\n",
              "      <td>1</td>\n",
              "      <td>0.426298</td>\n",
              "      <td>2022-12-12 03:29:00.251812</td>\n",
              "      <td>2022-12-12 05:06:23.367184</td>\n",
              "      <td>0 days 01:37:23.115372</td>\n",
              "      <td>0.000035</td>\n",
              "      <td>Adam</td>\n",
              "      <td>COMPLETE</td>\n",
              "    </tr>\n",
              "    <tr>\n",
              "      <th>2</th>\n",
              "      <td>2</td>\n",
              "      <td>0.431706</td>\n",
              "      <td>2022-12-12 05:06:23.370726</td>\n",
              "      <td>2022-12-12 06:43:27.693323</td>\n",
              "      <td>0 days 01:37:04.322597</td>\n",
              "      <td>0.000054</td>\n",
              "      <td>SGD</td>\n",
              "      <td>COMPLETE</td>\n",
              "    </tr>\n",
              "  </tbody>\n",
              "</table>\n",
              "</div>\n",
              "      <button class=\"colab-df-convert\" onclick=\"convertToInteractive('df-e84943c1-365f-4c38-8048-80952a6e37c8')\"\n",
              "              title=\"Convert this dataframe to an interactive table.\"\n",
              "              style=\"display:none;\">\n",
              "        \n",
              "  <svg xmlns=\"http://www.w3.org/2000/svg\" height=\"24px\"viewBox=\"0 0 24 24\"\n",
              "       width=\"24px\">\n",
              "    <path d=\"M0 0h24v24H0V0z\" fill=\"none\"/>\n",
              "    <path d=\"M18.56 5.44l.94 2.06.94-2.06 2.06-.94-2.06-.94-.94-2.06-.94 2.06-2.06.94zm-11 1L8.5 8.5l.94-2.06 2.06-.94-2.06-.94L8.5 2.5l-.94 2.06-2.06.94zm10 10l.94 2.06.94-2.06 2.06-.94-2.06-.94-.94-2.06-.94 2.06-2.06.94z\"/><path d=\"M17.41 7.96l-1.37-1.37c-.4-.4-.92-.59-1.43-.59-.52 0-1.04.2-1.43.59L10.3 9.45l-7.72 7.72c-.78.78-.78 2.05 0 2.83L4 21.41c.39.39.9.59 1.41.59.51 0 1.02-.2 1.41-.59l7.78-7.78 2.81-2.81c.8-.78.8-2.07 0-2.86zM5.41 20L4 18.59l7.72-7.72 1.47 1.35L5.41 20z\"/>\n",
              "  </svg>\n",
              "      </button>\n",
              "      \n",
              "  <style>\n",
              "    .colab-df-container {\n",
              "      display:flex;\n",
              "      flex-wrap:wrap;\n",
              "      gap: 12px;\n",
              "    }\n",
              "\n",
              "    .colab-df-convert {\n",
              "      background-color: #E8F0FE;\n",
              "      border: none;\n",
              "      border-radius: 50%;\n",
              "      cursor: pointer;\n",
              "      display: none;\n",
              "      fill: #1967D2;\n",
              "      height: 32px;\n",
              "      padding: 0 0 0 0;\n",
              "      width: 32px;\n",
              "    }\n",
              "\n",
              "    .colab-df-convert:hover {\n",
              "      background-color: #E2EBFA;\n",
              "      box-shadow: 0px 1px 2px rgba(60, 64, 67, 0.3), 0px 1px 3px 1px rgba(60, 64, 67, 0.15);\n",
              "      fill: #174EA6;\n",
              "    }\n",
              "\n",
              "    [theme=dark] .colab-df-convert {\n",
              "      background-color: #3B4455;\n",
              "      fill: #D2E3FC;\n",
              "    }\n",
              "\n",
              "    [theme=dark] .colab-df-convert:hover {\n",
              "      background-color: #434B5C;\n",
              "      box-shadow: 0px 1px 3px 1px rgba(0, 0, 0, 0.15);\n",
              "      filter: drop-shadow(0px 1px 2px rgba(0, 0, 0, 0.3));\n",
              "      fill: #FFFFFF;\n",
              "    }\n",
              "  </style>\n",
              "\n",
              "      <script>\n",
              "        const buttonEl =\n",
              "          document.querySelector('#df-e84943c1-365f-4c38-8048-80952a6e37c8 button.colab-df-convert');\n",
              "        buttonEl.style.display =\n",
              "          google.colab.kernel.accessAllowed ? 'block' : 'none';\n",
              "\n",
              "        async function convertToInteractive(key) {\n",
              "          const element = document.querySelector('#df-e84943c1-365f-4c38-8048-80952a6e37c8');\n",
              "          const dataTable =\n",
              "            await google.colab.kernel.invokeFunction('convertToInteractive',\n",
              "                                                     [key], {});\n",
              "          if (!dataTable) return;\n",
              "\n",
              "          const docLinkHtml = 'Like what you see? Visit the ' +\n",
              "            '<a target=\"_blank\" href=https://colab.research.google.com/notebooks/data_table.ipynb>data table notebook</a>'\n",
              "            + ' to learn more about interactive tables.';\n",
              "          element.innerHTML = '';\n",
              "          dataTable['output_type'] = 'display_data';\n",
              "          await google.colab.output.renderOutput(dataTable, element);\n",
              "          const docLink = document.createElement('div');\n",
              "          docLink.innerHTML = docLinkHtml;\n",
              "          element.appendChild(docLink);\n",
              "        }\n",
              "      </script>\n",
              "    </div>\n",
              "  </div>\n",
              "  "
            ],
            "text/plain": [
              "   number     value  ... params_optimizer     state\n",
              "0       0  0.434642  ...              SGD  COMPLETE\n",
              "1       1  0.426298  ...             Adam  COMPLETE\n",
              "2       2  0.431706  ...              SGD  COMPLETE\n",
              "\n",
              "[3 rows x 8 columns]"
            ]
          },
          "metadata": {},
          "execution_count": 25
        }
      ]
    }
  ]
}