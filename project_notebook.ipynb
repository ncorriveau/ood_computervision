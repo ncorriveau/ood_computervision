{
  "nbformat": 4,
  "nbformat_minor": 0,
  "metadata": {
    "colab": {
      "provenance": [],
      "toc_visible": true
    },
    "kernelspec": {
      "name": "python3",
      "display_name": "Python 3"
    },
    "language_info": {
      "name": "python"
    },
    "gpuClass": "standard"
  },
  "cells": [
    {
      "cell_type": "markdown",
      "source": [
        "# Data Preprocessing"
      ],
      "metadata": {
        "id": "hVpCiVQ4-f8b"
      }
    },
    {
      "cell_type": "code",
      "execution_count": 74,
      "metadata": {
        "id": "wM9WNrzj-a0W",
        "colab": {
          "base_uri": "https://localhost:8080/",
          "height": 36
        },
        "outputId": "8c7a95dc-82a9-4f06-8a8d-d77ef9dc1b4f"
      },
      "outputs": [
        {
          "output_type": "execute_result",
          "data": {
            "text/plain": [
              "'cpu'"
            ],
            "application/vnd.google.colaboratory.intrinsic+json": {
              "type": "string"
            }
          },
          "metadata": {},
          "execution_count": 74
        }
      ],
      "source": [
        "import torch\n",
        "from torch import nn\n",
        "import numpy as np \n",
        "import pandas as pd\n",
        "import os\n",
        "from pathlib import Path\n",
        "import random\n",
        "from PIL import Image\n",
        "from matplotlib import pyplot as plt\n",
        "#put on gpu if available \n",
        "device = \"cuda\" if torch.cuda.is_available() else \"cpu\"\n",
        "device\n"
      ]
    },
    {
      "cell_type": "code",
      "source": [
        "'''steps:\n",
        "\n",
        "1.) map the images to the superclass, sublcass in a dict\n",
        "2.) map superclass, sublcass to names \n",
        "2.) loop through training images and put them into appropriate folders\n",
        "    we will build in a way to exclude certain sub classes here \n",
        "3.) loop through testing images and categorize the same way  \n",
        "'''\n",
        "\n",
        "data_path = '/content/drive/MyDrive/NN and DL/projects/Released_Data'\n",
        "train_zip = data_path + '/train_image.zip'\n",
        "test_zip = data_path + 'test_image.zip'\n"
      ],
      "metadata": {
        "id": "CABV1OQQBIOH"
      },
      "execution_count": 2,
      "outputs": []
    },
    {
      "cell_type": "code",
      "source": [
        "def make_class_dict(path):\n",
        "  '''takes class mapping csv and returns dict of {class: name}'''\n",
        "  import pandas as pd\n",
        "  df = pd.read_csv(path)\n",
        "  return df['class'].to_dict()\n",
        "\n",
        "\n",
        "super_class_names = make_class_dict(data_path + '/super_classes_mapping.csv')\n",
        "sub_class_names = make_class_dict(data_path + '/sub_classes_mapping.csv')\n",
        "sub_class_names"
      ],
      "metadata": {
        "id": "jF-u64VoEfqd"
      },
      "execution_count": null,
      "outputs": []
    },
    {
      "cell_type": "code",
      "source": [
        "def make_image_mapping(path):\n",
        "  '''reads the label files and maps image names to (class, sublcass) tuples'''\n",
        "  import pandas as pd\n",
        "  df = pd.read_csv(path)\n",
        "  df = df.set_index('image')\n",
        "  df['combined'] = df.apply(lambda x: (x[0],x[1]), axis=1)\n",
        "  return df['combined'].to_dict()\n",
        "  \n",
        "image_mappings = make_image_mapping(data_path + '/train_data.csv')\n",
        "image_mappings"
      ],
      "metadata": {
        "id": "XFeqDtFQGGZJ"
      },
      "execution_count": null,
      "outputs": []
    },
    {
      "cell_type": "code",
      "source": [
        "def make_dir(root, new_dir, verbose=False):\n",
        "  '''takes a given root path, and a desired directory in that path, and either confirms it exists or creates a new one'''\n",
        "  import requests\n",
        "  import zipfile\n",
        "  from pathlib import Path\n",
        "\n",
        "  data_path = Path(root)\n",
        "  image_path = data_path / new_dir \n",
        " \n",
        "  if image_path.exists() and verbose:\n",
        "      print(f\"{image_path} directory exists.\")\n",
        "  else:\n",
        "    if verbose:\n",
        "      print(f\"Did not find {image_path} directory, creating one...\")\n",
        "      print(f\"{image_path} created\")\n",
        "    image_path.mkdir(parents=True, exist_ok=True)\n",
        "\n",
        "make_dir(data_path, 'train')\n",
        "make_dir(data_path, 'test')"
      ],
      "metadata": {
        "id": "V2RgXpBS_Riw"
      },
      "execution_count": 49,
      "outputs": []
    },
    {
      "cell_type": "code",
      "source": [
        "path = Path('./tmp/train_shuffle')\n",
        "for dirpath, dirnames, filenames in os.walk(path):\n",
        "    print(f\"There are {len(dirnames)} directories and {len(filenames)} images in '{dirpath}'.\")\n",
        "    #for file in filenames:\n",
        "      "
      ],
      "metadata": {
        "id": "Ul_dAnYX_8yd"
      },
      "execution_count": null,
      "outputs": []
    },
    {
      "cell_type": "code",
      "source": [
        "#make the super class folders for training and testing \n",
        "train_path = '/content/drive/MyDrive/NN and DL/projects/Released_Data/train'\n",
        "test_path = '/content/drive/MyDrive/NN and DL/projects/Released_Data/test'\n",
        "\n",
        "superclass_list = pd.read_csv(data_path + '/super_classes_mapping.csv')\n",
        "superclass_list = superclass_list['class'].to_list()\n",
        "print(superclass_list)\n",
        "for sclass in superclass_list:\n",
        "  make_dir(train_path, sclass)\n",
        "  make_dir(test_path, sclass)\n",
        "\n",
        "print(os.listdir(train_path))"
      ],
      "metadata": {
        "id": "spMZhthHghQn"
      },
      "execution_count": null,
      "outputs": []
    },
    {
      "cell_type": "code",
      "source": [
        "def get_train_file_path(train_zip_path, sub_class_names, super_class_names, image_mappings, exclude_list = []):\n",
        "  '''\n",
        "  loops through the training zip folder and creates folder structure of \n",
        "  train/\n",
        "    super class/ \n",
        "      sub class/\n",
        "    \n",
        "  \n",
        "    where the image is moved from the original folder to the appropiate subclass folder. \n",
        "    \n",
        "    train_path is the path to the train_image.zip folder, \n",
        "    sub_class_names, super_class_names, and image_mappings are all dictionaries \n",
        "    mapping sub class indexes to names, super class indexes to names, and images to \n",
        "    their respective super class, sub class \n",
        "\n",
        "    optional argument exception list where you can designate subclasses \n",
        "    you'd like to not copy over to the training set\n",
        "    '''\n",
        "  import shutil\n",
        "  import zipfile\n",
        "  import os\n",
        "\n",
        "  train_path = '/content/drive/MyDrive/NN and DL/projects/Released_Data/train'\n",
        "\n",
        "  with zipfile.ZipFile(train_zip_path, 'r') as zip_ref:\n",
        "      zip_ref.extractall('./tmp')\n",
        "\n",
        "  path = Path('./tmp/train_shuffle')\n",
        "  count = 0\n",
        "\n",
        "  for dirpath, dirnames, images in os.walk(path):\n",
        "    for image in images:\n",
        "      count+=1\n",
        "      if count%100 == 0:\n",
        "        print(f\"{count} images copied\")\n",
        "\n",
        "      if image != '.DS_Store':\n",
        "        super_class, sub_class  = image_mappings[image]\n",
        "        #print(super_class,sub_class)\n",
        "        super_class_name = super_class_names[super_class]\n",
        "        sub_class_name = sub_class_names[sub_class]\n",
        "        sub_class_name = sub_class_name.replace(\" \", \"\").split(',')[0]\n",
        "\n",
        "        #create directories if they don't already exist\n",
        "        make_dir(train_path+'/'+super_class_name, sub_class_name)\n",
        "\n",
        "        #get path to superclass folder, subclass folder\n",
        "        sub_path = train_path+\"/\"+super_class_name+\"/\"+sub_class_name\n",
        "        #print(f\"super path : {super_path}\\n sub path = {sub_path}\")\n",
        "        if Path(sub_path + \"/\" + image).is_dir():\n",
        "          print(f\"{sub_path} + \"/\" {image} already present\")\n",
        "        else:\n",
        "          shutil.copy(dirpath + '/' + image, sub_path)\n"
      ],
      "metadata": {
        "id": "9WwZmcDeD1PX"
      },
      "execution_count": 53,
      "outputs": []
    },
    {
      "cell_type": "code",
      "source": [
        "train_path = '/content/drive/MyDrive/NN and DL/projects/Released_Data/train_image.zip'\n",
        "get_train_file_path(train_path, sub_class_names, super_class_names, image_mappings)"
      ],
      "metadata": {
        "id": "PZIRqFKXU0sj"
      },
      "execution_count": null,
      "outputs": []
    },
    {
      "cell_type": "markdown",
      "source": [
        "# Data Augmentation"
      ],
      "metadata": {
        "id": "psudbRSqlnjd"
      }
    },
    {
      "cell_type": "code",
      "source": [
        "import torch\n",
        "from torch.utils.data import DataLoader\n",
        "from torchvision import datasets, transforms"
      ],
      "metadata": {
        "id": "532ZmenQlpsJ"
      },
      "execution_count": 54,
      "outputs": []
    },
    {
      "cell_type": "code",
      "source": [
        "#kind've randomly created this from available transformations on pytorch, can play around with this \n",
        "#https://pytorch.org/vision/stable/generated/torchvision.transforms.RandomRotation.html#torchvision.transforms.RandomRotation\n",
        "\n",
        "train_transforms = train_transforms = transforms.Compose([\n",
        "    transforms.Resize((12, 12)),\n",
        "    transforms.RandomGrayscale(0.5),\n",
        "    transforms.RandomAdjustSharpness(2, 0.5), # adjust sharpness by a factor of 2 with prob 0.5 of it being adjusted\n",
        "    transforms.RandomInvert(p=0.5),\n",
        "    transforms.RandomHorizontalFlip(p=0.5),\n",
        "    transforms.TrivialAugmentWide(num_magnitude_bins=31), # change intensity of image with max being 31 \n",
        "    transforms.ToTensor() # use ToTensor() last to get everything between 0 & 1\n",
        "])\n"
      ],
      "metadata": {
        "id": "6ui-B68wmPLv"
      },
      "execution_count": 91,
      "outputs": []
    },
    {
      "cell_type": "code",
      "source": [
        "test_transforms = transforms.Compose([\n",
        "    transforms.Resize((12,12)),\n",
        "    transforms.ToTensor()\n",
        "])\n"
      ],
      "metadata": {
        "id": "ZGVAY9TwoVyd"
      },
      "execution_count": 87,
      "outputs": []
    },
    {
      "cell_type": "code",
      "source": [
        "def plot_transformed_images(image_paths, transform, n=3, seed=42):\n",
        "    \"\"\"Plots a series of random images from image_paths.\n",
        "\n",
        "    Will open n image paths from image_paths, transform them\n",
        "    with transform and plot them side by side.\n",
        "\n",
        "    Args:\n",
        "        image_paths (list): List of target image paths. \n",
        "        transform (PyTorch Transforms): Transforms to apply to images.\n",
        "        n (int, optional): Number of images to plot. Defaults to 3.\n",
        "        seed (int, optional): Random seed for the random generator. Defaults to 42.\n",
        "    \"\"\"\n",
        "\n",
        "    random.seed(seed)\n",
        "    random_image_paths = random.sample(image_paths, k=n)\n",
        "    for image_path in random_image_paths:\n",
        "        with Image.open(image_path) as f:\n",
        "            fig, ax = plt.subplots(1, 2)\n",
        "            ax[0].imshow(f) \n",
        "            ax[0].set_title(f\"Original \\nSize: {f.size}\")\n",
        "            ax[0].axis(\"off\")\n",
        "\n",
        "            # Transform and plot image\n",
        "            # Note: permute() will change shape of image to suit matplotlib \n",
        "            # (PyTorch default is [C, H, W] but Matplotlib is [H, W, C])\n",
        "            transformed_image = transform(f).permute(1, 2, 0) \n",
        "            ax[1].imshow(transformed_image) \n",
        "            ax[1].set_title(f\"Transformed \\nSize: {transformed_image.shape}\")\n",
        "            ax[1].axis(\"off\")\n",
        "\n",
        "            fig.suptitle(f\"Class: {image_path.parent.stem}\", fontsize=16)\n"
      ],
      "metadata": {
        "id": "byzT0FZWqU-p"
      },
      "execution_count": 78,
      "outputs": []
    },
    {
      "cell_type": "code",
      "source": [
        "#this returns a posix path to every image in our training directory \n",
        "image_paths = list(Path(train_path).glob(\"*/*/*.jpg\"))\n",
        "\n",
        "plot_transformed_images(image_paths, \n",
        "                        transform=train_transforms, \n",
        "                        n=3)\n"
      ],
      "metadata": {
        "colab": {
          "base_uri": "https://localhost:8080/",
          "height": 701
        },
        "id": "71NKTy_Nq0u7",
        "outputId": "cc669857-8cc9-424e-bac1-3ff0f8ed8c75"
      },
      "execution_count": 92,
      "outputs": [
        {
          "output_type": "display_data",
          "data": {
            "text/plain": [
              "<Figure size 432x288 with 2 Axes>"
            ],
            "image/png": "[encoded data removed]"
          },
          "metadata": {
            "needs_background": "light"
          }
        },
        {
          "output_type": "display_data",
          "data": {
            "text/plain": [
              "<Figure size 432x288 with 2 Axes>"
            ],
            "image/png": "[encoded data removed]"
          },
          "metadata": {
            "needs_background": "light"
          }
        },
        {
          "output_type": "display_data",
          "data": {
            "text/plain": [
              "<Figure size 432x288 with 2 Axes>"
            ],
            "image/png": "[encoded data removed]"
          },
          "metadata": {
            "needs_background": "light"
          }
        }
      ]
    },
    {
      "cell_type": "code",
      "source": [
        "from torchvision import datasets\n",
        "train_data_simple = datasets.ImageFolder(root=train_path, transform=train_transforms)\n",
        "\n",
        "# 2. Turn data into DataLoaders\n",
        "import os\n",
        "from torch.utils.data import DataLoader\n",
        "\n",
        "# Setup batch size and number of workers \n",
        "BATCH_SIZE = 32\n",
        "NUM_WORKERS = os.cpu_count()\n",
        "print(f\"Creating DataLoader's with batch size {BATCH_SIZE} and {NUM_WORKERS} workers.\")\n",
        "\n",
        "# Create DataLoader's\n",
        "train_dataloader_simple = DataLoader(train_data_simple, \n",
        "                                     batch_size=BATCH_SIZE, \n",
        "                                     shuffle=True, \n",
        "                                     num_workers=NUM_WORKERS)\n",
        "\n",
        "train_dataloader_simple"
      ],
      "metadata": {
        "colab": {
          "base_uri": "https://localhost:8080/"
        },
        "id": "O_wDS85vrhgT",
        "outputId": "96d7dc6f-4629-4ade-ed82-c79d040cab21"
      },
      "execution_count": 93,
      "outputs": [
        {
          "output_type": "stream",
          "name": "stdout",
          "text": [
            "Creating DataLoader's with batch size 32 and 2 workers.\n"
          ]
        },
        {
          "output_type": "execute_result",
          "data": {
            "text/plain": [
              "<torch.utils.data.dataloader.DataLoader at 0x7faa64516ed0>"
            ]
          },
          "metadata": {},
          "execution_count": 93
        }
      ]
    },
    {
      "cell_type": "code",
      "source": [
        "img_batch, label_batch = next(iter(train_dataloader_simple))\n",
        "print(label_batch)"
      ],
      "metadata": {
        "colab": {
          "base_uri": "https://localhost:8080/"
        },
        "id": "Y312m9MCsEI9",
        "outputId": "6c99b9ba-343e-4cc8-eeab-1d7427101cf1"
      },
      "execution_count": 94,
      "outputs": [
        {
          "output_type": "stream",
          "name": "stdout",
          "text": [
            "tensor([0, 1, 1, 0, 2, 2, 2, 2, 0, 1, 2, 1, 0, 1, 2, 2, 2, 2, 1, 1, 2, 1, 1, 2,\n",
            "        1, 2, 0, 2, 2, 2, 1, 0])\n"
          ]
        }
      ]
    },
    {
      "cell_type": "code",
      "source": [],
      "metadata": {
        "id": "5id7478jvpQ6"
      },
      "execution_count": null,
      "outputs": []
    }
  ]
}