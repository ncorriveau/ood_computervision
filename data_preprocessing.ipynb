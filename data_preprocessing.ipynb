{
  "nbformat": 4,
  "nbformat_minor": 0,
  "metadata": {
    "colab": {
      "provenance": [],
      "toc_visible": true,
      "include_colab_link": true
    },
    "kernelspec": {
      "name": "python3",
      "display_name": "Python 3"
    },
    "language_info": {
      "name": "python"
    },
    "gpuClass": "standard"
  },
  "cells": [
    {
      "cell_type": "markdown",
      "metadata": {
        "id": "view-in-github",
        "colab_type": "text"
      },
      "source": [
        "<a href=\"https://colab.research.google.com/github/ncorriveau/ood_computervision/blob/main/data_preprocessing.ipynb\" target=\"_parent\"><img src=\"https://colab.research.google.com/assets/colab-badge.svg\" alt=\"Open In Colab\"/></a>"
      ]
    },
    {
      "cell_type": "markdown",
      "source": [
        "# Data Preprocessing"
      ],
      "metadata": {
        "id": "hVpCiVQ4-f8b"
      }
    },
    {
      "cell_type": "code",
      "execution_count": null,
      "metadata": {
        "id": "wM9WNrzj-a0W",
        "colab": {
          "base_uri": "https://localhost:8080/",
          "height": 36
        },
        "outputId": "6ac4bd0d-63ea-410f-dad5-6efff8cf8912"
      },
      "outputs": [
        {
          "output_type": "execute_result",
          "data": {
            "text/plain": [
              "'cpu'"
            ],
            "application/vnd.google.colaboratory.intrinsic+json": {
              "type": "string"
            }
          },
          "metadata": {},
          "execution_count": 2
        }
      ],
      "source": [
        "import torch\n",
        "from torch import nn\n",
        "import numpy as np \n",
        "import pandas as pd\n",
        "import os\n",
        "from pathlib import Path\n",
        "import random\n",
        "from PIL import Image\n",
        "from matplotlib import pyplot as plt\n",
        "import requests\n",
        "import zipfile\n",
        "import shutil\n",
        "\n",
        "#put on gpu if available \n",
        "device = \"cuda\" if torch.cuda.is_available() else \"cpu\"\n",
        "device\n"
      ]
    },
    {
      "cell_type": "code",
      "source": [
        "'''steps:\n",
        "\n",
        "1.) map the images to the superclass, sublcass in a dict\n",
        "2.) map superclass, sublcass to names \n",
        "2.) loop through training images and put them into appropriate folders\n",
        "    we will build in a way to exclude certain sub classes here \n",
        "3.) loop through testing images and categorize the same way  \n",
        "'''\n",
        "\n",
        "data_path = '/content/drive/MyDrive/NN and DL/projects/Released_Data'\n",
        "train_zip = data_path + '/train_image.zip'\n",
        "test_zip = data_path + 'test_image.zip'\n"
      ],
      "metadata": {
        "id": "CABV1OQQBIOH"
      },
      "execution_count": null,
      "outputs": []
    },
    {
      "cell_type": "code",
      "source": [
        "from google.colab import drive\n",
        "drive.mount('/content/drive')"
      ],
      "metadata": {
        "colab": {
          "base_uri": "https://localhost:8080/"
        },
        "id": "UdmVpDK5dym-",
        "outputId": "5bd084d8-dbae-4503-d00e-edc95f42c2aa"
      },
      "execution_count": null,
      "outputs": [
        {
          "output_type": "stream",
          "name": "stdout",
          "text": [
            "Mounted at /content/drive\n"
          ]
        }
      ]
    },
    {
      "cell_type": "code",
      "source": [
        "'''uncomment out this cell if you'd like to delete the existing train/test directories to reshape them'''\n",
        "# shutil.rmtree(data_path+'/train', ignore_errors=False, onerror=None)\n",
        "# shutil.rmtree(data_path+'/test', ignore_errors=False, onerror=None)\n"
      ],
      "metadata": {
        "id": "1FUFiGmjaMfR"
      },
      "execution_count": null,
      "outputs": []
    },
    {
      "cell_type": "code",
      "source": [
        "def make_class_dict(path):\n",
        "  '''takes class mapping csv and returns dict of {class: name}'''\n",
        "  import pandas as pd\n",
        "  df = pd.read_csv(path)\n",
        "  return df['class'].to_dict()\n",
        "\n",
        "\n",
        "super_class_names = make_class_dict(data_path + '/super_classes_mapping.csv')\n",
        "sub_class_names = make_class_dict(data_path + '/sub_classes_mapping.csv')\n",
        "sub_class_names"
      ],
      "metadata": {
        "id": "jF-u64VoEfqd"
      },
      "execution_count": null,
      "outputs": []
    },
    {
      "cell_type": "code",
      "source": [
        "def make_image_mapping(path):\n",
        "  '''reads the label files and maps image names to (class, sublcass) tuples'''\n",
        "  import pandas as pd\n",
        "  df = pd.read_csv(path)\n",
        "  df = df.set_index('image')\n",
        "  df['combined'] = df.apply(lambda x: (x[0],x[1]), axis=1)\n",
        "  return df['combined'].to_dict()\n",
        "  \n",
        "image_mappings = make_image_mapping(data_path + '/train_data.csv')\n",
        "image_mappings"
      ],
      "metadata": {
        "id": "XFeqDtFQGGZJ"
      },
      "execution_count": null,
      "outputs": []
    },
    {
      "cell_type": "code",
      "source": [
        "def make_dir(root, new_dir, verbose=False):\n",
        "  '''takes a given root path, and a desired directory in that path, and either confirms it exists or creates a new one'''\n",
        "\n",
        "  data_path = Path(root)\n",
        "  image_path = data_path / new_dir \n",
        " \n",
        "  if image_path.exists() and verbose:\n",
        "      print(f\"{image_path} directory exists.\")\n",
        "  else:\n",
        "    if verbose:\n",
        "      print(f\"Did not find {image_path} directory, creating one...\")\n",
        "      print(f\"{image_path} created\")\n",
        "    image_path.mkdir(parents=True, exist_ok=True)\n",
        "\n",
        "make_dir(data_path, 'train')\n",
        "make_dir(data_path, 'test')"
      ],
      "metadata": {
        "id": "V2RgXpBS_Riw"
      },
      "execution_count": null,
      "outputs": []
    },
    {
      "cell_type": "code",
      "source": [
        "path = Path('./tmp/train_shuffle')\n",
        "for dirpath, dirnames, filenames in os.walk(path):\n",
        "    print(f\"There are {len(dirnames)} directories and {len(filenames)} images in '{dirpath}'.\")\n",
        "    #for file in filenames:\n",
        "      "
      ],
      "metadata": {
        "id": "Ul_dAnYX_8yd"
      },
      "execution_count": null,
      "outputs": []
    },
    {
      "cell_type": "code",
      "source": [
        "#make the super class folders for training and testing \n",
        "train_path = '/content/drive/MyDrive/NN and DL/projects/Released_Data/train'\n",
        "test_path = '/content/drive/MyDrive/NN and DL/projects/Released_Data/test'\n",
        "\n",
        "superclass_list = pd.read_csv(data_path + '/super_classes_mapping.csv')\n",
        "superclass_list = superclass_list['class'].to_list()\n",
        "#print(superclass_list)\n",
        "for sclass in superclass_list:\n",
        "  make_dir(train_path, sclass)\n",
        "  make_dir(test_path, sclass)\n",
        "\n",
        "print(os.listdir(train_path))"
      ],
      "metadata": {
        "id": "spMZhthHghQn",
        "colab": {
          "base_uri": "https://localhost:8080/"
        },
        "outputId": "7dc26c3f-114f-4680-8f62-ae335a648079"
      },
      "execution_count": null,
      "outputs": [
        {
          "output_type": "stream",
          "name": "stdout",
          "text": [
            "['bird', 'dog', 'reptile']\n"
          ]
        }
      ]
    },
    {
      "cell_type": "code",
      "source": [
        "def create_folder_structure(zip_path, dest_path, sub_class_names, super_class_names, image_mappings, exclude_list = []):\n",
        "  '''\n",
        "  loops through the zip folder and creates folder structure in the dest_path of \n",
        "    super class/ \n",
        "      sub class/\n",
        "    \n",
        "  \n",
        "    where the image is moved from the original folder to the appropiate subclass folder. \n",
        "    \n",
        "    zip_path is the path to the train_image.zip folder, \n",
        "    sub_class_names, super_class_names, and image_mappings are all dictionaries \n",
        "    mapping sub class indexes to names, super class indexes to names, and images to \n",
        "    their respective super class, sub class \n",
        "\n",
        "    optional argument exception list where you can designate subclasses \n",
        "    you'd like to not copy over. This would be used if we want to exclude \n",
        "    training examples from our training set. \n",
        "    '''\n",
        "\n",
        "  with zipfile.ZipFile(zip_path, 'r') as zip_ref:\n",
        "      zip_ref.extractall('./tmp')\n",
        "\n",
        "  path = Path('./tmp/train_shuffle')\n",
        "  count = 0\n",
        "\n",
        "  for dirpath, dirnames, images in os.walk(path):\n",
        "    for image in images:\n",
        "      count+=1\n",
        "      if count%100 == 0:\n",
        "        print(f\"{count} images copied\")\n",
        "\n",
        "      if image != '.DS_Store':\n",
        "        super_class, sub_class  = image_mappings[image]\n",
        "        #print(super_class,sub_class)\n",
        "        super_class_name = super_class_names[super_class]\n",
        "        sub_class_name = sub_class_names[sub_class]\n",
        "        sub_class_name = sub_class_name.replace(\" \", \"\").split(',')[0]\n",
        "\n",
        "        if sub_class_name not in exclude_list:\n",
        "          print(f\"making {sub_class_name} directory\")\n",
        "\n",
        "          #create directories if they don't already exist\n",
        "          make_dir(dest_path+'/'+super_class_name, sub_class_name)\n",
        "\n",
        "          #get path to superclass folder, subclass folder\n",
        "          sub_path = dest_path+\"/\"+super_class_name+\"/\"+sub_class_name\n",
        "          #print(f\"super path : {super_path}\\n sub path = {sub_path}\")\n",
        "          if Path(sub_path + \"/\" + image).is_dir():\n",
        "            print(f\"{sub_path} + \"/\" {image} already present\")\n",
        "          else:\n",
        "            shutil.copy(dirpath + '/' + image, sub_path)\n"
      ],
      "metadata": {
        "id": "9WwZmcDeD1PX"
      },
      "execution_count": null,
      "outputs": []
    },
    {
      "cell_type": "code",
      "source": [
        "zippath = '/content/drive/MyDrive/NN and DL/projects/Released_Data/train_image.zip'\n",
        "dest_path = '/content/drive/MyDrive/NN and DL/projects/Released_Data/train'\n",
        "create_folder_structure(zippath, dest_path, sub_class_names, super_class_names, image_mappings)"
      ],
      "metadata": {
        "id": "PZIRqFKXU0sj"
      },
      "execution_count": null,
      "outputs": []
    },
    {
      "cell_type": "code",
      "source": [
        "zippath = '/content/drive/MyDrive/NN and DL/projects/Released_Data/test_image.zip'\n",
        "dest_path = '/content/drive/MyDrive/NN and DL/projects/Released_Data/test'\n",
        "create_folder_structure(zippath, dest_path, sub_class_names, super_class_names, image_mappings)"
      ],
      "metadata": {
        "id": "noHkmwU5t394"
      },
      "execution_count": null,
      "outputs": []
    },
    {
      "cell_type": "markdown",
      "source": [
        "# Data Augmentation"
      ],
      "metadata": {
        "id": "psudbRSqlnjd"
      }
    },
    {
      "cell_type": "code",
      "source": [
        "import torch\n",
        "from torch.utils.data import DataLoader\n",
        "from torchvision import datasets, transforms"
      ],
      "metadata": {
        "id": "532ZmenQlpsJ"
      },
      "execution_count": null,
      "outputs": []
    },
    {
      "cell_type": "code",
      "source": [
        "#kind've randomly created this from available transformations on pytorch, can play around with this \n",
        "#https://pytorch.org/vision/stable/generated/torchvision.transforms.RandomRotation.html#torchvision.transforms.RandomRotation\n",
        "\n",
        "train_transforms = train_transforms = transforms.Compose([\n",
        "    transforms.Resize((8, 8)),\n",
        "    #transforms.RandomGrayscale(0.5),\n",
        "    #transforms.RandomAdjustSharpness(2, 0.5), # adjust sharpness by a factor of 2 with prob 0.5 of it being adjusted\n",
        "    transforms.RandomInvert(p=0.5),\n",
        "    transforms.RandomHorizontalFlip(p=0.5),\n",
        "    transforms.TrivialAugmentWide(num_magnitude_bins=31), # change intensity of image with max being 31 \n",
        "    transforms.ToTensor() # use ToTensor() last to get everything between 0 & 1\n",
        "])\n"
      ],
      "metadata": {
        "id": "6ui-B68wmPLv"
      },
      "execution_count": null,
      "outputs": []
    },
    {
      "cell_type": "code",
      "source": [
        "test_transforms = transforms.Compose([\n",
        "    transforms.Resize((8,8)),\n",
        "    transforms.ToTensor()\n",
        "])\n"
      ],
      "metadata": {
        "id": "ZGVAY9TwoVyd"
      },
      "execution_count": null,
      "outputs": []
    },
    {
      "cell_type": "code",
      "source": [
        "def plot_transformed_images(image_paths, transform, n=3, seed=42):\n",
        "    \"\"\"Plots a series of random images from image_paths.\n",
        "\n",
        "    Will open n image paths from image_paths, transform them\n",
        "    with transform and plot them side by side.\n",
        "\n",
        "    Args:\n",
        "        image_paths (list): List of target image paths. \n",
        "        transform (PyTorch Transforms): Transforms to apply to images.\n",
        "        n (int, optional): Number of images to plot. Defaults to 3.\n",
        "        seed (int, optional): Random seed for the random generator. Defaults to 42.\n",
        "    \"\"\"\n",
        "\n",
        "    random.seed(seed)\n",
        "    random_image_paths = random.sample(image_paths, k=n)\n",
        "    for image_path in random_image_paths:\n",
        "        with Image.open(image_path) as f:\n",
        "            fig, ax = plt.subplots(1, 2)\n",
        "            ax[0].imshow(f) \n",
        "            ax[0].set_title(f\"Original \\nSize: {f.size}\")\n",
        "            ax[0].axis(\"off\")\n",
        "\n",
        "            # Transform and plot image\n",
        "            # Note: permute() will change shape of image to suit matplotlib \n",
        "            # (PyTorch default is [C, H, W] but Matplotlib is [H, W, C])\n",
        "            transformed_image = transform(f).permute(1, 2, 0) \n",
        "            ax[1].imshow(transformed_image) \n",
        "            ax[1].set_title(f\"Transformed \\nSize: {transformed_image.shape}\")\n",
        "            ax[1].axis(\"off\")\n",
        "\n",
        "            fig.suptitle(f\"Class: {image_path.parent.stem}\", fontsize=16)\n"
      ],
      "metadata": {
        "id": "byzT0FZWqU-p"
      },
      "execution_count": null,
      "outputs": []
    },
    {
      "cell_type": "code",
      "source": [
        "#this returns a posix path to every image in our training directory \n",
        "image_paths = list(Path(train_path).glob(\"*/*/*.jpg\"))\n",
        "\n",
        "plot_transformed_images(image_paths, \n",
        "                        transform=train_transforms, \n",
        "                        n=3)\n"
      ],
      "metadata": {
        "colab": {
          "base_uri": "https://localhost:8080/",
          "height": 701
        },
        "id": "71NKTy_Nq0u7",
        "outputId": "ce23d2d0-d784-48b9-fb59-c0883f4cbb6b"
      },
      "execution_count": null,
      "outputs": [
        {
          "output_type": "display_data",
          "data": {
            "text/plain": [
              "<Figure size 432x288 with 2 Axes>"
            ],
            "image/png": "[encoded data removed]"
          },
          "metadata": {
            "needs_background": "light"
          }
        },
        {
          "output_type": "display_data",
          "data": {
            "text/plain": [
              "<Figure size 432x288 with 2 Axes>"
            ],
            "image/png": "[encoded data removed]"
          },
          "metadata": {
            "needs_background": "light"
          }
        },
        {
          "output_type": "display_data",
          "data": {
            "text/plain": [
              "<Figure size 432x288 with 2 Axes>"
            ],
            "image/png": "[encoded data removed]"
          },
          "metadata": {
            "needs_background": "light"
          }
        }
      ]
    },
    {
      "cell_type": "code",
      "source": [
        "from torchvision import datasets\n",
        "train_data_super_class = datasets.ImageFolder(root=train_path, transform=train_transforms)\n",
        "train_data_sub_class_dog = datasets.ImageFolder(root=train_path+'/dog', transform=train_transforms)\n",
        "train_data_sub_class_reptile = datasets.ImageFolder(root=train_path+'/reptile', transform=train_transforms)\n",
        "train_data_sub_class_bird = datasets.ImageFolder(root=train_path+'/bird', transform=train_transforms)\n",
        "\n",
        "# 2. Turn data into DataLoaders\n",
        "import os\n",
        "from torch.utils.data import DataLoader\n",
        "\n",
        "# Setup batch size and number of workers \n",
        "BATCH_SIZE = 32\n",
        "NUM_WORKERS = os.cpu_count()\n",
        "\n",
        "train_ds_super = DataLoader(train_data_super_class, \n",
        "                            batch_size=BATCH_SIZE, \n",
        "                            shuffle=True, \n",
        "                            num_workers=NUM_WORKERS)\n",
        "\n",
        "train_ds_sublcass_dog =DataLoader(train_data_sub_class_dog, \n",
        "                                  batch_size=BATCH_SIZE, \n",
        "                                  shuffle=True, \n",
        "                                  num_workers=NUM_WORKERS)\n",
        "\n",
        "\n",
        "train_ds_sublcass_bird =DataLoader(train_data_sub_class_bird, \n",
        "                                  batch_size=BATCH_SIZE, \n",
        "                                  shuffle=True, \n",
        "                                  num_workers=NUM_WORKERS)\n",
        "\n",
        "train_ds_sublcass_reptile =DataLoader(train_data_sub_class_reptile, \n",
        "                                  batch_size=BATCH_SIZE, \n",
        "                                  shuffle=True, \n",
        "                                  num_workers=NUM_WORKERS)\n"
      ],
      "metadata": {
        "id": "O_wDS85vrhgT"
      },
      "execution_count": null,
      "outputs": []
    },
    {
      "cell_type": "code",
      "source": [
        "img_batch, label_batch = next(iter(train_ds_sublcass_reptile))\n",
        "print(label_batch)"
      ],
      "metadata": {
        "id": "Y312m9MCsEI9"
      },
      "execution_count": null,
      "outputs": []
    },
    {
      "cell_type": "code",
      "source": [],
      "metadata": {
        "id": "XDDGHOUOmmIX"
      },
      "execution_count": null,
      "outputs": []
    }
  ]
}